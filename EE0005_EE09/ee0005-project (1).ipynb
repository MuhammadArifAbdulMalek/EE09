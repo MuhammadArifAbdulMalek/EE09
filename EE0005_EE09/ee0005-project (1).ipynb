{
 "cells": [
  {
   "cell_type": "code",
   "execution_count": 1,
   "metadata": {
    "_cell_guid": "b1076dfc-b9ad-4769-8c92-a6c4dae69d19",
    "_uuid": "8f2839f25d086af736a60e9eeb907d3b93b6e0e5",
    "cell_id": "00000-329a234d-c27c-4b56-bb32-4767136955b8",
    "deepnote_cell_type": "code",
    "deepnote_to_be_reexecuted": false,
    "execution": {
     "iopub.execute_input": "2021-10-20T04:55:39.248296Z",
     "iopub.status.busy": "2021-10-20T04:55:39.24791Z",
     "iopub.status.idle": "2021-10-20T04:55:39.26131Z",
     "shell.execute_reply": "2021-10-20T04:55:39.260323Z",
     "shell.execute_reply.started": "2021-10-20T04:55:39.248263Z"
    },
    "execution_millis": 171578,
    "execution_start": 1635864816355,
    "scrolled": true,
    "source_hash": "4af9056a"
   },
   "outputs": [],
   "source": [
    "# This Python 3 environment comes with many helpful analytics libraries installed\n",
    "# It is defined by the kaggle/python Docker image: https://github.com/kaggle/docker-python\n",
    "# For example, here's several helpful packages to load\n",
    "\n",
    "import numpy as np # linear algebra\n",
    "import pandas as pd # data processing, CSV file I/O (e.g. pd.read_csv)\n",
    "\n",
    "# Input data files are available in the read-only \"../input/\" directory\n",
    "# For example, running this (by clicking run or pressing Shift+Enter) will list all files under the input directory\n",
    "\n",
    "import os\n",
    "for dirname, _, filenames in os.walk('/kaggle/input'):\n",
    "    for filename in filenames:\n",
    "        print(os.path.join(dirname, filename))\n",
    "\n",
    "# You can write up to 20GB to the current directory (/kaggle/working/) that gets preserved as output when you create a version using \"Save & Run All\" \n",
    "# You can also write temporary files to /kaggle/temp/, but they won't be saved outside of the current session"
   ]
  },
  {
   "cell_type": "markdown",
   "metadata": {
    "cell_id": "00001-04bfad1f-6c89-4ad6-9b40-0babff7073e1",
    "deepnote_cell_type": "markdown"
   },
   "source": [
    "# Google  Play Store Apps  "
   ]
  },
  {
   "cell_type": "code",
   "execution_count": 2,
   "metadata": {
    "cell_id": "00002-550bbdd3-0f65-4f44-82d7-6923ffb8c038",
    "deepnote_cell_type": "code",
    "deepnote_to_be_reexecuted": false,
    "execution": {
     "iopub.execute_input": "2021-10-20T04:55:39.26404Z",
     "iopub.status.busy": "2021-10-20T04:55:39.263716Z",
     "iopub.status.idle": "2021-10-20T04:55:39.276476Z",
     "shell.execute_reply": "2021-10-20T04:55:39.274949Z",
     "shell.execute_reply.started": "2021-10-20T04:55:39.263998Z"
    },
    "execution_millis": 1620,
    "execution_start": 1635864816355,
    "scrolled": true,
    "source_hash": "d3fc59f2"
   },
   "outputs": [],
   "source": [
    "import pandas as pd\n",
    "import numpy as np\n",
    "import matplotlib.pyplot as plt\n",
    "import matplotlib.ticker as mticker\n",
    "import plotly.express as px\n",
    "import seaborn as sb\n",
    "sb.set(style='darkgrid')"
   ]
  },
  {
   "cell_type": "code",
   "execution_count": 3,
   "metadata": {
    "cell_id": "00003-8c33cfda-6f89-46d6-9ba7-0243d8e01976",
    "deepnote_cell_type": "code",
    "deepnote_to_be_reexecuted": false,
    "execution": {
     "iopub.execute_input": "2021-10-20T04:55:39.278309Z",
     "iopub.status.busy": "2021-10-20T04:55:39.278009Z",
     "iopub.status.idle": "2021-10-20T04:55:39.34791Z",
     "shell.execute_reply": "2021-10-20T04:55:39.347149Z",
     "shell.execute_reply.started": "2021-10-20T04:55:39.278276Z"
    },
    "execution_millis": 124,
    "execution_start": 1635864817990,
    "scrolled": true,
    "source_hash": "9ac5f781"
   },
   "outputs": [
    {
     "data": {
      "text/html": [
       "<div>\n",
       "<style scoped>\n",
       "    .dataframe tbody tr th:only-of-type {\n",
       "        vertical-align: middle;\n",
       "    }\n",
       "\n",
       "    .dataframe tbody tr th {\n",
       "        vertical-align: top;\n",
       "    }\n",
       "\n",
       "    .dataframe thead th {\n",
       "        text-align: right;\n",
       "    }\n",
       "</style>\n",
       "<table border=\"1\" class=\"dataframe\">\n",
       "  <thead>\n",
       "    <tr style=\"text-align: right;\">\n",
       "      <th></th>\n",
       "      <th>App</th>\n",
       "      <th>Category</th>\n",
       "      <th>Rating</th>\n",
       "      <th>Reviews</th>\n",
       "      <th>Size</th>\n",
       "      <th>Installs</th>\n",
       "      <th>Type</th>\n",
       "      <th>Price</th>\n",
       "      <th>Content Rating</th>\n",
       "      <th>Genres</th>\n",
       "      <th>Last Updated</th>\n",
       "      <th>Current Ver</th>\n",
       "      <th>Android Ver</th>\n",
       "    </tr>\n",
       "  </thead>\n",
       "  <tbody>\n",
       "    <tr>\n",
       "      <th>0</th>\n",
       "      <td>Photo Editor &amp; Candy Camera &amp; Grid &amp; ScrapBook</td>\n",
       "      <td>ART_AND_DESIGN</td>\n",
       "      <td>4.1</td>\n",
       "      <td>159</td>\n",
       "      <td>19M</td>\n",
       "      <td>10,000+</td>\n",
       "      <td>Free</td>\n",
       "      <td>0</td>\n",
       "      <td>Everyone</td>\n",
       "      <td>Art &amp; Design</td>\n",
       "      <td>January 7, 2018</td>\n",
       "      <td>1.0.0</td>\n",
       "      <td>4.0.3 and up</td>\n",
       "    </tr>\n",
       "    <tr>\n",
       "      <th>1</th>\n",
       "      <td>Coloring book moana</td>\n",
       "      <td>ART_AND_DESIGN</td>\n",
       "      <td>3.9</td>\n",
       "      <td>967</td>\n",
       "      <td>14M</td>\n",
       "      <td>500,000+</td>\n",
       "      <td>Free</td>\n",
       "      <td>0</td>\n",
       "      <td>Everyone</td>\n",
       "      <td>Art &amp; Design;Pretend Play</td>\n",
       "      <td>January 15, 2018</td>\n",
       "      <td>2.0.0</td>\n",
       "      <td>4.0.3 and up</td>\n",
       "    </tr>\n",
       "    <tr>\n",
       "      <th>2</th>\n",
       "      <td>U Launcher Lite – FREE Live Cool Themes, Hide ...</td>\n",
       "      <td>ART_AND_DESIGN</td>\n",
       "      <td>4.7</td>\n",
       "      <td>87510</td>\n",
       "      <td>8.7M</td>\n",
       "      <td>5,000,000+</td>\n",
       "      <td>Free</td>\n",
       "      <td>0</td>\n",
       "      <td>Everyone</td>\n",
       "      <td>Art &amp; Design</td>\n",
       "      <td>August 1, 2018</td>\n",
       "      <td>1.2.4</td>\n",
       "      <td>4.0.3 and up</td>\n",
       "    </tr>\n",
       "    <tr>\n",
       "      <th>3</th>\n",
       "      <td>Sketch - Draw &amp; Paint</td>\n",
       "      <td>ART_AND_DESIGN</td>\n",
       "      <td>4.5</td>\n",
       "      <td>215644</td>\n",
       "      <td>25M</td>\n",
       "      <td>50,000,000+</td>\n",
       "      <td>Free</td>\n",
       "      <td>0</td>\n",
       "      <td>Teen</td>\n",
       "      <td>Art &amp; Design</td>\n",
       "      <td>June 8, 2018</td>\n",
       "      <td>Varies with device</td>\n",
       "      <td>4.2 and up</td>\n",
       "    </tr>\n",
       "    <tr>\n",
       "      <th>4</th>\n",
       "      <td>Pixel Draw - Number Art Coloring Book</td>\n",
       "      <td>ART_AND_DESIGN</td>\n",
       "      <td>4.3</td>\n",
       "      <td>967</td>\n",
       "      <td>2.8M</td>\n",
       "      <td>100,000+</td>\n",
       "      <td>Free</td>\n",
       "      <td>0</td>\n",
       "      <td>Everyone</td>\n",
       "      <td>Art &amp; Design;Creativity</td>\n",
       "      <td>June 20, 2018</td>\n",
       "      <td>1.1</td>\n",
       "      <td>4.4 and up</td>\n",
       "    </tr>\n",
       "  </tbody>\n",
       "</table>\n",
       "</div>"
      ],
      "text/plain": [
       "                                                 App        Category  Rating  \\\n",
       "0     Photo Editor & Candy Camera & Grid & ScrapBook  ART_AND_DESIGN     4.1   \n",
       "1                                Coloring book moana  ART_AND_DESIGN     3.9   \n",
       "2  U Launcher Lite – FREE Live Cool Themes, Hide ...  ART_AND_DESIGN     4.7   \n",
       "3                              Sketch - Draw & Paint  ART_AND_DESIGN     4.5   \n",
       "4              Pixel Draw - Number Art Coloring Book  ART_AND_DESIGN     4.3   \n",
       "\n",
       "  Reviews  Size     Installs  Type Price Content Rating  \\\n",
       "0     159   19M      10,000+  Free     0       Everyone   \n",
       "1     967   14M     500,000+  Free     0       Everyone   \n",
       "2   87510  8.7M   5,000,000+  Free     0       Everyone   \n",
       "3  215644   25M  50,000,000+  Free     0           Teen   \n",
       "4     967  2.8M     100,000+  Free     0       Everyone   \n",
       "\n",
       "                      Genres      Last Updated         Current Ver  \\\n",
       "0               Art & Design   January 7, 2018               1.0.0   \n",
       "1  Art & Design;Pretend Play  January 15, 2018               2.0.0   \n",
       "2               Art & Design    August 1, 2018               1.2.4   \n",
       "3               Art & Design      June 8, 2018  Varies with device   \n",
       "4    Art & Design;Creativity     June 20, 2018                 1.1   \n",
       "\n",
       "    Android Ver  \n",
       "0  4.0.3 and up  \n",
       "1  4.0.3 and up  \n",
       "2  4.0.3 and up  \n",
       "3    4.2 and up  \n",
       "4    4.4 and up  "
      ]
     },
     "execution_count": 3,
     "metadata": {},
     "output_type": "execute_result"
    }
   ],
   "source": [
    "trainappdata = pd.read_csv('googleplaystore.csv')\n",
    "trainappdata.head()"
   ]
  },
  {
   "cell_type": "markdown",
   "metadata": {
    "cell_id": "00004-afd263fa-0d29-4aa4-ac7c-a054bcaf71ad",
    "deepnote_cell_type": "markdown"
   },
   "source": [
    "## DATA CLEANING\n",
    "##### With a fresh set of data, we would like to filter it to look for unique datas, and to make slight changes for easier access"
   ]
  },
  {
   "cell_type": "code",
   "execution_count": 4,
   "metadata": {
    "cell_id": "00005-47e20176-601a-4496-9961-407594d5b4db",
    "deepnote_cell_type": "code",
    "deepnote_to_be_reexecuted": false,
    "execution": {
     "iopub.execute_input": "2021-10-20T04:55:39.350571Z",
     "iopub.status.busy": "2021-10-20T04:55:39.350151Z",
     "iopub.status.idle": "2021-10-20T04:55:39.358314Z",
     "shell.execute_reply": "2021-10-20T04:55:39.35672Z",
     "shell.execute_reply.started": "2021-10-20T04:55:39.350525Z"
    },
    "execution_millis": 1,
    "execution_start": 1635864818168,
    "scrolled": true,
    "source_hash": "73c3654e"
   },
   "outputs": [],
   "source": [
    "trainappdata = trainappdata.rename(columns=str.lower)  #rename to lower cap for easier use"
   ]
  },
  {
   "cell_type": "code",
   "execution_count": 22,
   "metadata": {},
   "outputs": [
    {
     "data": {
      "text/html": [
       "<div>\n",
       "<style scoped>\n",
       "    .dataframe tbody tr th:only-of-type {\n",
       "        vertical-align: middle;\n",
       "    }\n",
       "\n",
       "    .dataframe tbody tr th {\n",
       "        vertical-align: top;\n",
       "    }\n",
       "\n",
       "    .dataframe thead th {\n",
       "        text-align: right;\n",
       "    }\n",
       "</style>\n",
       "<table border=\"1\" class=\"dataframe\">\n",
       "  <thead>\n",
       "    <tr style=\"text-align: right;\">\n",
       "      <th></th>\n",
       "      <th>app</th>\n",
       "      <th>category</th>\n",
       "      <th>rating</th>\n",
       "      <th>reviews</th>\n",
       "      <th>size</th>\n",
       "      <th>installs</th>\n",
       "      <th>type</th>\n",
       "      <th>price</th>\n",
       "      <th>content rating</th>\n",
       "      <th>genres</th>\n",
       "      <th>last updated</th>\n",
       "      <th>current ver</th>\n",
       "      <th>android ver</th>\n",
       "    </tr>\n",
       "  </thead>\n",
       "  <tbody>\n",
       "    <tr>\n",
       "      <th>0</th>\n",
       "      <td>Photo Editor &amp; Candy Camera &amp; Grid &amp; ScrapBook</td>\n",
       "      <td>ART_AND_DESIGN</td>\n",
       "      <td>4.1</td>\n",
       "      <td>159</td>\n",
       "      <td>19M</td>\n",
       "      <td>10,000+</td>\n",
       "      <td>Free</td>\n",
       "      <td>0</td>\n",
       "      <td>Everyone</td>\n",
       "      <td>Art &amp; Design</td>\n",
       "      <td>January 7, 2018</td>\n",
       "      <td>1.0.0</td>\n",
       "      <td>4.0.3 and up</td>\n",
       "    </tr>\n",
       "    <tr>\n",
       "      <th>1</th>\n",
       "      <td>Coloring book moana</td>\n",
       "      <td>ART_AND_DESIGN</td>\n",
       "      <td>3.9</td>\n",
       "      <td>967</td>\n",
       "      <td>14M</td>\n",
       "      <td>500,000+</td>\n",
       "      <td>Free</td>\n",
       "      <td>0</td>\n",
       "      <td>Everyone</td>\n",
       "      <td>Art &amp; Design;Pretend Play</td>\n",
       "      <td>January 15, 2018</td>\n",
       "      <td>2.0.0</td>\n",
       "      <td>4.0.3 and up</td>\n",
       "    </tr>\n",
       "    <tr>\n",
       "      <th>2</th>\n",
       "      <td>U Launcher Lite – FREE Live Cool Themes, Hide ...</td>\n",
       "      <td>ART_AND_DESIGN</td>\n",
       "      <td>4.7</td>\n",
       "      <td>87510</td>\n",
       "      <td>8.7M</td>\n",
       "      <td>5,000,000+</td>\n",
       "      <td>Free</td>\n",
       "      <td>0</td>\n",
       "      <td>Everyone</td>\n",
       "      <td>Art &amp; Design</td>\n",
       "      <td>August 1, 2018</td>\n",
       "      <td>1.2.4</td>\n",
       "      <td>4.0.3 and up</td>\n",
       "    </tr>\n",
       "    <tr>\n",
       "      <th>3</th>\n",
       "      <td>Sketch - Draw &amp; Paint</td>\n",
       "      <td>ART_AND_DESIGN</td>\n",
       "      <td>4.5</td>\n",
       "      <td>215644</td>\n",
       "      <td>25M</td>\n",
       "      <td>50,000,000+</td>\n",
       "      <td>Free</td>\n",
       "      <td>0</td>\n",
       "      <td>Teen</td>\n",
       "      <td>Art &amp; Design</td>\n",
       "      <td>June 8, 2018</td>\n",
       "      <td>Varies with device</td>\n",
       "      <td>4.2 and up</td>\n",
       "    </tr>\n",
       "    <tr>\n",
       "      <th>4</th>\n",
       "      <td>Pixel Draw - Number Art Coloring Book</td>\n",
       "      <td>ART_AND_DESIGN</td>\n",
       "      <td>4.3</td>\n",
       "      <td>967</td>\n",
       "      <td>2.8M</td>\n",
       "      <td>100,000+</td>\n",
       "      <td>Free</td>\n",
       "      <td>0</td>\n",
       "      <td>Everyone</td>\n",
       "      <td>Art &amp; Design;Creativity</td>\n",
       "      <td>June 20, 2018</td>\n",
       "      <td>1.1</td>\n",
       "      <td>4.4 and up</td>\n",
       "    </tr>\n",
       "    <tr>\n",
       "      <th>...</th>\n",
       "      <td>...</td>\n",
       "      <td>...</td>\n",
       "      <td>...</td>\n",
       "      <td>...</td>\n",
       "      <td>...</td>\n",
       "      <td>...</td>\n",
       "      <td>...</td>\n",
       "      <td>...</td>\n",
       "      <td>...</td>\n",
       "      <td>...</td>\n",
       "      <td>...</td>\n",
       "      <td>...</td>\n",
       "      <td>...</td>\n",
       "    </tr>\n",
       "    <tr>\n",
       "      <th>9653</th>\n",
       "      <td>FR Calculator</td>\n",
       "      <td>FAMILY</td>\n",
       "      <td>4.0</td>\n",
       "      <td>7</td>\n",
       "      <td>2.6M</td>\n",
       "      <td>500+</td>\n",
       "      <td>Free</td>\n",
       "      <td>0</td>\n",
       "      <td>Everyone</td>\n",
       "      <td>Education</td>\n",
       "      <td>June 18, 2017</td>\n",
       "      <td>1.0.0</td>\n",
       "      <td>4.1 and up</td>\n",
       "    </tr>\n",
       "    <tr>\n",
       "      <th>9655</th>\n",
       "      <td>Sya9a Maroc - FR</td>\n",
       "      <td>FAMILY</td>\n",
       "      <td>4.5</td>\n",
       "      <td>38</td>\n",
       "      <td>53M</td>\n",
       "      <td>5,000+</td>\n",
       "      <td>Free</td>\n",
       "      <td>0</td>\n",
       "      <td>Everyone</td>\n",
       "      <td>Education</td>\n",
       "      <td>July 25, 2017</td>\n",
       "      <td>1.48</td>\n",
       "      <td>4.1 and up</td>\n",
       "    </tr>\n",
       "    <tr>\n",
       "      <th>9656</th>\n",
       "      <td>Fr. Mike Schmitz Audio Teachings</td>\n",
       "      <td>FAMILY</td>\n",
       "      <td>5.0</td>\n",
       "      <td>4</td>\n",
       "      <td>3.6M</td>\n",
       "      <td>100+</td>\n",
       "      <td>Free</td>\n",
       "      <td>0</td>\n",
       "      <td>Everyone</td>\n",
       "      <td>Education</td>\n",
       "      <td>July 6, 2018</td>\n",
       "      <td>1.0</td>\n",
       "      <td>4.1 and up</td>\n",
       "    </tr>\n",
       "    <tr>\n",
       "      <th>9658</th>\n",
       "      <td>The SCP Foundation DB fr nn5n</td>\n",
       "      <td>BOOKS_AND_REFERENCE</td>\n",
       "      <td>4.5</td>\n",
       "      <td>114</td>\n",
       "      <td>Varies with device</td>\n",
       "      <td>1,000+</td>\n",
       "      <td>Free</td>\n",
       "      <td>0</td>\n",
       "      <td>Mature 17+</td>\n",
       "      <td>Books &amp; Reference</td>\n",
       "      <td>January 19, 2015</td>\n",
       "      <td>Varies with device</td>\n",
       "      <td>Varies with device</td>\n",
       "    </tr>\n",
       "    <tr>\n",
       "      <th>9659</th>\n",
       "      <td>iHoroscope - 2018 Daily Horoscope &amp; Astrology</td>\n",
       "      <td>LIFESTYLE</td>\n",
       "      <td>4.5</td>\n",
       "      <td>398307</td>\n",
       "      <td>19M</td>\n",
       "      <td>10,000,000+</td>\n",
       "      <td>Free</td>\n",
       "      <td>0</td>\n",
       "      <td>Everyone</td>\n",
       "      <td>Lifestyle</td>\n",
       "      <td>July 25, 2018</td>\n",
       "      <td>Varies with device</td>\n",
       "      <td>Varies with device</td>\n",
       "    </tr>\n",
       "  </tbody>\n",
       "</table>\n",
       "<p>8190 rows × 13 columns</p>\n",
       "</div>"
      ],
      "text/plain": [
       "                                                    app             category  \\\n",
       "0        Photo Editor & Candy Camera & Grid & ScrapBook       ART_AND_DESIGN   \n",
       "1                                   Coloring book moana       ART_AND_DESIGN   \n",
       "2     U Launcher Lite – FREE Live Cool Themes, Hide ...       ART_AND_DESIGN   \n",
       "3                                 Sketch - Draw & Paint       ART_AND_DESIGN   \n",
       "4                 Pixel Draw - Number Art Coloring Book       ART_AND_DESIGN   \n",
       "...                                                 ...                  ...   \n",
       "9653                                      FR Calculator               FAMILY   \n",
       "9655                                   Sya9a Maroc - FR               FAMILY   \n",
       "9656                   Fr. Mike Schmitz Audio Teachings               FAMILY   \n",
       "9658                      The SCP Foundation DB fr nn5n  BOOKS_AND_REFERENCE   \n",
       "9659      iHoroscope - 2018 Daily Horoscope & Astrology            LIFESTYLE   \n",
       "\n",
       "      rating reviews                size     installs  type price  \\\n",
       "0        4.1     159                 19M      10,000+  Free     0   \n",
       "1        3.9     967                 14M     500,000+  Free     0   \n",
       "2        4.7   87510                8.7M   5,000,000+  Free     0   \n",
       "3        4.5  215644                 25M  50,000,000+  Free     0   \n",
       "4        4.3     967                2.8M     100,000+  Free     0   \n",
       "...      ...     ...                 ...          ...   ...   ...   \n",
       "9653     4.0       7                2.6M         500+  Free     0   \n",
       "9655     4.5      38                 53M       5,000+  Free     0   \n",
       "9656     5.0       4                3.6M         100+  Free     0   \n",
       "9658     4.5     114  Varies with device       1,000+  Free     0   \n",
       "9659     4.5  398307                 19M  10,000,000+  Free     0   \n",
       "\n",
       "     content rating                     genres      last updated  \\\n",
       "0          Everyone               Art & Design   January 7, 2018   \n",
       "1          Everyone  Art & Design;Pretend Play  January 15, 2018   \n",
       "2          Everyone               Art & Design    August 1, 2018   \n",
       "3              Teen               Art & Design      June 8, 2018   \n",
       "4          Everyone    Art & Design;Creativity     June 20, 2018   \n",
       "...             ...                        ...               ...   \n",
       "9653       Everyone                  Education     June 18, 2017   \n",
       "9655       Everyone                  Education     July 25, 2017   \n",
       "9656       Everyone                  Education      July 6, 2018   \n",
       "9658     Mature 17+          Books & Reference  January 19, 2015   \n",
       "9659       Everyone                  Lifestyle     July 25, 2018   \n",
       "\n",
       "             current ver         android ver  \n",
       "0                  1.0.0        4.0.3 and up  \n",
       "1                  2.0.0        4.0.3 and up  \n",
       "2                  1.2.4        4.0.3 and up  \n",
       "3     Varies with device          4.2 and up  \n",
       "4                    1.1          4.4 and up  \n",
       "...                  ...                 ...  \n",
       "9653               1.0.0          4.1 and up  \n",
       "9655                1.48          4.1 and up  \n",
       "9656                 1.0          4.1 and up  \n",
       "9658  Varies with device  Varies with device  \n",
       "9659  Varies with device  Varies with device  \n",
       "\n",
       "[8190 rows x 13 columns]"
      ]
     },
     "execution_count": 22,
     "metadata": {},
     "output_type": "execute_result"
    }
   ],
   "source": [
    "trainappdata"
   ]
  },
  {
   "cell_type": "code",
   "execution_count": 5,
   "metadata": {
    "cell_id": "00006-d0198126-94fc-4c77-b765-5a5dfa769cf6",
    "deepnote_cell_type": "code",
    "deepnote_to_be_reexecuted": false,
    "execution": {
     "iopub.execute_input": "2021-10-20T04:55:39.360588Z",
     "iopub.status.busy": "2021-10-20T04:55:39.360053Z",
     "iopub.status.idle": "2021-10-20T04:55:39.415826Z",
     "shell.execute_reply": "2021-10-20T04:55:39.414831Z",
     "shell.execute_reply.started": "2021-10-20T04:55:39.360546Z"
    },
    "execution_millis": 107,
    "execution_start": 1635864818169,
    "scrolled": true,
    "source_hash": "b939f621"
   },
   "outputs": [
    {
     "data": {
      "text/html": [
       "<div>\n",
       "<style scoped>\n",
       "    .dataframe tbody tr th:only-of-type {\n",
       "        vertical-align: middle;\n",
       "    }\n",
       "\n",
       "    .dataframe tbody tr th {\n",
       "        vertical-align: top;\n",
       "    }\n",
       "\n",
       "    .dataframe thead th {\n",
       "        text-align: right;\n",
       "    }\n",
       "</style>\n",
       "<table border=\"1\" class=\"dataframe\">\n",
       "  <thead>\n",
       "    <tr style=\"text-align: right;\">\n",
       "      <th></th>\n",
       "      <th>app</th>\n",
       "      <th>category</th>\n",
       "      <th>rating</th>\n",
       "      <th>reviews</th>\n",
       "      <th>size</th>\n",
       "      <th>installs</th>\n",
       "      <th>type</th>\n",
       "      <th>price</th>\n",
       "      <th>content rating</th>\n",
       "      <th>genres</th>\n",
       "      <th>last updated</th>\n",
       "      <th>current ver</th>\n",
       "      <th>android ver</th>\n",
       "    </tr>\n",
       "  </thead>\n",
       "  <tbody>\n",
       "    <tr>\n",
       "      <th>229</th>\n",
       "      <td>Quick PDF Scanner + OCR FREE</td>\n",
       "      <td>BUSINESS</td>\n",
       "      <td>4.2</td>\n",
       "      <td>80805</td>\n",
       "      <td>Varies with device</td>\n",
       "      <td>5,000,000+</td>\n",
       "      <td>Free</td>\n",
       "      <td>0</td>\n",
       "      <td>Everyone</td>\n",
       "      <td>Business</td>\n",
       "      <td>February 26, 2018</td>\n",
       "      <td>Varies with device</td>\n",
       "      <td>4.0.3 and up</td>\n",
       "    </tr>\n",
       "    <tr>\n",
       "      <th>236</th>\n",
       "      <td>Box</td>\n",
       "      <td>BUSINESS</td>\n",
       "      <td>4.2</td>\n",
       "      <td>159872</td>\n",
       "      <td>Varies with device</td>\n",
       "      <td>10,000,000+</td>\n",
       "      <td>Free</td>\n",
       "      <td>0</td>\n",
       "      <td>Everyone</td>\n",
       "      <td>Business</td>\n",
       "      <td>July 31, 2018</td>\n",
       "      <td>Varies with device</td>\n",
       "      <td>Varies with device</td>\n",
       "    </tr>\n",
       "    <tr>\n",
       "      <th>239</th>\n",
       "      <td>Google My Business</td>\n",
       "      <td>BUSINESS</td>\n",
       "      <td>4.4</td>\n",
       "      <td>70991</td>\n",
       "      <td>Varies with device</td>\n",
       "      <td>5,000,000+</td>\n",
       "      <td>Free</td>\n",
       "      <td>0</td>\n",
       "      <td>Everyone</td>\n",
       "      <td>Business</td>\n",
       "      <td>July 24, 2018</td>\n",
       "      <td>2.19.0.204537701</td>\n",
       "      <td>4.4 and up</td>\n",
       "    </tr>\n",
       "    <tr>\n",
       "      <th>256</th>\n",
       "      <td>ZOOM Cloud Meetings</td>\n",
       "      <td>BUSINESS</td>\n",
       "      <td>4.4</td>\n",
       "      <td>31614</td>\n",
       "      <td>37M</td>\n",
       "      <td>10,000,000+</td>\n",
       "      <td>Free</td>\n",
       "      <td>0</td>\n",
       "      <td>Everyone</td>\n",
       "      <td>Business</td>\n",
       "      <td>July 20, 2018</td>\n",
       "      <td>4.1.28165.0716</td>\n",
       "      <td>4.0 and up</td>\n",
       "    </tr>\n",
       "    <tr>\n",
       "      <th>261</th>\n",
       "      <td>join.me - Simple Meetings</td>\n",
       "      <td>BUSINESS</td>\n",
       "      <td>4.0</td>\n",
       "      <td>6989</td>\n",
       "      <td>Varies with device</td>\n",
       "      <td>1,000,000+</td>\n",
       "      <td>Free</td>\n",
       "      <td>0</td>\n",
       "      <td>Everyone</td>\n",
       "      <td>Business</td>\n",
       "      <td>July 16, 2018</td>\n",
       "      <td>4.3.0.508</td>\n",
       "      <td>4.4 and up</td>\n",
       "    </tr>\n",
       "    <tr>\n",
       "      <th>...</th>\n",
       "      <td>...</td>\n",
       "      <td>...</td>\n",
       "      <td>...</td>\n",
       "      <td>...</td>\n",
       "      <td>...</td>\n",
       "      <td>...</td>\n",
       "      <td>...</td>\n",
       "      <td>...</td>\n",
       "      <td>...</td>\n",
       "      <td>...</td>\n",
       "      <td>...</td>\n",
       "      <td>...</td>\n",
       "      <td>...</td>\n",
       "    </tr>\n",
       "    <tr>\n",
       "      <th>10715</th>\n",
       "      <td>FarmersOnly Dating</td>\n",
       "      <td>DATING</td>\n",
       "      <td>3.0</td>\n",
       "      <td>1145</td>\n",
       "      <td>1.4M</td>\n",
       "      <td>100,000+</td>\n",
       "      <td>Free</td>\n",
       "      <td>0</td>\n",
       "      <td>Mature 17+</td>\n",
       "      <td>Dating</td>\n",
       "      <td>February 25, 2016</td>\n",
       "      <td>2.2</td>\n",
       "      <td>4.0 and up</td>\n",
       "    </tr>\n",
       "    <tr>\n",
       "      <th>10720</th>\n",
       "      <td>Firefox Focus: The privacy browser</td>\n",
       "      <td>COMMUNICATION</td>\n",
       "      <td>4.4</td>\n",
       "      <td>36981</td>\n",
       "      <td>4.0M</td>\n",
       "      <td>1,000,000+</td>\n",
       "      <td>Free</td>\n",
       "      <td>0</td>\n",
       "      <td>Everyone</td>\n",
       "      <td>Communication</td>\n",
       "      <td>July 6, 2018</td>\n",
       "      <td>5.2</td>\n",
       "      <td>5.0 and up</td>\n",
       "    </tr>\n",
       "    <tr>\n",
       "      <th>10730</th>\n",
       "      <td>FP Notebook</td>\n",
       "      <td>MEDICAL</td>\n",
       "      <td>4.5</td>\n",
       "      <td>410</td>\n",
       "      <td>60M</td>\n",
       "      <td>50,000+</td>\n",
       "      <td>Free</td>\n",
       "      <td>0</td>\n",
       "      <td>Everyone</td>\n",
       "      <td>Medical</td>\n",
       "      <td>March 24, 2018</td>\n",
       "      <td>2.1.0.372</td>\n",
       "      <td>4.4 and up</td>\n",
       "    </tr>\n",
       "    <tr>\n",
       "      <th>10753</th>\n",
       "      <td>Slickdeals: Coupons &amp; Shopping</td>\n",
       "      <td>SHOPPING</td>\n",
       "      <td>4.5</td>\n",
       "      <td>33599</td>\n",
       "      <td>12M</td>\n",
       "      <td>1,000,000+</td>\n",
       "      <td>Free</td>\n",
       "      <td>0</td>\n",
       "      <td>Everyone</td>\n",
       "      <td>Shopping</td>\n",
       "      <td>July 30, 2018</td>\n",
       "      <td>3.9</td>\n",
       "      <td>4.4 and up</td>\n",
       "    </tr>\n",
       "    <tr>\n",
       "      <th>10768</th>\n",
       "      <td>AAFP</td>\n",
       "      <td>MEDICAL</td>\n",
       "      <td>3.8</td>\n",
       "      <td>63</td>\n",
       "      <td>24M</td>\n",
       "      <td>10,000+</td>\n",
       "      <td>Free</td>\n",
       "      <td>0</td>\n",
       "      <td>Everyone</td>\n",
       "      <td>Medical</td>\n",
       "      <td>June 22, 2018</td>\n",
       "      <td>2.3.1</td>\n",
       "      <td>5.0 and up</td>\n",
       "    </tr>\n",
       "  </tbody>\n",
       "</table>\n",
       "<p>1181 rows × 13 columns</p>\n",
       "</div>"
      ],
      "text/plain": [
       "                                      app       category  rating reviews  \\\n",
       "229          Quick PDF Scanner + OCR FREE       BUSINESS     4.2   80805   \n",
       "236                                   Box       BUSINESS     4.2  159872   \n",
       "239                    Google My Business       BUSINESS     4.4   70991   \n",
       "256                   ZOOM Cloud Meetings       BUSINESS     4.4   31614   \n",
       "261             join.me - Simple Meetings       BUSINESS     4.0    6989   \n",
       "...                                   ...            ...     ...     ...   \n",
       "10715                  FarmersOnly Dating         DATING     3.0    1145   \n",
       "10720  Firefox Focus: The privacy browser  COMMUNICATION     4.4   36981   \n",
       "10730                         FP Notebook        MEDICAL     4.5     410   \n",
       "10753      Slickdeals: Coupons & Shopping       SHOPPING     4.5   33599   \n",
       "10768                                AAFP        MEDICAL     3.8      63   \n",
       "\n",
       "                     size     installs  type price content rating  \\\n",
       "229    Varies with device   5,000,000+  Free     0       Everyone   \n",
       "236    Varies with device  10,000,000+  Free     0       Everyone   \n",
       "239    Varies with device   5,000,000+  Free     0       Everyone   \n",
       "256                   37M  10,000,000+  Free     0       Everyone   \n",
       "261    Varies with device   1,000,000+  Free     0       Everyone   \n",
       "...                   ...          ...   ...   ...            ...   \n",
       "10715                1.4M     100,000+  Free     0     Mature 17+   \n",
       "10720                4.0M   1,000,000+  Free     0       Everyone   \n",
       "10730                 60M      50,000+  Free     0       Everyone   \n",
       "10753                 12M   1,000,000+  Free     0       Everyone   \n",
       "10768                 24M      10,000+  Free     0       Everyone   \n",
       "\n",
       "              genres       last updated         current ver  \\\n",
       "229         Business  February 26, 2018  Varies with device   \n",
       "236         Business      July 31, 2018  Varies with device   \n",
       "239         Business      July 24, 2018    2.19.0.204537701   \n",
       "256         Business      July 20, 2018      4.1.28165.0716   \n",
       "261         Business      July 16, 2018           4.3.0.508   \n",
       "...              ...                ...                 ...   \n",
       "10715         Dating  February 25, 2016                 2.2   \n",
       "10720  Communication       July 6, 2018                 5.2   \n",
       "10730        Medical     March 24, 2018           2.1.0.372   \n",
       "10753       Shopping      July 30, 2018                 3.9   \n",
       "10768        Medical      June 22, 2018               2.3.1   \n",
       "\n",
       "              android ver  \n",
       "229          4.0.3 and up  \n",
       "236    Varies with device  \n",
       "239            4.4 and up  \n",
       "256            4.0 and up  \n",
       "261            4.4 and up  \n",
       "...                   ...  \n",
       "10715          4.0 and up  \n",
       "10720          5.0 and up  \n",
       "10730          4.4 and up  \n",
       "10753          4.4 and up  \n",
       "10768          5.0 and up  \n",
       "\n",
       "[1181 rows x 13 columns]"
      ]
     },
     "execution_count": 5,
     "metadata": {},
     "output_type": "execute_result"
    }
   ],
   "source": [
    "trainappdata[trainappdata.duplicated(subset='app')] #search for any duplicated data"
   ]
  },
  {
   "cell_type": "code",
   "execution_count": 6,
   "metadata": {
    "cell_id": "00007-77be0f63-368a-4602-866c-89e6876ada07",
    "deepnote_cell_type": "code",
    "deepnote_to_be_reexecuted": false,
    "execution": {
     "iopub.execute_input": "2021-10-20T04:55:39.418655Z",
     "iopub.status.busy": "2021-10-20T04:55:39.418357Z",
     "iopub.status.idle": "2021-10-20T04:55:39.436507Z",
     "shell.execute_reply": "2021-10-20T04:55:39.435399Z",
     "shell.execute_reply.started": "2021-10-20T04:55:39.418626Z"
    },
    "execution_millis": 5,
    "execution_start": 1635864818233,
    "scrolled": true,
    "source_hash": "d6617ad7"
   },
   "outputs": [],
   "source": [
    "trainappdata.drop_duplicates(subset='app', inplace=True, ignore_index=True) #drop all duplicated apps"
   ]
  },
  {
   "cell_type": "code",
   "execution_count": 7,
   "metadata": {
    "cell_id": "00008-f96db540-e229-489f-8b2c-4adb3bdbeac0",
    "deepnote_cell_type": "code",
    "deepnote_to_be_reexecuted": false,
    "execution_millis": 16,
    "execution_start": 1635864818242,
    "scrolled": true,
    "source_hash": "8f21f8ed",
    "tags": []
   },
   "outputs": [],
   "source": [
    "trainappdata = trainappdata.dropna()"
   ]
  },
  {
   "cell_type": "code",
   "execution_count": 8,
   "metadata": {
    "cell_id": "00008-47baf2e0-e22a-4055-a8d4-b9180669bdaa",
    "deepnote_cell_type": "code",
    "deepnote_to_be_reexecuted": false,
    "execution": {
     "iopub.execute_input": "2021-10-20T04:55:39.440547Z",
     "iopub.status.busy": "2021-10-20T04:55:39.43963Z",
     "iopub.status.idle": "2021-10-20T04:55:39.47053Z",
     "shell.execute_reply": "2021-10-20T04:55:39.469531Z",
     "shell.execute_reply.started": "2021-10-20T04:55:39.440495Z"
    },
    "execution_millis": 5,
    "execution_start": 1635864818309,
    "scrolled": true,
    "source_hash": "68649b3"
   },
   "outputs": [
    {
     "name": "stdout",
     "output_type": "stream",
     "text": [
      "<class 'pandas.core.frame.DataFrame'>\n",
      "Int64Index: 8190 entries, 0 to 9659\n",
      "Data columns (total 13 columns):\n",
      " #   Column          Non-Null Count  Dtype  \n",
      "---  ------          --------------  -----  \n",
      " 0   app             8190 non-null   object \n",
      " 1   category        8190 non-null   object \n",
      " 2   rating          8190 non-null   float64\n",
      " 3   reviews         8190 non-null   object \n",
      " 4   size            8190 non-null   object \n",
      " 5   installs        8190 non-null   object \n",
      " 6   type            8190 non-null   object \n",
      " 7   price           8190 non-null   object \n",
      " 8   content rating  8190 non-null   object \n",
      " 9   genres          8190 non-null   object \n",
      " 10  last updated    8190 non-null   object \n",
      " 11  current ver     8190 non-null   object \n",
      " 12  android ver     8190 non-null   object \n",
      "dtypes: float64(1), object(12)\n",
      "memory usage: 895.8+ KB\n"
     ]
    }
   ],
   "source": [
    "trainappdata.info() #updated datainfo"
   ]
  },
  {
   "cell_type": "code",
   "execution_count": 9,
   "metadata": {
    "cell_id": "00009-391612e2-57c5-4b46-ae98-4ac0a7120e29",
    "deepnote_cell_type": "code",
    "deepnote_to_be_reexecuted": false,
    "execution": {
     "iopub.execute_input": "2021-10-20T04:55:39.472861Z",
     "iopub.status.busy": "2021-10-20T04:55:39.471808Z",
     "iopub.status.idle": "2021-10-20T04:55:39.479329Z",
     "shell.execute_reply": "2021-10-20T04:55:39.478615Z",
     "shell.execute_reply.started": "2021-10-20T04:55:39.472821Z"
    },
    "execution_millis": 0,
    "execution_start": 1635864818310,
    "scrolled": true,
    "source_hash": "7ef67d39"
   },
   "outputs": [],
   "source": [
    "trainappdata_clean = trainappdata.copy() #another data  (to be kept clean, i.e original)"
   ]
  },
  {
   "cell_type": "code",
   "execution_count": 10,
   "metadata": {
    "cell_id": "00010-41fa293f-b0a4-40cd-abb6-988de40a21cd",
    "deepnote_cell_type": "code",
    "deepnote_to_be_reexecuted": false,
    "execution": {
     "iopub.execute_input": "2021-10-20T04:55:39.482326Z",
     "iopub.status.busy": "2021-10-20T04:55:39.482037Z",
     "iopub.status.idle": "2021-10-20T04:55:39.491764Z",
     "shell.execute_reply": "2021-10-20T04:55:39.490689Z",
     "shell.execute_reply.started": "2021-10-20T04:55:39.482293Z"
    },
    "execution_millis": 0,
    "execution_start": 1635864818311,
    "scrolled": true,
    "source_hash": "432a7a20"
   },
   "outputs": [],
   "source": [
    "#Extracting data\n",
    "#Installs\n",
    "#Price\n",
    "#Category (Genre)\n",
    "#Size of Apps\n",
    "\n",
    "#Installs=pd.DataFrame(trainappdata['installs'])\n",
    "#Price=pd.DataFrame(trainappdata['price'])\n",
    "#Category=pd.DataFrame(trainappdata['category'])\n",
    "#Genre=pd.DataFrame(trainappdata['genres'])\n",
    "#AppSize=pd.DataFrame(trainappdata['size'])\n",
    "#AgeRating=pd.DataFrame(trainappdata['content rating'])"
   ]
  },
  {
   "cell_type": "code",
   "execution_count": 21,
   "metadata": {
    "cell_id": "00011-e4f0d946-d502-4d35-8bb3-f97ccd48dd6c",
    "deepnote_cell_type": "code",
    "deepnote_to_be_reexecuted": false,
    "execution_millis": 0,
    "execution_start": 1635864818322,
    "scrolled": true,
    "source_hash": "b623e53d"
   },
   "outputs": [
    {
     "ename": "IndexError",
     "evalue": "positional indexers are out-of-bounds",
     "output_type": "error",
     "traceback": [
      "\u001b[1;31m---------------------------------------------------------------------------\u001b[0m",
      "\u001b[1;31mIndexError\u001b[0m                                Traceback (most recent call last)",
      "\u001b[1;32m~\\anaconda3\\lib\\site-packages\\pandas\\core\\indexing.py\u001b[0m in \u001b[0;36m_get_list_axis\u001b[1;34m(self, key, axis)\u001b[0m\n\u001b[0;32m   1473\u001b[0m         \u001b[1;32mtry\u001b[0m\u001b[1;33m:\u001b[0m\u001b[1;33m\u001b[0m\u001b[1;33m\u001b[0m\u001b[0m\n\u001b[1;32m-> 1474\u001b[1;33m             \u001b[1;32mreturn\u001b[0m \u001b[0mself\u001b[0m\u001b[1;33m.\u001b[0m\u001b[0mobj\u001b[0m\u001b[1;33m.\u001b[0m\u001b[0m_take_with_is_copy\u001b[0m\u001b[1;33m(\u001b[0m\u001b[0mkey\u001b[0m\u001b[1;33m,\u001b[0m \u001b[0maxis\u001b[0m\u001b[1;33m=\u001b[0m\u001b[0maxis\u001b[0m\u001b[1;33m)\u001b[0m\u001b[1;33m\u001b[0m\u001b[1;33m\u001b[0m\u001b[0m\n\u001b[0m\u001b[0;32m   1475\u001b[0m         \u001b[1;32mexcept\u001b[0m \u001b[0mIndexError\u001b[0m \u001b[1;32mas\u001b[0m \u001b[0merr\u001b[0m\u001b[1;33m:\u001b[0m\u001b[1;33m\u001b[0m\u001b[1;33m\u001b[0m\u001b[0m\n",
      "\u001b[1;32m~\\anaconda3\\lib\\site-packages\\pandas\\core\\generic.py\u001b[0m in \u001b[0;36m_take_with_is_copy\u001b[1;34m(self, indices, axis)\u001b[0m\n\u001b[0;32m   3599\u001b[0m         \"\"\"\n\u001b[1;32m-> 3600\u001b[1;33m         \u001b[0mresult\u001b[0m \u001b[1;33m=\u001b[0m \u001b[0mself\u001b[0m\u001b[1;33m.\u001b[0m\u001b[0mtake\u001b[0m\u001b[1;33m(\u001b[0m\u001b[0mindices\u001b[0m\u001b[1;33m=\u001b[0m\u001b[0mindices\u001b[0m\u001b[1;33m,\u001b[0m \u001b[0maxis\u001b[0m\u001b[1;33m=\u001b[0m\u001b[0maxis\u001b[0m\u001b[1;33m)\u001b[0m\u001b[1;33m\u001b[0m\u001b[1;33m\u001b[0m\u001b[0m\n\u001b[0m\u001b[0;32m   3601\u001b[0m         \u001b[1;31m# Maybe set copy if we didn't actually change the index.\u001b[0m\u001b[1;33m\u001b[0m\u001b[1;33m\u001b[0m\u001b[1;33m\u001b[0m\u001b[0m\n",
      "\u001b[1;32m~\\anaconda3\\lib\\site-packages\\pandas\\core\\generic.py\u001b[0m in \u001b[0;36mtake\u001b[1;34m(self, indices, axis, is_copy, **kwargs)\u001b[0m\n\u001b[0;32m   3585\u001b[0m \u001b[1;33m\u001b[0m\u001b[0m\n\u001b[1;32m-> 3586\u001b[1;33m         new_data = self._mgr.take(\n\u001b[0m\u001b[0;32m   3587\u001b[0m             \u001b[0mindices\u001b[0m\u001b[1;33m,\u001b[0m \u001b[0maxis\u001b[0m\u001b[1;33m=\u001b[0m\u001b[0mself\u001b[0m\u001b[1;33m.\u001b[0m\u001b[0m_get_block_manager_axis\u001b[0m\u001b[1;33m(\u001b[0m\u001b[0maxis\u001b[0m\u001b[1;33m)\u001b[0m\u001b[1;33m,\u001b[0m \u001b[0mverify\u001b[0m\u001b[1;33m=\u001b[0m\u001b[1;32mTrue\u001b[0m\u001b[1;33m\u001b[0m\u001b[1;33m\u001b[0m\u001b[0m\n",
      "\u001b[1;32m~\\anaconda3\\lib\\site-packages\\pandas\\core\\internals\\managers.py\u001b[0m in \u001b[0;36mtake\u001b[1;34m(self, indexer, axis, verify, convert)\u001b[0m\n\u001b[0;32m   1466\u001b[0m         \u001b[1;32mif\u001b[0m \u001b[0mconvert\u001b[0m\u001b[1;33m:\u001b[0m\u001b[1;33m\u001b[0m\u001b[1;33m\u001b[0m\u001b[0m\n\u001b[1;32m-> 1467\u001b[1;33m             \u001b[0mindexer\u001b[0m \u001b[1;33m=\u001b[0m \u001b[0mmaybe_convert_indices\u001b[0m\u001b[1;33m(\u001b[0m\u001b[0mindexer\u001b[0m\u001b[1;33m,\u001b[0m \u001b[0mn\u001b[0m\u001b[1;33m)\u001b[0m\u001b[1;33m\u001b[0m\u001b[1;33m\u001b[0m\u001b[0m\n\u001b[0m\u001b[0;32m   1468\u001b[0m \u001b[1;33m\u001b[0m\u001b[0m\n",
      "\u001b[1;32m~\\anaconda3\\lib\\site-packages\\pandas\\core\\indexers.py\u001b[0m in \u001b[0;36mmaybe_convert_indices\u001b[1;34m(indices, n)\u001b[0m\n\u001b[0;32m    264\u001b[0m     \u001b[1;32mif\u001b[0m \u001b[0mmask\u001b[0m\u001b[1;33m.\u001b[0m\u001b[0many\u001b[0m\u001b[1;33m(\u001b[0m\u001b[1;33m)\u001b[0m\u001b[1;33m:\u001b[0m\u001b[1;33m\u001b[0m\u001b[1;33m\u001b[0m\u001b[0m\n\u001b[1;32m--> 265\u001b[1;33m         \u001b[1;32mraise\u001b[0m \u001b[0mIndexError\u001b[0m\u001b[1;33m(\u001b[0m\u001b[1;34m\"indices are out-of-bounds\"\u001b[0m\u001b[1;33m)\u001b[0m\u001b[1;33m\u001b[0m\u001b[1;33m\u001b[0m\u001b[0m\n\u001b[0m\u001b[0;32m    266\u001b[0m     \u001b[1;32mreturn\u001b[0m \u001b[0mindices\u001b[0m\u001b[1;33m\u001b[0m\u001b[1;33m\u001b[0m\u001b[0m\n",
      "\u001b[1;31mIndexError\u001b[0m: indices are out-of-bounds",
      "\nThe above exception was the direct cause of the following exception:\n",
      "\u001b[1;31mIndexError\u001b[0m                                Traceback (most recent call last)",
      "\u001b[1;32m<ipython-input-21-fdb4d1a4e5ca>\u001b[0m in \u001b[0;36m<module>\u001b[1;34m\u001b[0m\n\u001b[1;32m----> 1\u001b[1;33m \u001b[0mtrainappdata\u001b[0m\u001b[1;33m.\u001b[0m\u001b[0miloc\u001b[0m\u001b[1;33m[\u001b[0m\u001b[1;33m[\u001b[0m\u001b[1;36m9300\u001b[0m\u001b[1;33m]\u001b[0m\u001b[1;33m]\u001b[0m\u001b[1;33m\u001b[0m\u001b[1;33m\u001b[0m\u001b[0m\n\u001b[0m",
      "\u001b[1;32m~\\anaconda3\\lib\\site-packages\\pandas\\core\\indexing.py\u001b[0m in \u001b[0;36m__getitem__\u001b[1;34m(self, key)\u001b[0m\n\u001b[0;32m    893\u001b[0m \u001b[1;33m\u001b[0m\u001b[0m\n\u001b[0;32m    894\u001b[0m             \u001b[0mmaybe_callable\u001b[0m \u001b[1;33m=\u001b[0m \u001b[0mcom\u001b[0m\u001b[1;33m.\u001b[0m\u001b[0mapply_if_callable\u001b[0m\u001b[1;33m(\u001b[0m\u001b[0mkey\u001b[0m\u001b[1;33m,\u001b[0m \u001b[0mself\u001b[0m\u001b[1;33m.\u001b[0m\u001b[0mobj\u001b[0m\u001b[1;33m)\u001b[0m\u001b[1;33m\u001b[0m\u001b[1;33m\u001b[0m\u001b[0m\n\u001b[1;32m--> 895\u001b[1;33m             \u001b[1;32mreturn\u001b[0m \u001b[0mself\u001b[0m\u001b[1;33m.\u001b[0m\u001b[0m_getitem_axis\u001b[0m\u001b[1;33m(\u001b[0m\u001b[0mmaybe_callable\u001b[0m\u001b[1;33m,\u001b[0m \u001b[0maxis\u001b[0m\u001b[1;33m=\u001b[0m\u001b[0maxis\u001b[0m\u001b[1;33m)\u001b[0m\u001b[1;33m\u001b[0m\u001b[1;33m\u001b[0m\u001b[0m\n\u001b[0m\u001b[0;32m    896\u001b[0m \u001b[1;33m\u001b[0m\u001b[0m\n\u001b[0;32m    897\u001b[0m     \u001b[1;32mdef\u001b[0m \u001b[0m_is_scalar_access\u001b[0m\u001b[1;33m(\u001b[0m\u001b[0mself\u001b[0m\u001b[1;33m,\u001b[0m \u001b[0mkey\u001b[0m\u001b[1;33m:\u001b[0m \u001b[0mTuple\u001b[0m\u001b[1;33m)\u001b[0m\u001b[1;33m:\u001b[0m\u001b[1;33m\u001b[0m\u001b[1;33m\u001b[0m\u001b[0m\n",
      "\u001b[1;32m~\\anaconda3\\lib\\site-packages\\pandas\\core\\indexing.py\u001b[0m in \u001b[0;36m_getitem_axis\u001b[1;34m(self, key, axis)\u001b[0m\n\u001b[0;32m   1490\u001b[0m         \u001b[1;31m# a list of integers\u001b[0m\u001b[1;33m\u001b[0m\u001b[1;33m\u001b[0m\u001b[1;33m\u001b[0m\u001b[0m\n\u001b[0;32m   1491\u001b[0m         \u001b[1;32melif\u001b[0m \u001b[0mis_list_like_indexer\u001b[0m\u001b[1;33m(\u001b[0m\u001b[0mkey\u001b[0m\u001b[1;33m)\u001b[0m\u001b[1;33m:\u001b[0m\u001b[1;33m\u001b[0m\u001b[1;33m\u001b[0m\u001b[0m\n\u001b[1;32m-> 1492\u001b[1;33m             \u001b[1;32mreturn\u001b[0m \u001b[0mself\u001b[0m\u001b[1;33m.\u001b[0m\u001b[0m_get_list_axis\u001b[0m\u001b[1;33m(\u001b[0m\u001b[0mkey\u001b[0m\u001b[1;33m,\u001b[0m \u001b[0maxis\u001b[0m\u001b[1;33m=\u001b[0m\u001b[0maxis\u001b[0m\u001b[1;33m)\u001b[0m\u001b[1;33m\u001b[0m\u001b[1;33m\u001b[0m\u001b[0m\n\u001b[0m\u001b[0;32m   1493\u001b[0m \u001b[1;33m\u001b[0m\u001b[0m\n\u001b[0;32m   1494\u001b[0m         \u001b[1;31m# a single integer\u001b[0m\u001b[1;33m\u001b[0m\u001b[1;33m\u001b[0m\u001b[1;33m\u001b[0m\u001b[0m\n",
      "\u001b[1;32m~\\anaconda3\\lib\\site-packages\\pandas\\core\\indexing.py\u001b[0m in \u001b[0;36m_get_list_axis\u001b[1;34m(self, key, axis)\u001b[0m\n\u001b[0;32m   1475\u001b[0m         \u001b[1;32mexcept\u001b[0m \u001b[0mIndexError\u001b[0m \u001b[1;32mas\u001b[0m \u001b[0merr\u001b[0m\u001b[1;33m:\u001b[0m\u001b[1;33m\u001b[0m\u001b[1;33m\u001b[0m\u001b[0m\n\u001b[0;32m   1476\u001b[0m             \u001b[1;31m# re-raise with different error message\u001b[0m\u001b[1;33m\u001b[0m\u001b[1;33m\u001b[0m\u001b[1;33m\u001b[0m\u001b[0m\n\u001b[1;32m-> 1477\u001b[1;33m             \u001b[1;32mraise\u001b[0m \u001b[0mIndexError\u001b[0m\u001b[1;33m(\u001b[0m\u001b[1;34m\"positional indexers are out-of-bounds\"\u001b[0m\u001b[1;33m)\u001b[0m \u001b[1;32mfrom\u001b[0m \u001b[0merr\u001b[0m\u001b[1;33m\u001b[0m\u001b[1;33m\u001b[0m\u001b[0m\n\u001b[0m\u001b[0;32m   1478\u001b[0m \u001b[1;33m\u001b[0m\u001b[0m\n\u001b[0;32m   1479\u001b[0m     \u001b[1;32mdef\u001b[0m \u001b[0m_getitem_axis\u001b[0m\u001b[1;33m(\u001b[0m\u001b[0mself\u001b[0m\u001b[1;33m,\u001b[0m \u001b[0mkey\u001b[0m\u001b[1;33m,\u001b[0m \u001b[0maxis\u001b[0m\u001b[1;33m:\u001b[0m \u001b[0mint\u001b[0m\u001b[1;33m)\u001b[0m\u001b[1;33m:\u001b[0m\u001b[1;33m\u001b[0m\u001b[1;33m\u001b[0m\u001b[0m\n",
      "\u001b[1;31mIndexError\u001b[0m: positional indexers are out-of-bounds"
     ]
    }
   ],
   "source": [
    "trainappdata.iloc[[9300]]"
   ]
  },
  {
   "cell_type": "markdown",
   "metadata": {
    "cell_id": "00012-d9920aa9-3dc7-408e-90df-5cd4071cf001",
    "deepnote_cell_type": "markdown"
   },
   "source": [
    "#### Removal of incorrect datas\n",
    "Since reviews are of a numeric value, we can simply do a search for non numeric reviews"
   ]
  },
  {
   "cell_type": "code",
   "execution_count": 11,
   "metadata": {
    "cell_id": "00013-e9089554-00df-4493-ac30-929420a8dff8",
    "deepnote_cell_type": "code",
    "deepnote_to_be_reexecuted": false,
    "execution": {
     "iopub.execute_input": "2021-10-20T04:55:39.494211Z",
     "iopub.status.busy": "2021-10-20T04:55:39.493063Z",
     "iopub.status.idle": "2021-10-20T04:55:39.512015Z",
     "shell.execute_reply": "2021-10-20T04:55:39.511328Z",
     "shell.execute_reply.started": "2021-10-20T04:55:39.494152Z"
    },
    "execution_millis": 12,
    "execution_start": 1635864818330,
    "scrolled": true,
    "source_hash": "a3b0c952"
   },
   "outputs": [
    {
     "name": "stdout",
     "output_type": "stream",
     "text": [
      "Number of non numeric reviews : 0\n"
     ]
    }
   ],
   "source": [
    "print('Number of non numeric reviews :', len(trainappdata) - trainappdata.reviews.str.isnumeric().sum())"
   ]
  },
  {
   "cell_type": "code",
   "execution_count": 12,
   "metadata": {
    "cell_id": "00014-00bc94a9-ab69-47dc-9cac-0eead2896c10",
    "deepnote_cell_type": "code",
    "deepnote_to_be_reexecuted": false,
    "execution_millis": 2,
    "execution_start": 1635864818400,
    "scrolled": true,
    "source_hash": "d7dae80b",
    "tags": []
   },
   "outputs": [
    {
     "data": {
      "text/html": [
       "<div>\n",
       "<style scoped>\n",
       "    .dataframe tbody tr th:only-of-type {\n",
       "        vertical-align: middle;\n",
       "    }\n",
       "\n",
       "    .dataframe tbody tr th {\n",
       "        vertical-align: top;\n",
       "    }\n",
       "\n",
       "    .dataframe thead th {\n",
       "        text-align: right;\n",
       "    }\n",
       "</style>\n",
       "<table border=\"1\" class=\"dataframe\">\n",
       "  <thead>\n",
       "    <tr style=\"text-align: right;\">\n",
       "      <th></th>\n",
       "      <th>app</th>\n",
       "      <th>category</th>\n",
       "      <th>rating</th>\n",
       "      <th>reviews</th>\n",
       "      <th>size</th>\n",
       "      <th>installs</th>\n",
       "      <th>type</th>\n",
       "      <th>price</th>\n",
       "      <th>content rating</th>\n",
       "      <th>genres</th>\n",
       "      <th>last updated</th>\n",
       "      <th>current ver</th>\n",
       "      <th>android ver</th>\n",
       "    </tr>\n",
       "  </thead>\n",
       "  <tbody>\n",
       "  </tbody>\n",
       "</table>\n",
       "</div>"
      ],
      "text/plain": [
       "Empty DataFrame\n",
       "Columns: [app, category, rating, reviews, size, installs, type, price, content rating, genres, last updated, current ver, android ver]\n",
       "Index: []"
      ]
     },
     "execution_count": 12,
     "metadata": {},
     "output_type": "execute_result"
    }
   ],
   "source": [
    "trainappdata[pd.to_numeric(trainappdata.rating, errors='coerce').isna()]\n"
   ]
  },
  {
   "cell_type": "code",
   "execution_count": 13,
   "metadata": {
    "cell_id": "00014-09b766c1-c308-410e-bdf7-6b0082f55ecd",
    "deepnote_cell_type": "code",
    "deepnote_to_be_reexecuted": false,
    "execution": {
     "iopub.execute_input": "2021-10-20T04:55:39.514074Z",
     "iopub.status.busy": "2021-10-20T04:55:39.513138Z",
     "iopub.status.idle": "2021-10-20T04:55:39.548885Z",
     "shell.execute_reply": "2021-10-20T04:55:39.547671Z",
     "shell.execute_reply.started": "2021-10-20T04:55:39.514027Z"
    },
    "execution_millis": 49,
    "execution_start": 1635864818410,
    "scrolled": true,
    "source_hash": "1b29669d"
   },
   "outputs": [
    {
     "data": {
      "text/html": [
       "<div>\n",
       "<style scoped>\n",
       "    .dataframe tbody tr th:only-of-type {\n",
       "        vertical-align: middle;\n",
       "    }\n",
       "\n",
       "    .dataframe tbody tr th {\n",
       "        vertical-align: top;\n",
       "    }\n",
       "\n",
       "    .dataframe thead th {\n",
       "        text-align: right;\n",
       "    }\n",
       "</style>\n",
       "<table border=\"1\" class=\"dataframe\">\n",
       "  <thead>\n",
       "    <tr style=\"text-align: right;\">\n",
       "      <th></th>\n",
       "      <th>app</th>\n",
       "      <th>category</th>\n",
       "      <th>rating</th>\n",
       "      <th>reviews</th>\n",
       "      <th>size</th>\n",
       "      <th>installs</th>\n",
       "      <th>type</th>\n",
       "      <th>price</th>\n",
       "      <th>content rating</th>\n",
       "      <th>genres</th>\n",
       "      <th>last updated</th>\n",
       "      <th>current ver</th>\n",
       "      <th>android ver</th>\n",
       "    </tr>\n",
       "  </thead>\n",
       "  <tbody>\n",
       "  </tbody>\n",
       "</table>\n",
       "</div>"
      ],
      "text/plain": [
       "Empty DataFrame\n",
       "Columns: [app, category, rating, reviews, size, installs, type, price, content rating, genres, last updated, current ver, android ver]\n",
       "Index: []"
      ]
     },
     "execution_count": 13,
     "metadata": {},
     "output_type": "execute_result"
    }
   ],
   "source": [
    "trainappdata[pd.to_numeric(trainappdata.reviews, errors='coerce').isna()]\n"
   ]
  },
  {
   "cell_type": "markdown",
   "metadata": {
    "cell_id": "00015-07bc6d15-bc2e-48d6-9136-7d333f7c94fe",
    "deepnote_cell_type": "markdown"
   },
   "source": [
    "##### From this data, we notice that all the values have been shifted 1 column to the left starting from the 'category' column to 'genres'"
   ]
  },
  {
   "cell_type": "code",
   "execution_count": null,
   "metadata": {
    "cell_id": "00016-1c4fb46e-90e6-41f4-8f4c-e7a0a4a5b21d",
    "deepnote_cell_type": "code",
    "deepnote_to_be_reexecuted": false,
    "execution": {
     "iopub.execute_input": "2021-10-20T04:55:39.550776Z",
     "iopub.status.busy": "2021-10-20T04:55:39.550523Z",
     "iopub.status.idle": "2021-10-20T04:55:39.564341Z",
     "shell.execute_reply": "2021-10-20T04:55:39.563288Z",
     "shell.execute_reply.started": "2021-10-20T04:55:39.550747Z"
    },
    "execution_millis": 6,
    "execution_start": 1635864818465,
    "scrolled": true,
    "source_hash": "6b3399e9"
   },
   "outputs": [],
   "source": [
    "#not necessary \n",
    "trainappdata.at[9300,'category'] = np.nan\n",
    "trainappdata.at[9300,'rating'] = 1.9\n",
    "trainappdata.at[9300,'reviews'] = 19.0\n",
    "trainappdata.at[9300,'size'] = '3.0M'\n",
    "trainappdata.at[9300,'installs'] = '1,000+'\n",
    "trainappdata.at[9300,'type'] = 'Free'\n",
    "trainappdata.at[9300,'price'] = 0\n",
    "trainappdata.at[9300,'content rating'] = 'Everyone'\n",
    "trainappdata.at[9300,'genres'] = np.nan\n",
    "trainappdata.at[9300,'last updated'] = 'February 11, 2018'\n",
    "trainappdata.at[9300,'current ver'] = '1.0.19'\n",
    "trainappdata.at[9300,'android ver'] = '4.0 and up'"
   ]
  },
  {
   "cell_type": "code",
   "execution_count": null,
   "metadata": {
    "cell_id": "00017-17dbce8d-915b-41e9-8966-c3f2ca8461ca",
    "deepnote_cell_type": "code",
    "deepnote_to_be_reexecuted": false,
    "execution": {
     "iopub.execute_input": "2021-10-20T04:55:39.566783Z",
     "iopub.status.busy": "2021-10-20T04:55:39.56594Z",
     "iopub.status.idle": "2021-10-20T04:55:39.579564Z",
     "shell.execute_reply": "2021-10-20T04:55:39.578354Z",
     "shell.execute_reply.started": "2021-10-20T04:55:39.566737Z"
    },
    "execution_millis": 0,
    "execution_start": 1635864818519,
    "scrolled": true,
    "source_hash": "ca9b2f01"
   },
   "outputs": [],
   "source": [
    "trainappdata = trainappdata.drop(9300)\n",
    "trainappdata = trainappdata.reset_index(drop=True)"
   ]
  },
  {
   "cell_type": "code",
   "execution_count": null,
   "metadata": {
    "cell_id": "00018-67b19247-8687-4039-9c47-0d1d158f02aa",
    "deepnote_cell_type": "code",
    "deepnote_to_be_reexecuted": false,
    "execution": {
     "iopub.execute_input": "2021-10-20T04:55:39.582128Z",
     "iopub.status.busy": "2021-10-20T04:55:39.581786Z",
     "iopub.status.idle": "2021-10-20T04:55:39.599714Z",
     "shell.execute_reply": "2021-10-20T04:55:39.598343Z",
     "shell.execute_reply.started": "2021-10-20T04:55:39.582082Z"
    },
    "execution_millis": 2,
    "execution_start": 1635864818520,
    "scrolled": true,
    "source_hash": "2e457c42"
   },
   "outputs": [],
   "source": [
    "print('Number of non numeric reviews :', len(trainappdata) - trainappdata.reviews.str.isnumeric().sum())\n"
   ]
  },
  {
   "cell_type": "code",
   "execution_count": null,
   "metadata": {
    "cell_id": "00020-7b29316b-dbf0-4b3a-b342-e36c6c9a9881",
    "deepnote_cell_type": "code",
    "deepnote_to_be_reexecuted": false,
    "execution_millis": 0,
    "execution_start": 1635864818564,
    "scrolled": true,
    "source_hash": "9fdeff23",
    "tags": []
   },
   "outputs": [],
   "source": [
    "trainappdata.info() #updated datainfo "
   ]
  },
  {
   "cell_type": "markdown",
   "metadata": {
    "cell_id": "00020-676099cc-0b7a-4cdf-a3aa-e281eefba9b3",
    "deepnote_cell_type": "markdown"
   },
   "source": [
    "## Type Analysis\n",
    "##### Breaking down of the apps data based on their `Type`"
   ]
  },
  {
   "cell_type": "code",
   "execution_count": null,
   "metadata": {
    "cell_id": "00021-abcb1873-7b24-4295-87ef-9260212d97f7",
    "deepnote_cell_type": "code",
    "deepnote_to_be_reexecuted": false,
    "execution": {
     "iopub.execute_input": "2021-10-20T04:55:39.61382Z",
     "iopub.status.busy": "2021-10-20T04:55:39.612585Z",
     "iopub.status.idle": "2021-10-20T04:55:39.8353Z",
     "shell.execute_reply": "2021-10-20T04:55:39.834457Z",
     "shell.execute_reply.started": "2021-10-20T04:55:39.613772Z"
    },
    "execution_millis": 323,
    "execution_start": 1635864818565,
    "scrolled": true,
    "source_hash": "8c74854a"
   },
   "outputs": [],
   "source": [
    "sb.countplot(x='type', data=trainappdata)\n",
    "plt.title('Paid vs Free apps') #Note that there are only 2 unique values of type"
   ]
  },
  {
   "cell_type": "markdown",
   "metadata": {
    "cell_id": "00022-155f4ac9-cfdf-4b99-845a-da61687f2a0a",
    "deepnote_cell_type": "markdown"
   },
   "source": [
    "##### From this, we can see that there are a lot more free apps than paid apps in the store"
   ]
  },
  {
   "cell_type": "code",
   "execution_count": null,
   "metadata": {
    "cell_id": "00023-0aa211a0-59b7-424d-b96f-d186b814c6e7",
    "deepnote_cell_type": "code",
    "deepnote_to_be_reexecuted": false,
    "execution": {
     "iopub.execute_input": "2021-10-20T04:55:39.840439Z",
     "iopub.status.busy": "2021-10-20T04:55:39.836624Z",
     "iopub.status.idle": "2021-10-20T04:55:39.852835Z",
     "shell.execute_reply": "2021-10-20T04:55:39.851801Z",
     "shell.execute_reply.started": "2021-10-20T04:55:39.840388Z"
    },
    "execution_millis": 29,
    "execution_start": 1635864818867,
    "scrolled": true,
    "source_hash": "ebfad8c7"
   },
   "outputs": [],
   "source": [
    "print('{}% of the total apps in the dataset are free'.format(np.round(len(trainappdata[trainappdata['type']=='Free'])*100/len(trainappdata)),2))"
   ]
  },
  {
   "cell_type": "markdown",
   "metadata": {
    "cell_id": "00024-89e48e1c-7679-4b24-9956-cf51cfb96eb7",
    "deepnote_cell_type": "markdown"
   },
   "source": [
    "## Price Analysis\n",
    "##### Breaking down of the apps data based on the `Price`"
   ]
  },
  {
   "cell_type": "code",
   "execution_count": null,
   "metadata": {
    "cell_id": "00025-ed17c3b1-fe9e-4be5-821a-230659fb756b",
    "deepnote_cell_type": "code",
    "deepnote_to_be_reexecuted": false,
    "execution": {
     "iopub.execute_input": "2021-10-20T04:55:39.854973Z",
     "iopub.status.busy": "2021-10-20T04:55:39.854461Z",
     "iopub.status.idle": "2021-10-20T04:55:39.86569Z",
     "shell.execute_reply": "2021-10-20T04:55:39.865Z",
     "shell.execute_reply.started": "2021-10-20T04:55:39.854938Z"
    },
    "execution_millis": 28,
    "execution_start": 1635864818868,
    "scrolled": true,
    "source_hash": "9285c5b2"
   },
   "outputs": [],
   "source": [
    "trainappdata['price'].isnull().sum() "
   ]
  },
  {
   "cell_type": "markdown",
   "metadata": {
    "cell_id": "00026-4f4bee36-0374-4b63-8dd8-2ef1ea90f1c8",
    "deepnote_cell_type": "markdown"
   },
   "source": [
    "##### This is to check whether there are any missing values in the price column. Since the result is 0, there are no missing values."
   ]
  },
  {
   "cell_type": "code",
   "execution_count": null,
   "metadata": {
    "cell_id": "00027-3658fed8-7bf9-4f74-aa76-99347171f6e1",
    "deepnote_cell_type": "code",
    "deepnote_to_be_reexecuted": false,
    "execution": {
     "iopub.execute_input": "2021-10-20T04:55:39.867947Z",
     "iopub.status.busy": "2021-10-20T04:55:39.867404Z",
     "iopub.status.idle": "2021-10-20T04:55:39.88683Z",
     "shell.execute_reply": "2021-10-20T04:55:39.886222Z",
     "shell.execute_reply.started": "2021-10-20T04:55:39.867915Z"
    },
    "execution_millis": 46,
    "execution_start": 1635864818869,
    "scrolled": true,
    "source_hash": "89c70126"
   },
   "outputs": [],
   "source": [
    "trainappdata['price'] = trainappdata['price'].str.replace('$','').astype(float)"
   ]
  },
  {
   "cell_type": "markdown",
   "metadata": {
    "cell_id": "00028-149fb418-99bc-40c8-898b-71a3a051242b",
    "deepnote_cell_type": "markdown"
   },
   "source": [
    "##### Dropping the ’$‘ to ensure every data is a numeric data and convert it to floating point data for the ease of analysis Price data"
   ]
  },
  {
   "cell_type": "code",
   "execution_count": null,
   "metadata": {
    "cell_id": "00029-6bd037d4-bfe4-4db5-beca-ee0684256f29",
    "deepnote_cell_type": "code",
    "deepnote_to_be_reexecuted": false,
    "execution": {
     "iopub.execute_input": "2021-10-20T04:55:39.888453Z",
     "iopub.status.busy": "2021-10-20T04:55:39.888174Z",
     "iopub.status.idle": "2021-10-20T04:55:39.899047Z",
     "shell.execute_reply": "2021-10-20T04:55:39.898038Z",
     "shell.execute_reply.started": "2021-10-20T04:55:39.888422Z"
    },
    "execution_millis": 4,
    "execution_start": 1635864818913,
    "scrolled": true,
    "source_hash": "2c353b51"
   },
   "outputs": [],
   "source": [
    "trainappdata['price'].value_counts()"
   ]
  },
  {
   "cell_type": "markdown",
   "metadata": {
    "cell_id": "00030-68cc7756-9061-485d-a890-3f15b16cb56d",
    "deepnote_cell_type": "markdown"
   },
   "source": [
    "##### From this code, we can see that most of the apps(8903 of 9659) are priced at $0.00"
   ]
  },
  {
   "cell_type": "code",
   "execution_count": null,
   "metadata": {
    "cell_id": "00031-8aff6b25-f151-4b68-a377-44cc048eb700",
    "deepnote_cell_type": "code",
    "deepnote_to_be_reexecuted": false,
    "execution": {
     "iopub.execute_input": "2021-10-20T04:55:39.901131Z",
     "iopub.status.busy": "2021-10-20T04:55:39.900555Z",
     "iopub.status.idle": "2021-10-20T04:55:39.914771Z",
     "shell.execute_reply": "2021-10-20T04:55:39.913547Z",
     "shell.execute_reply.started": "2021-10-20T04:55:39.901093Z"
    },
    "execution_millis": 3,
    "execution_start": 1635864818914,
    "scrolled": true,
    "source_hash": "ffcbe721"
   },
   "outputs": [],
   "source": [
    "print('{}% of the total apps in the dataset are priced at $0.00'.format(np.round(len(trainappdata[trainappdata['price']==0])*100/len(trainappdata)),2))"
   ]
  },
  {
   "cell_type": "markdown",
   "metadata": {
    "cell_id": "00032-201b4be3-b2d2-45fb-836f-baad5d34e67d",
    "deepnote_cell_type": "markdown"
   },
   "source": [
    "##### This matches with the earlier value we received from 'Type' = 'Free'and can hence confirm that the value of $0.00 under 'price' is equavalent to the type free"
   ]
  },
  {
   "cell_type": "code",
   "execution_count": null,
   "metadata": {
    "cell_id": "00033-e3883e55-775a-4de6-94c7-2c431419f4ac",
    "deepnote_cell_type": "code",
    "deepnote_to_be_reexecuted": false,
    "execution": {
     "iopub.execute_input": "2021-10-20T04:55:39.916597Z",
     "iopub.status.busy": "2021-10-20T04:55:39.916344Z",
     "iopub.status.idle": "2021-10-20T04:55:40.262489Z",
     "shell.execute_reply": "2021-10-20T04:55:40.261641Z",
     "shell.execute_reply.started": "2021-10-20T04:55:39.91656Z"
    },
    "execution_millis": 299,
    "execution_start": 1635864818978,
    "scrolled": true,
    "source_hash": "f9571195"
   },
   "outputs": [],
   "source": [
    "sb.kdeplot(x='price', data=trainappdata)"
   ]
  },
  {
   "cell_type": "markdown",
   "metadata": {
    "cell_id": "00034-c05f988a-9bbc-40cb-9d7a-5edf9c73a913",
    "deepnote_cell_type": "markdown"
   },
   "source": [
    "##### Using a density plot, we can clearly see that majority of the apps are free"
   ]
  },
  {
   "cell_type": "code",
   "execution_count": null,
   "metadata": {
    "cell_id": "00035-9cb11380-f57f-4882-8cd3-7408da3ba5ad",
    "deepnote_cell_type": "code",
    "deepnote_to_be_reexecuted": false,
    "execution": {
     "iopub.execute_input": "2021-10-20T04:55:40.264978Z",
     "iopub.status.busy": "2021-10-20T04:55:40.264013Z",
     "iopub.status.idle": "2021-10-20T04:55:40.779836Z",
     "shell.execute_reply": "2021-10-20T04:55:40.77915Z",
     "shell.execute_reply.started": "2021-10-20T04:55:40.264941Z"
    },
    "execution_millis": 481,
    "execution_start": 1635864819374,
    "scrolled": true,
    "source_hash": "9efc0e7d"
   },
   "outputs": [],
   "source": [
    "sb.displot(x='price', data=trainappdata[(trainappdata['price']>0) & (trainappdata['price']<10)], bins=20)\n",
    "plt.title('Distribution of app prices between 0-10$')"
   ]
  },
  {
   "cell_type": "code",
   "execution_count": null,
   "metadata": {
    "cell_id": "00036-8cf75a86-7c20-4c5f-a026-e415dcf9798c",
    "deepnote_cell_type": "code",
    "deepnote_to_be_reexecuted": false,
    "execution": {
     "iopub.execute_input": "2021-10-20T04:55:40.785079Z",
     "iopub.status.busy": "2021-10-20T04:55:40.784614Z",
     "iopub.status.idle": "2021-10-20T04:55:41.392666Z",
     "shell.execute_reply": "2021-10-20T04:55:41.392003Z",
     "shell.execute_reply.started": "2021-10-20T04:55:40.785038Z"
    },
    "execution_millis": 545,
    "execution_start": 1635864820015,
    "scrolled": true,
    "source_hash": "4fba65b4"
   },
   "outputs": [],
   "source": [
    "sb.displot(x='price', data=trainappdata[(trainappdata['price']>10)], bins=40)\n",
    "plt.title('Distribution of app prices higher than 10$')"
   ]
  },
  {
   "cell_type": "markdown",
   "metadata": {
    "cell_id": "00037-4d4922b1-0ece-434f-86e1-743b4c8b12ab",
    "deepnote_cell_type": "markdown"
   },
   "source": [
    "##### From this distribution, we noticed that there are some apps with a price closed to \\$400, so we investigate apps which are > $400"
   ]
  },
  {
   "cell_type": "code",
   "execution_count": null,
   "metadata": {
    "cell_id": "00038-202a40e3-97e4-4a47-acae-252c417cbc6b",
    "deepnote_cell_type": "code",
    "deepnote_to_be_reexecuted": false,
    "execution": {
     "iopub.execute_input": "2021-10-20T04:55:41.394314Z",
     "iopub.status.busy": "2021-10-20T04:55:41.393712Z",
     "iopub.status.idle": "2021-10-20T04:55:41.423728Z",
     "shell.execute_reply": "2021-10-20T04:55:41.422535Z",
     "shell.execute_reply.started": "2021-10-20T04:55:41.394278Z"
    },
    "execution_millis": 99,
    "execution_start": 1635864820568,
    "scrolled": true,
    "source_hash": "a49ec9a2"
   },
   "outputs": [],
   "source": [
    "trainappdata[trainappdata['price']>350]"
   ]
  },
  {
   "cell_type": "code",
   "execution_count": null,
   "metadata": {
    "cell_id": "00039-e73be41d-afdf-422b-bdd1-b4324b95a255",
    "deepnote_cell_type": "code",
    "deepnote_to_be_reexecuted": false,
    "execution": {
     "iopub.execute_input": "2021-10-20T04:55:41.425408Z",
     "iopub.status.busy": "2021-10-20T04:55:41.425018Z",
     "iopub.status.idle": "2021-10-20T04:55:41.450281Z",
     "shell.execute_reply": "2021-10-20T04:55:41.449499Z",
     "shell.execute_reply.started": "2021-10-20T04:55:41.425376Z"
    },
    "execution_millis": 70,
    "execution_start": 1635864820660,
    "scrolled": true,
    "source_hash": "9851fde1"
   },
   "outputs": [],
   "source": [
    "trainappdata[(trainappdata['price']>90) & (trainappdata['price']<350)]"
   ]
  },
  {
   "cell_type": "markdown",
   "metadata": {
    "cell_id": "00040-a022b463-52c6-4630-9857-d520436f3986",
    "deepnote_cell_type": "markdown"
   },
   "source": [
    "##### Among these apps, there is still one  app 'I am rich VIP' that stands out, while the others looks to be 'serious apps'. However, none of those apps have any reviews or rating, with minimal installations.\n",
    "\n",
    "##### What is the distribution of the paid apps?"
   ]
  },
  {
   "cell_type": "code",
   "execution_count": null,
   "metadata": {
    "cell_id": "00041-91038aed-f06f-40b6-86f7-aa6e290ece0d",
    "deepnote_cell_type": "code",
    "deepnote_to_be_reexecuted": false,
    "execution": {
     "iopub.execute_input": "2021-10-20T04:55:41.452088Z",
     "iopub.status.busy": "2021-10-20T04:55:41.451703Z",
     "iopub.status.idle": "2021-10-20T04:55:41.741391Z",
     "shell.execute_reply": "2021-10-20T04:55:41.740113Z",
     "shell.execute_reply.started": "2021-10-20T04:55:41.452034Z"
    },
    "execution_millis": 355,
    "execution_start": 1635864820727,
    "scrolled": true,
    "source_hash": "3b5ae9a5"
   },
   "outputs": [],
   "source": [
    "sb.boxplot(x='price', data=trainappdata.loc[trainappdata['price'] > 0])"
   ]
  },
  {
   "cell_type": "code",
   "execution_count": null,
   "metadata": {
    "cell_id": "00042-cf44d42e-30b1-4f08-ac51-a4906d7a36a9",
    "deepnote_cell_type": "code",
    "deepnote_to_be_reexecuted": false,
    "execution": {
     "iopub.execute_input": "2021-10-20T04:55:41.743345Z",
     "iopub.status.busy": "2021-10-20T04:55:41.742989Z",
     "iopub.status.idle": "2021-10-20T04:55:43.200366Z",
     "shell.execute_reply": "2021-10-20T04:55:43.199309Z",
     "shell.execute_reply.started": "2021-10-20T04:55:41.743302Z"
    },
    "execution_millis": 1823,
    "execution_start": 1635864821019,
    "scrolled": true,
    "source_hash": "542df98e"
   },
   "outputs": [],
   "source": [
    "sb.histplot(x='price', data = trainappdata.loc[(trainappdata['price']>0)])"
   ]
  },
  {
   "cell_type": "code",
   "execution_count": null,
   "metadata": {
    "cell_id": "00043-88e60ff3-e055-4716-bbf4-783d42ab9523",
    "deepnote_cell_type": "code",
    "deepnote_to_be_reexecuted": false,
    "execution": {
     "iopub.execute_input": "2021-10-20T04:55:43.201943Z",
     "iopub.status.busy": "2021-10-20T04:55:43.201705Z",
     "iopub.status.idle": "2021-10-20T04:55:43.442788Z",
     "shell.execute_reply": "2021-10-20T04:55:43.441787Z",
     "shell.execute_reply.started": "2021-10-20T04:55:43.201915Z"
    },
    "execution_millis": 372,
    "execution_start": 1635864822864,
    "scrolled": true,
    "source_hash": "b03c44bb"
   },
   "outputs": [],
   "source": [
    "sb.violinplot(x='price', data = trainappdata.loc[(trainappdata['price']>0)])"
   ]
  },
  {
   "cell_type": "markdown",
   "metadata": {
    "cell_id": "00045-765b7674-6eb6-46ab-8945-cfb650c9e6f9",
    "deepnote_cell_type": "markdown",
    "tags": []
   },
   "source": [
    "Since data is rather heavily skewed to the right, we try to clean data by removing app price >$50"
   ]
  },
  {
   "cell_type": "code",
   "execution_count": null,
   "metadata": {
    "cell_id": "00044-49cd653e-636f-4826-ac93-3e1f6a301f82",
    "deepnote_cell_type": "code",
    "deepnote_to_be_reexecuted": false,
    "execution": {
     "iopub.execute_input": "2021-10-20T04:55:43.444538Z",
     "iopub.status.busy": "2021-10-20T04:55:43.444274Z",
     "iopub.status.idle": "2021-10-20T04:55:43.691562Z",
     "shell.execute_reply": "2021-10-20T04:55:43.690922Z",
     "shell.execute_reply.started": "2021-10-20T04:55:43.444506Z"
    },
    "execution_millis": 335,
    "execution_start": 1635864823103,
    "scrolled": true,
    "source_hash": "1cd958b4"
   },
   "outputs": [],
   "source": [
    "sb.boxplot(x='price', data=trainappdata.loc[(trainappdata['price'] < 50) &(trainappdata['price'] > 0)])"
   ]
  },
  {
   "cell_type": "code",
   "execution_count": null,
   "metadata": {
    "cell_id": "00047-e0a9c508-1135-46bd-af55-681f9a081e05",
    "deepnote_cell_type": "code",
    "deepnote_to_be_reexecuted": false,
    "execution_millis": 547,
    "execution_start": 1635864823490,
    "scrolled": true,
    "source_hash": "ae2055aa",
    "tags": []
   },
   "outputs": [],
   "source": [
    "sb.histplot(x='price', data=trainappdata.loc[(trainappdata['price'] < 50) &(trainappdata['price'] > 0)])"
   ]
  },
  {
   "cell_type": "code",
   "execution_count": null,
   "metadata": {
    "cell_id": "00048-68def85e-4f2d-45a5-9d5a-e35b97bb69aa",
    "deepnote_cell_type": "code",
    "deepnote_to_be_reexecuted": false,
    "execution_millis": 315,
    "execution_start": 1635864824078,
    "scrolled": true,
    "source_hash": "4d1fecb2",
    "tags": []
   },
   "outputs": [],
   "source": [
    "sb.violinplot(x='price', data=trainappdata.loc[(trainappdata['price'] < 50) &(trainappdata['price'] > 0)])"
   ]
  },
  {
   "cell_type": "code",
   "execution_count": null,
   "metadata": {
    "scrolled": false
   },
   "outputs": [],
   "source": [
    "trainappdata = trainappdata[trainappdata['price'] <= 50.0]"
   ]
  },
  {
   "cell_type": "code",
   "execution_count": null,
   "metadata": {},
   "outputs": [],
   "source": [
    "trainappdata['price'].describe()"
   ]
  },
  {
   "cell_type": "markdown",
   "metadata": {
    "cell_id": "00047-3fd83dba-a714-4560-909d-f854783086fe",
    "deepnote_cell_type": "markdown",
    "execution": {
     "iopub.execute_input": "2021-10-14T15:57:42.778268Z",
     "iopub.status.busy": "2021-10-14T15:57:42.777985Z",
     "iopub.status.idle": "2021-10-14T15:57:42.781807Z",
     "shell.execute_reply": "2021-10-14T15:57:42.781032Z",
     "shell.execute_reply.started": "2021-10-14T15:57:42.778229Z"
    }
   },
   "source": [
    "## App Size Analysis\n",
    "##### Breaking down of the apps data based on the app `Size`"
   ]
  },
  {
   "cell_type": "code",
   "execution_count": null,
   "metadata": {
    "cell_id": "00048-11fc0953-0cac-4453-8061-ed93215d91e0",
    "deepnote_cell_type": "code",
    "deepnote_to_be_reexecuted": false,
    "execution": {
     "iopub.execute_input": "2021-10-20T04:55:44.4118Z",
     "iopub.status.busy": "2021-10-20T04:55:44.411256Z",
     "iopub.status.idle": "2021-10-20T04:55:44.420176Z",
     "shell.execute_reply": "2021-10-20T04:55:44.419063Z",
     "shell.execute_reply.started": "2021-10-20T04:55:44.41176Z"
    },
    "execution_millis": 2,
    "execution_start": 1635864824434,
    "scrolled": true,
    "source_hash": "67f2a84a"
   },
   "outputs": [],
   "source": [
    "trainappdata['size'] "
   ]
  },
  {
   "cell_type": "markdown",
   "metadata": {
    "cell_id": "00049-f845d5e7-969e-48cd-a448-bed282015665",
    "deepnote_cell_type": "markdown"
   },
   "source": [
    "##### We can see there is M(Megabyte) and K(Kilobyte). We also notice there is \"Varies with device\" in the Size column. Hence, we standardlize to Megabyte(M) and convert to \"Varies with device\" to NaN (Not a Number). "
   ]
  },
  {
   "cell_type": "code",
   "execution_count": null,
   "metadata": {
    "cell_id": "00050-39f34b68-ed8b-447a-8e4a-c69e30fe1cd2",
    "deepnote_cell_type": "code",
    "deepnote_to_be_reexecuted": false,
    "execution": {
     "iopub.execute_input": "2021-10-20T04:55:44.421703Z",
     "iopub.status.busy": "2021-10-20T04:55:44.42142Z",
     "iopub.status.idle": "2021-10-20T04:55:44.457506Z",
     "shell.execute_reply": "2021-10-20T04:55:44.456721Z",
     "shell.execute_reply.started": "2021-10-20T04:55:44.421671Z"
    },
    "execution_millis": 10,
    "execution_start": 1635864824475,
    "scrolled": true,
    "source_hash": "cdff876f"
   },
   "outputs": [],
   "source": [
    "trainappdata[~trainappdata['size'].str.contains('M', regex= True, na=False)].head()"
   ]
  },
  {
   "cell_type": "code",
   "execution_count": null,
   "metadata": {
    "cell_id": "00051-d640dc0d-e4a9-40bd-85c4-06319736bdde",
    "deepnote_cell_type": "code",
    "deepnote_to_be_reexecuted": false,
    "execution": {
     "iopub.execute_input": "2021-10-20T04:55:44.459806Z",
     "iopub.status.busy": "2021-10-20T04:55:44.458745Z",
     "iopub.status.idle": "2021-10-20T04:55:44.489684Z",
     "shell.execute_reply": "2021-10-20T04:55:44.488309Z",
     "shell.execute_reply.started": "2021-10-20T04:55:44.459765Z"
    },
    "execution_millis": 66,
    "execution_start": 1635864824483,
    "scrolled": true,
    "source_hash": "766d7fbb"
   },
   "outputs": [],
   "source": [
    "trainappdata[~trainappdata['size'].str.contains('[k,M,Varies with device]$', regex= True, na=False)].head()"
   ]
  },
  {
   "cell_type": "code",
   "execution_count": null,
   "metadata": {
    "cell_id": "00052-8a2d0024-e906-4680-8c3b-f9ed7fa3d7de",
    "deepnote_cell_type": "code",
    "deepnote_to_be_reexecuted": false,
    "execution": {
     "iopub.execute_input": "2021-10-20T04:55:44.492571Z",
     "iopub.status.busy": "2021-10-20T04:55:44.491711Z",
     "iopub.status.idle": "2021-10-20T04:55:44.516671Z",
     "shell.execute_reply": "2021-10-20T04:55:44.515677Z",
     "shell.execute_reply.started": "2021-10-20T04:55:44.492527Z"
    },
    "execution_millis": 0,
    "execution_start": 1635864824594,
    "scrolled": true,
    "source_hash": "8075ec7a"
   },
   "outputs": [],
   "source": [
    "trainappdata['size'] = trainappdata['size'].replace('Varies with device', 'NaN', regex=True) #'NaN' = Not a Number"
   ]
  },
  {
   "cell_type": "code",
   "execution_count": null,
   "metadata": {
    "cell_id": "00053-cb65e0aa-f1b8-4a21-a073-ac5febe8f999",
    "deepnote_cell_type": "code",
    "deepnote_to_be_reexecuted": false,
    "execution": {
     "iopub.execute_input": "2021-10-20T04:55:44.518282Z",
     "iopub.status.busy": "2021-10-20T04:55:44.51799Z",
     "iopub.status.idle": "2021-10-20T04:55:44.535637Z",
     "shell.execute_reply": "2021-10-20T04:55:44.534762Z",
     "shell.execute_reply.started": "2021-10-20T04:55:44.518249Z"
    },
    "execution_millis": 50,
    "execution_start": 1635864824595,
    "scrolled": true,
    "source_hash": "d41456e3"
   },
   "outputs": [],
   "source": [
    "trainappdata['size']"
   ]
  },
  {
   "cell_type": "markdown",
   "metadata": {
    "cell_id": "00054-299272e3-c0b8-497f-a63b-f3c6cb2ff82f",
    "deepnote_cell_type": "markdown"
   },
   "source": [
    "##### Converting Kb to Mb by creating new array[]"
   ]
  },
  {
   "cell_type": "code",
   "execution_count": null,
   "metadata": {
    "cell_id": "00055-7ec2d610-9585-4648-90a5-ee244b502321",
    "deepnote_cell_type": "code",
    "deepnote_to_be_reexecuted": false,
    "execution": {
     "iopub.execute_input": "2021-10-20T04:55:44.537884Z",
     "iopub.status.busy": "2021-10-20T04:55:44.537511Z",
     "iopub.status.idle": "2021-10-20T04:55:44.557423Z",
     "shell.execute_reply": "2021-10-20T04:55:44.556044Z",
     "shell.execute_reply.started": "2021-10-20T04:55:44.537832Z"
    },
    "execution_millis": 0,
    "execution_start": 1635864824640,
    "scrolled": true,
    "source_hash": "7b137aa"
   },
   "outputs": [],
   "source": [
    "size =[]\n",
    "\n",
    "for i in trainappdata['size']:\n",
    "    if i == 'NaN':\n",
    "        size.append('NaN')\n",
    "    elif i[-1] == 'k':\n",
    "        size.append(float(i[:-1])/1000) \n",
    "    else:\n",
    "        size.append(float(i[:-1])) "
   ]
  },
  {
   "cell_type": "markdown",
   "metadata": {
    "cell_id": "00056-58f88281-74f7-4d74-8031-d34b6698b803",
    "deepnote_cell_type": "markdown",
    "execution": {
     "iopub.execute_input": "2021-10-14T14:55:50.934936Z",
     "iopub.status.busy": "2021-10-14T14:55:50.934672Z",
     "iopub.status.idle": "2021-10-14T14:55:50.951718Z",
     "shell.execute_reply": "2021-10-14T14:55:50.95063Z",
     "shell.execute_reply.started": "2021-10-14T14:55:50.934909Z"
    }
   },
   "source": [
    "### "
   ]
  },
  {
   "cell_type": "code",
   "execution_count": null,
   "metadata": {
    "cell_id": "00057-53fccdf0-89bc-46d9-826e-25417255bd68",
    "deepnote_cell_type": "code",
    "deepnote_to_be_reexecuted": false,
    "execution": {
     "iopub.execute_input": "2021-10-20T04:55:44.559632Z",
     "iopub.status.busy": "2021-10-20T04:55:44.558797Z",
     "iopub.status.idle": "2021-10-20T04:55:44.573331Z",
     "shell.execute_reply": "2021-10-20T04:55:44.572326Z",
     "shell.execute_reply.started": "2021-10-20T04:55:44.559595Z"
    },
    "execution_millis": 0,
    "execution_start": 1635864824640,
    "scrolled": true,
    "source_hash": "d72a7947"
   },
   "outputs": [],
   "source": [
    "trainappdata['size'] = size #update list \n",
    "trainappdata['size'] = trainappdata['size'].astype(float) #changing the type in the column\n",
    "trainappdata.rename(columns={trainappdata.columns[4]:'size(MB)'}, inplace=True) #renaming columns to MB"
   ]
  },
  {
   "cell_type": "code",
   "execution_count": null,
   "metadata": {
    "cell_id": "00058-15348c3f-1669-4e35-8e3d-18365d27ff2a",
    "deepnote_cell_type": "code",
    "deepnote_to_be_reexecuted": false,
    "execution": {
     "iopub.execute_input": "2021-10-20T04:55:44.57653Z",
     "iopub.status.busy": "2021-10-20T04:55:44.575515Z",
     "iopub.status.idle": "2021-10-20T04:55:44.606126Z",
     "shell.execute_reply": "2021-10-20T04:55:44.605162Z",
     "shell.execute_reply.started": "2021-10-20T04:55:44.57648Z"
    },
    "execution_millis": 14,
    "execution_start": 1635864824706,
    "scrolled": true,
    "source_hash": "d1fa3a99"
   },
   "outputs": [],
   "source": [
    "trainappdata.head()#test"
   ]
  },
  {
   "cell_type": "code",
   "execution_count": null,
   "metadata": {
    "cell_id": "00059-0e4a9070-5796-4002-a8c4-cc7f568281e2",
    "deepnote_cell_type": "code",
    "deepnote_to_be_reexecuted": false,
    "execution": {
     "iopub.execute_input": "2021-10-20T04:55:44.607777Z",
     "iopub.status.busy": "2021-10-20T04:55:44.607523Z",
     "iopub.status.idle": "2021-10-20T04:55:44.634458Z",
     "shell.execute_reply": "2021-10-20T04:55:44.633549Z",
     "shell.execute_reply.started": "2021-10-20T04:55:44.607748Z"
    },
    "execution_millis": 10,
    "execution_start": 1635864824733,
    "scrolled": true,
    "source_hash": "ec9a6fa0"
   },
   "outputs": [],
   "source": [
    "trainappdata.info() #checking data type"
   ]
  },
  {
   "cell_type": "code",
   "execution_count": null,
   "metadata": {
    "cell_id": "00060-016e658d-ad91-4b82-b671-e249df48ae1c",
    "deepnote_cell_type": "code",
    "deepnote_to_be_reexecuted": false,
    "execution": {
     "iopub.execute_input": "2021-10-20T04:55:44.636548Z",
     "iopub.status.busy": "2021-10-20T04:55:44.635717Z",
     "iopub.status.idle": "2021-10-20T04:55:45.115918Z",
     "shell.execute_reply": "2021-10-20T04:55:45.111488Z",
     "shell.execute_reply.started": "2021-10-20T04:55:44.636509Z"
    },
    "execution_millis": 482,
    "execution_start": 1635864824750,
    "scrolled": true,
    "source_hash": "32f2187d"
   },
   "outputs": [],
   "source": [
    "plt.subplots(figsize=(10,5))\n",
    "sb.histplot(x='size', data=trainappdata, kde=True, bins=50);\n",
    "plt.title('App Sizes');"
   ]
  },
  {
   "cell_type": "markdown",
   "metadata": {
    "cell_id": "00061-0ab14d35-72ba-413e-b106-45547449ffc7",
    "deepnote_cell_type": "markdown"
   },
   "source": [
    "##### The distribution of app size is right skewed.<br>\n",
    "##### We now analyse its median & mean "
   ]
  },
  {
   "cell_type": "code",
   "execution_count": null,
   "metadata": {
    "cell_id": "00062-4eb89f9b-529b-4cff-825c-413a75423440",
    "deepnote_cell_type": "code",
    "deepnote_to_be_reexecuted": false,
    "execution": {
     "iopub.execute_input": "2021-10-20T04:55:45.11827Z",
     "iopub.status.busy": "2021-10-20T04:55:45.11728Z",
     "iopub.status.idle": "2021-10-20T04:55:45.127532Z",
     "shell.execute_reply": "2021-10-20T04:55:45.126299Z",
     "shell.execute_reply.started": "2021-10-20T04:55:45.118229Z"
    },
    "execution_millis": 159,
    "execution_start": 1635864825280,
    "scrolled": true,
    "source_hash": "40f86dbb"
   },
   "outputs": [],
   "source": [
    "print('Average app size is: ', trainappdata['size'].mean())\n",
    "print('Median app size is: ', trainappdata['size'].median())\n",
    "print('Mode app size is: ', trainappdata['size'].mode()[0]) #What is the common app size(which size appear the most) in this dataset.\n"
   ]
  },
  {
   "cell_type": "code",
   "execution_count": null,
   "metadata": {
    "cell_id": "00063-73d20704-0eb4-4110-9edf-090656bd0a2f",
    "deepnote_cell_type": "code",
    "deepnote_to_be_reexecuted": false,
    "execution": {
     "iopub.execute_input": "2021-10-20T04:55:45.130047Z",
     "iopub.status.busy": "2021-10-20T04:55:45.1297Z",
     "iopub.status.idle": "2021-10-20T04:55:45.391153Z",
     "shell.execute_reply": "2021-10-20T04:55:45.389822Z",
     "shell.execute_reply.started": "2021-10-20T04:55:45.130003Z"
    },
    "execution_millis": 223,
    "execution_start": 1635864825281,
    "scrolled": true,
    "source_hash": "66e58120"
   },
   "outputs": [],
   "source": [
    "sb.boxplot(x='size', data=trainappdata);"
   ]
  },
  {
   "cell_type": "markdown",
   "metadata": {
    "cell_id": "00064-96b51987-885f-4ea4-93b7-0785d2b9606a",
    "deepnote_cell_type": "markdown"
   },
   "source": [
    "##### Boxplot shows the distrubution is right skewed. We can see that Q1 is around 9 or 8 MB and Q3 is around 28/29 MB. 50% of the Apps size range is about 9 to 29MB."
   ]
  },
  {
   "cell_type": "code",
   "execution_count": null,
   "metadata": {
    "cell_id": "00065-73ad01f4-76c5-4ac1-a449-682e868109c4",
    "deepnote_cell_type": "code",
    "deepnote_to_be_reexecuted": false,
    "execution": {
     "iopub.execute_input": "2021-10-20T04:55:45.393427Z",
     "iopub.status.busy": "2021-10-20T04:55:45.393055Z",
     "iopub.status.idle": "2021-10-20T04:55:45.682963Z",
     "shell.execute_reply": "2021-10-20T04:55:45.682301Z",
     "shell.execute_reply.started": "2021-10-20T04:55:45.393384Z"
    },
    "execution_millis": 326,
    "execution_start": 1635864825515,
    "scrolled": true,
    "source_hash": "b92922ea"
   },
   "outputs": [],
   "source": [
    "sb.violinplot(x='size', data = trainappdata.loc[(trainappdata['size']>0)])"
   ]
  },
  {
   "cell_type": "code",
   "execution_count": null,
   "metadata": {
    "scrolled": true
   },
   "outputs": [],
   "source": []
  },
  {
   "cell_type": "markdown",
   "metadata": {
    "cell_id": "00066-0b9eef93-2362-4659-ab1a-29db04b1495f",
    "deepnote_cell_type": "markdown"
   },
   "source": [
    "## Category Analysis\n",
    "##### Breaking down of the apps data based on their `Category`"
   ]
  },
  {
   "cell_type": "code",
   "execution_count": null,
   "metadata": {
    "cell_id": "00067-a33b5531-3b4c-4c80-a86a-77a80aa28748",
    "deepnote_cell_type": "code",
    "deepnote_to_be_reexecuted": false,
    "execution": {
     "iopub.execute_input": "2021-10-20T04:55:45.684765Z",
     "iopub.status.busy": "2021-10-20T04:55:45.68436Z",
     "iopub.status.idle": "2021-10-20T04:55:45.693643Z",
     "shell.execute_reply": "2021-10-20T04:55:45.692494Z",
     "shell.execute_reply.started": "2021-10-20T04:55:45.684717Z"
    },
    "execution_millis": 1,
    "execution_start": 1635864825847,
    "scrolled": true,
    "source_hash": "6da2531e"
   },
   "outputs": [],
   "source": [
    "Category = trainappdata['category']\n"
   ]
  },
  {
   "cell_type": "code",
   "execution_count": null,
   "metadata": {
    "cell_id": "00068-24f5e16a-dc92-443f-8f2b-0b85ddd3d848",
    "deepnote_cell_type": "code",
    "deepnote_to_be_reexecuted": false,
    "execution": {
     "iopub.execute_input": "2021-10-20T04:55:45.696211Z",
     "iopub.status.busy": "2021-10-20T04:55:45.695924Z",
     "iopub.status.idle": "2021-10-20T04:55:46.470218Z",
     "shell.execute_reply": "2021-10-20T04:55:46.469053Z",
     "shell.execute_reply.started": "2021-10-20T04:55:45.696158Z"
    },
    "execution_millis": 1144,
    "execution_start": 1635864825855,
    "scrolled": true,
    "source_hash": "8b2c5a03"
   },
   "outputs": [],
   "source": [
    "sb.catplot(y = \"category\", data = trainappdata, kind = \"count\", height = 8, order=Category.value_counts().index)"
   ]
  },
  {
   "cell_type": "code",
   "execution_count": null,
   "metadata": {
    "cell_id": "00069-4e827fa0-dbfa-4709-90a6-f3a9ba9814dc",
    "deepnote_cell_type": "code",
    "deepnote_to_be_reexecuted": false,
    "execution": {
     "iopub.execute_input": "2021-10-20T04:55:46.472859Z",
     "iopub.status.busy": "2021-10-20T04:55:46.471973Z",
     "iopub.status.idle": "2021-10-20T04:55:47.168556Z",
     "shell.execute_reply": "2021-10-20T04:55:47.167358Z",
     "shell.execute_reply.started": "2021-10-20T04:55:46.472809Z"
    },
    "execution_millis": 838,
    "execution_start": 1635864826985,
    "scrolled": true,
    "source_hash": "e13fe93c"
   },
   "outputs": [],
   "source": [
    "plt.subplots(figsize=(20,10))\n",
    "sb.histplot(y='category', data=trainappdata, kde=True, bins=50);"
   ]
  },
  {
   "cell_type": "markdown",
   "metadata": {
    "cell_id": "00070-3c532d4c-9b68-4eb7-b304-5298ec64623c",
    "deepnote_cell_type": "markdown"
   },
   "source": [
    "##### According to the histplot, majority of apps are under the `Family` category. We now analyse how the ratings differ for each category."
   ]
  },
  {
   "cell_type": "code",
   "execution_count": null,
   "metadata": {
    "cell_id": "00071-bb7793b9-9026-4106-9636-329a1c253432",
    "deepnote_cell_type": "code",
    "deepnote_to_be_reexecuted": false,
    "execution": {
     "iopub.execute_input": "2021-10-20T04:55:47.170507Z",
     "iopub.status.busy": "2021-10-20T04:55:47.170252Z",
     "iopub.status.idle": "2021-10-20T04:55:48.245604Z",
     "shell.execute_reply": "2021-10-20T04:55:48.244298Z",
     "shell.execute_reply.started": "2021-10-20T04:55:47.170478Z"
    },
    "execution_millis": 1354,
    "execution_start": 1635864827906,
    "scrolled": true,
    "source_hash": "dd6babae"
   },
   "outputs": [],
   "source": [
    "f, axes = plt.subplots(1, 1, figsize=(20, 10))\n",
    "\n",
    "sb.boxplot(data=trainappdata, x='installs', y='category')"
   ]
  },
  {
   "cell_type": "markdown",
   "metadata": {
    "cell_id": "00072-e9e2e63e-a6f8-4bbb-8227-bd6fc2aa7862",
    "deepnote_cell_type": "markdown"
   },
   "source": [
    "##### Boxplot shows that apps with a higher median ratings are under the `Books and Reference`, `Entertainment` and `Food and Drink` categories.\n",
    "##### `Dating` apps generally do not do well in it's ratings due to having the lowest median rating, lowest rating according to it's lower tail and at it's 25th percentile"
   ]
  },
  {
   "cell_type": "code",
   "execution_count": null,
   "metadata": {
    "cell_id": "00073-3ce73167-f8fa-458c-907b-f7fd443111b6",
    "deepnote_cell_type": "code",
    "deepnote_to_be_reexecuted": false,
    "execution": {
     "iopub.execute_input": "2021-10-20T04:55:48.248221Z",
     "iopub.status.busy": "2021-10-20T04:55:48.247825Z",
     "iopub.status.idle": "2021-10-20T04:55:51.581103Z",
     "shell.execute_reply": "2021-10-20T04:55:51.579987Z",
     "shell.execute_reply.started": "2021-10-20T04:55:48.248161Z"
    },
    "execution_millis": 1838,
    "execution_start": 1635864829262,
    "scrolled": true,
    "source_hash": "9bbbe3fb"
   },
   "outputs": [],
   "source": [
    "f, axes = plt.subplots(1, 1, figsize=(20, 30))\n",
    "sb.violinplot(x = 'installs', y ='category' , data = trainappdata, orient = 'h')"
   ]
  },
  {
   "cell_type": "markdown",
   "metadata": {
    "cell_id": "00074-c2d445cc-3d6b-470d-8da9-5d3a0b78ed57",
    "deepnote_cell_type": "markdown",
    "execution": {
     "iopub.execute_input": "2021-10-16T05:13:12.002022Z",
     "iopub.status.busy": "2021-10-16T05:13:12.001301Z",
     "iopub.status.idle": "2021-10-16T05:13:12.01002Z",
     "shell.execute_reply": "2021-10-16T05:13:12.008612Z",
     "shell.execute_reply.started": "2021-10-16T05:13:12.001947Z"
    }
   },
   "source": [
    "##### Since we compared generally regardless of price, we can now compare category ratings based on whether the apps are paid or free"
   ]
  },
  {
   "cell_type": "code",
   "execution_count": null,
   "metadata": {
    "cell_id": "00075-b06fd1be-6250-4e36-b5d4-d7c42409b6fb",
    "deepnote_cell_type": "code",
    "deepnote_to_be_reexecuted": false,
    "execution": {
     "iopub.execute_input": "2021-10-20T04:55:51.582881Z",
     "iopub.status.busy": "2021-10-20T04:55:51.582611Z",
     "iopub.status.idle": "2021-10-20T04:55:53.61451Z",
     "shell.execute_reply": "2021-10-20T04:55:53.613612Z",
     "shell.execute_reply.started": "2021-10-20T04:55:51.582847Z"
    },
    "execution_millis": 2426,
    "execution_start": 1635864831083,
    "scrolled": true,
    "source_hash": "9be65334"
   },
   "outputs": [],
   "source": [
    "f, axes = plt.subplots(1, 1, figsize=(20, 30))\n",
    "\n",
    "sb.boxplot(data=trainappdata, x='installs', y='category', hue='type')"
   ]
  },
  {
   "cell_type": "markdown",
   "metadata": {
    "cell_id": "00076-edbc3ce0-9990-4b51-9522-d5babccfb85c",
    "deepnote_cell_type": "markdown"
   },
   "source": [
    "Comment later on if needed"
   ]
  },
  {
   "cell_type": "code",
   "execution_count": null,
   "metadata": {
    "cell_id": "00077-4c315f38-9725-4706-ae26-9ce153dc9311",
    "deepnote_cell_type": "code",
    "deepnote_to_be_reexecuted": false,
    "execution": {
     "iopub.execute_input": "2021-10-20T04:55:53.616748Z",
     "iopub.status.busy": "2021-10-20T04:55:53.616484Z",
     "iopub.status.idle": "2021-10-20T04:55:53.632696Z",
     "shell.execute_reply": "2021-10-20T04:55:53.631671Z",
     "shell.execute_reply.started": "2021-10-20T04:55:53.616716Z"
    },
    "execution_millis": 210,
    "execution_start": 1635864833504,
    "scrolled": true,
    "source_hash": "7256db79"
   },
   "outputs": [],
   "source": [
    "trainappdata[['category','genres']]"
   ]
  },
  {
   "cell_type": "code",
   "execution_count": null,
   "metadata": {
    "cell_id": "00078-9336e90d-1c5c-44ba-89ae-46aafe85eb2b",
    "deepnote_cell_type": "code",
    "deepnote_to_be_reexecuted": false,
    "execution": {
     "iopub.execute_input": "2021-10-20T04:55:53.634668Z",
     "iopub.status.busy": "2021-10-20T04:55:53.634218Z",
     "iopub.status.idle": "2021-10-20T04:55:53.652128Z",
     "shell.execute_reply": "2021-10-20T04:55:53.651171Z",
     "shell.execute_reply.started": "2021-10-20T04:55:53.634618Z"
    },
    "execution_millis": 18,
    "execution_start": 1635864833710,
    "scrolled": true,
    "source_hash": "129491ac"
   },
   "outputs": [],
   "source": [
    "trainappdata['genres'].value_counts()"
   ]
  },
  {
   "cell_type": "code",
   "execution_count": null,
   "metadata": {
    "cell_id": "00079-3e301188-c7ce-44c5-a7a5-7cac328bcaa3",
    "deepnote_cell_type": "code",
    "deepnote_to_be_reexecuted": false,
    "execution": {
     "iopub.execute_input": "2021-10-20T04:55:53.654412Z",
     "iopub.status.busy": "2021-10-20T04:55:53.653786Z",
     "iopub.status.idle": "2021-10-20T04:55:53.670305Z",
     "shell.execute_reply": "2021-10-20T04:55:53.669573Z",
     "shell.execute_reply.started": "2021-10-20T04:55:53.654346Z"
    },
    "execution_millis": 17,
    "execution_start": 1635864833726,
    "scrolled": true,
    "source_hash": "a467c050"
   },
   "outputs": [],
   "source": [
    "print(f\"Category: {trainappdata.category.nunique()}\")\n",
    "print(f\"Genres: {trainappdata.genres.nunique()}\")"
   ]
  },
  {
   "cell_type": "code",
   "execution_count": null,
   "metadata": {
    "cell_id": "00080-5b518486-2f83-4774-bae2-6a9137aed690",
    "deepnote_cell_type": "code",
    "deepnote_to_be_reexecuted": false,
    "execution": {
     "iopub.execute_input": "2021-10-20T04:55:53.672822Z",
     "iopub.status.busy": "2021-10-20T04:55:53.671945Z",
     "iopub.status.idle": "2021-10-20T04:55:53.690706Z",
     "shell.execute_reply": "2021-10-20T04:55:53.689327Z",
     "shell.execute_reply.started": "2021-10-20T04:55:53.672765Z"
    },
    "execution_millis": 172029,
    "execution_start": 1635864833798,
    "scrolled": true,
    "source_hash": "b623e53d"
   },
   "outputs": [],
   "source": []
  },
  {
   "cell_type": "code",
   "execution_count": null,
   "metadata": {
    "cell_id": "00081-d58b0eb8-bc58-4bb1-8f7d-6686518a9d67",
    "deepnote_cell_type": "code",
    "deepnote_to_be_reexecuted": false,
    "execution": {
     "iopub.execute_input": "2021-10-20T04:55:53.693436Z",
     "iopub.status.busy": "2021-10-20T04:55:53.692424Z",
     "iopub.status.idle": "2021-10-20T04:55:53.721533Z",
     "shell.execute_reply": "2021-10-20T04:55:53.720579Z",
     "shell.execute_reply.started": "2021-10-20T04:55:53.693381Z"
    },
    "execution_millis": 50,
    "execution_start": 1635864833799,
    "scrolled": true,
    "source_hash": "6dcad7af"
   },
   "outputs": [],
   "source": [
    "trainappdata.head()"
   ]
  },
  {
   "cell_type": "markdown",
   "metadata": {
    "cell_id": "00082-2e8e8221-7c92-498f-b6cf-0ee70789a30c",
    "deepnote_cell_type": "markdown"
   },
   "source": [
    "## Installs Analysis\n",
    "##### Breaking down of the apps data based on the number of `Installations`"
   ]
  },
  {
   "cell_type": "code",
   "execution_count": null,
   "metadata": {
    "cell_id": "00083-550fea07-f7ad-4ad3-80a1-ff1dd6243fc0",
    "deepnote_cell_type": "code",
    "deepnote_to_be_reexecuted": false,
    "execution": {
     "iopub.execute_input": "2021-10-20T04:55:53.723516Z",
     "iopub.status.busy": "2021-10-20T04:55:53.723244Z",
     "iopub.status.idle": "2021-10-20T04:55:53.733132Z",
     "shell.execute_reply": "2021-10-20T04:55:53.732047Z",
     "shell.execute_reply.started": "2021-10-20T04:55:53.723482Z"
    },
    "execution_millis": 8,
    "execution_start": 1635864833854,
    "scrolled": true,
    "source_hash": "2fe55123"
   },
   "outputs": [],
   "source": [
    "trainappdata['installs']"
   ]
  },
  {
   "cell_type": "code",
   "execution_count": null,
   "metadata": {
    "cell_id": "00084-5371a4de-212e-4d12-8ed0-a7def3e9c05d",
    "deepnote_cell_type": "code",
    "deepnote_to_be_reexecuted": false,
    "execution": {
     "iopub.execute_input": "2021-10-20T04:55:53.735115Z",
     "iopub.status.busy": "2021-10-20T04:55:53.73482Z",
     "iopub.status.idle": "2021-10-20T04:55:53.748977Z",
     "shell.execute_reply": "2021-10-20T04:55:53.747964Z",
     "shell.execute_reply.started": "2021-10-20T04:55:53.735081Z"
    },
    "execution_millis": 172038,
    "execution_start": 1635864833882,
    "scrolled": true,
    "source_hash": "dba8f4fa"
   },
   "outputs": [],
   "source": [
    "print(trainappdata[\"installs\"].value_counts())"
   ]
  },
  {
   "cell_type": "code",
   "execution_count": null,
   "metadata": {
    "cell_id": "00085-a32ee90c-630b-426b-b27c-79b853b0813b",
    "deepnote_cell_type": "code",
    "deepnote_to_be_reexecuted": false,
    "execution": {
     "iopub.execute_input": "2021-10-20T04:55:53.751133Z",
     "iopub.status.busy": "2021-10-20T04:55:53.750474Z",
     "iopub.status.idle": "2021-10-20T04:55:53.800441Z",
     "shell.execute_reply": "2021-10-20T04:55:53.799452Z",
     "shell.execute_reply.started": "2021-10-20T04:55:53.751048Z"
    },
    "execution_millis": 167,
    "execution_start": 1635864833968,
    "scrolled": true,
    "source_hash": "51956df7"
   },
   "outputs": [],
   "source": [
    "trainappdata[pd.to_numeric(trainappdata.installs, errors='coerce').isna()]"
   ]
  },
  {
   "cell_type": "code",
   "execution_count": null,
   "metadata": {
    "cell_id": "00086-0c4fe986-8479-4a83-8a52-aadd03384862",
    "deepnote_cell_type": "code",
    "deepnote_to_be_reexecuted": false,
    "execution": {
     "iopub.execute_input": "2021-10-20T04:55:53.802854Z",
     "iopub.status.busy": "2021-10-20T04:55:53.801954Z",
     "iopub.status.idle": "2021-10-20T04:55:53.830421Z",
     "shell.execute_reply": "2021-10-20T04:55:53.829358Z",
     "shell.execute_reply.started": "2021-10-20T04:55:53.802795Z"
    },
    "execution_millis": 9,
    "execution_start": 1635864834142,
    "scrolled": true,
    "source_hash": "ce61111a"
   },
   "outputs": [],
   "source": [
    "trainappdata['installs'] = trainappdata['installs'].str.replace('+','').str.replace(',','').astype(float)"
   ]
  },
  {
   "cell_type": "markdown",
   "metadata": {
    "cell_id": "00088-b4639f44-f495-44c5-a949-4c0a44a27f59",
    "deepnote_cell_type": "markdown",
    "tags": []
   },
   "source": [
    "##### Removes `+` symbol and changes the datatype from `string` to `float`"
   ]
  },
  {
   "cell_type": "code",
   "execution_count": null,
   "metadata": {
    "cell_id": "00087-7e15b9a2-8ec6-437d-bc1c-06062a4c51a6",
    "deepnote_cell_type": "code",
    "deepnote_to_be_reexecuted": false,
    "execution": {
     "iopub.execute_input": "2021-10-20T04:55:53.833257Z",
     "iopub.status.busy": "2021-10-20T04:55:53.832546Z",
     "iopub.status.idle": "2021-10-20T04:55:53.849561Z",
     "shell.execute_reply": "2021-10-20T04:55:53.848091Z",
     "shell.execute_reply.started": "2021-10-20T04:55:53.833206Z"
    },
    "execution_millis": 3,
    "execution_start": 1635864834171,
    "scrolled": true,
    "source_hash": "c4de0dd1"
   },
   "outputs": [],
   "source": [
    "trainappdata['installs'].describe()\n"
   ]
  },
  {
   "cell_type": "code",
   "execution_count": null,
   "metadata": {
    "cell_id": "00088-f4cfb738-c828-4334-9d8b-d1a8d9e7f2cd",
    "deepnote_cell_type": "code",
    "deepnote_to_be_reexecuted": false,
    "execution": {
     "iopub.execute_input": "2021-10-20T04:55:53.852331Z",
     "iopub.status.busy": "2021-10-20T04:55:53.85165Z",
     "iopub.status.idle": "2021-10-20T04:55:54.470864Z",
     "shell.execute_reply": "2021-10-20T04:55:54.46976Z",
     "shell.execute_reply.started": "2021-10-20T04:55:53.85228Z"
    },
    "execution_millis": 759,
    "execution_start": 1635864834179,
    "scrolled": true,
    "source_hash": "ad3c7fe"
   },
   "outputs": [],
   "source": [
    "sb.catplot(y = 'installs', data = trainappdata, kind = \"count\", height = 8)"
   ]
  },
  {
   "cell_type": "markdown",
   "metadata": {
    "cell_id": "00089-dff1b378-f5f2-4ade-b546-dcaba9c21df3",
    "deepnote_cell_type": "markdown"
   },
   "source": [
    "##### From the catplot, we can see that the bulk of the data gathers at around 1.0e6 while few exceeds 1.0e8 number of installs\n",
    "##### We can hence extract these data to take a look at them in further details."
   ]
  },
  {
   "cell_type": "code",
   "execution_count": null,
   "metadata": {
    "cell_id": "00090-08b69f0c-5d9f-4400-b821-47331a2e5506",
    "deepnote_cell_type": "code",
    "deepnote_to_be_reexecuted": false,
    "execution": {
     "iopub.execute_input": "2021-10-20T04:55:54.472338Z",
     "iopub.status.busy": "2021-10-20T04:55:54.472061Z",
     "iopub.status.idle": "2021-10-20T04:55:54.50586Z",
     "shell.execute_reply": "2021-10-20T04:55:54.50472Z",
     "shell.execute_reply.started": "2021-10-20T04:55:54.472299Z"
    },
    "execution_millis": 8,
    "execution_start": 1635864835018,
    "scrolled": true,
    "source_hash": "ce83944a"
   },
   "outputs": [],
   "source": [
    "extremeinstalls = trainappdata[trainappdata['installs']> 0.5e9 ]\n",
    "extremeinstalls"
   ]
  },
  {
   "cell_type": "code",
   "execution_count": null,
   "metadata": {
    "cell_id": "00091-7a8415f7-c952-4853-888a-d18f06ea6c3f",
    "deepnote_cell_type": "code",
    "deepnote_to_be_reexecuted": false,
    "execution": {
     "iopub.execute_input": "2021-10-20T04:55:54.507906Z",
     "iopub.status.busy": "2021-10-20T04:55:54.507582Z",
     "iopub.status.idle": "2021-10-20T04:55:55.880633Z",
     "shell.execute_reply": "2021-10-20T04:55:55.879283Z",
     "shell.execute_reply.started": "2021-10-20T04:55:54.507876Z"
    },
    "execution_millis": 1628,
    "execution_start": 1635864835019,
    "scrolled": true,
    "source_hash": "b9340675"
   },
   "outputs": [],
   "source": [
    "sb.catplot(y='category', data=extremeinstalls, kind=\"count\", height=5)\n",
    "sb.catplot(y='rating', data=extremeinstalls, kind=\"count\", height=5)\n",
    "sb.catplot(y='price', data=extremeinstalls, kind=\"count\", height=5)"
   ]
  },
  {
   "cell_type": "markdown",
   "metadata": {
    "cell_id": "00092-13edbc98-183d-428e-9456-df30511fe38f",
    "deepnote_cell_type": "markdown"
   },
   "source": [
    "##### From the above catplots, we observe that majority of the apps with a large number of installations fall under the ***`communications`*** category, with a high rating of 4.3 and above.\n",
    "\n",
    "##### *Another point to be noted from the above catplot is that **all** of of these apps are free*\n",
    "##### Following which, we'll take a look at the kde and boxplots of the installation counts"
   ]
  },
  {
   "cell_type": "code",
   "execution_count": null,
   "metadata": {
    "cell_id": "00093-7c5f4855-047b-473e-85b4-c5fc5c48508e",
    "deepnote_cell_type": "code",
    "deepnote_to_be_reexecuted": false,
    "execution": {
     "iopub.execute_input": "2021-10-20T04:55:55.882826Z",
     "iopub.status.busy": "2021-10-20T04:55:55.882519Z",
     "iopub.status.idle": "2021-10-20T04:55:56.258776Z",
     "shell.execute_reply": "2021-10-20T04:55:56.257437Z",
     "shell.execute_reply.started": "2021-10-20T04:55:55.882791Z"
    },
    "execution_millis": 429,
    "execution_start": 1635864836678,
    "scrolled": true,
    "source_hash": "e8780864"
   },
   "outputs": [],
   "source": [
    "f = plt.subplots(1, 1, figsize=(18, 5))\n",
    "sb.kdeplot(data=trainappdata['installs'])"
   ]
  },
  {
   "cell_type": "code",
   "execution_count": null,
   "metadata": {
    "cell_id": "00094-f43f34aa-3bdd-467d-bc1b-5ef044f57238",
    "deepnote_cell_type": "code",
    "deepnote_to_be_reexecuted": false,
    "execution": {
     "iopub.execute_input": "2021-10-20T04:55:56.260858Z",
     "iopub.status.busy": "2021-10-20T04:55:56.260507Z",
     "iopub.status.idle": "2021-10-20T04:55:56.5031Z",
     "shell.execute_reply": "2021-10-20T04:55:56.501815Z",
     "shell.execute_reply.started": "2021-10-20T04:55:56.260815Z"
    },
    "execution_millis": 311,
    "execution_start": 1635864837137,
    "scrolled": true,
    "source_hash": "13e47720"
   },
   "outputs": [],
   "source": [
    "f = plt.subplots(1, 1, figsize=(18, 5))\n",
    "sb.boxplot(data=trainappdata['installs'], orient = \"h\")"
   ]
  },
  {
   "cell_type": "markdown",
   "metadata": {
    "cell_id": "00095-e12b370c-6c3e-4db9-bd93-0109027f558b",
    "deepnote_cell_type": "markdown"
   },
   "source": [
    "##### With these anomalies around, the boxplot becomes a vertical line instead. We can assume that the same would occur for the histplot. As such, we can use the following function to obtain the fences and identify the outliers.\n"
   ]
  },
  {
   "cell_type": "code",
   "execution_count": null,
   "metadata": {
    "cell_id": "00096-17405758-4904-478b-b5fa-02d3c7ef2a8c",
    "deepnote_cell_type": "code",
    "deepnote_to_be_reexecuted": false,
    "execution": {
     "iopub.execute_input": "2021-10-20T04:55:56.505365Z",
     "iopub.status.busy": "2021-10-20T04:55:56.504965Z",
     "iopub.status.idle": "2021-10-20T04:55:56.513273Z",
     "shell.execute_reply": "2021-10-20T04:55:56.51202Z",
     "shell.execute_reply.started": "2021-10-20T04:55:56.505332Z"
    },
    "execution_millis": 6,
    "execution_start": 1635864837456,
    "scrolled": true,
    "source_hash": "f0868b47"
   },
   "outputs": [],
   "source": [
    "def iqr_fence(x):\n",
    "    Q1 = x.quantile(0.25)\n",
    "    Q3 = x.quantile(0.75)\n",
    "    IQR = Q3 - Q1\n",
    "    Lower_Fence = Q1 - (1.5 * IQR)\n",
    "    Upper_Fence = Q3 + (1.5 * IQR)\n",
    "    u = max(x[x<Upper_Fence])\n",
    "    l = min(x[x>Lower_Fence])\n",
    "    print('Lower Fence:', l)\n",
    "    print('Higher Fence:', u)\n",
    "    return [u,l]"
   ]
  },
  {
   "cell_type": "code",
   "execution_count": null,
   "metadata": {
    "cell_id": "00097-8aea7626-921a-42ad-b928-10dd512e5c2f",
    "deepnote_cell_type": "code",
    "deepnote_to_be_reexecuted": false,
    "execution": {
     "iopub.execute_input": "2021-10-20T04:55:56.515076Z",
     "iopub.status.busy": "2021-10-20T04:55:56.514812Z",
     "iopub.status.idle": "2021-10-20T04:55:56.546101Z",
     "shell.execute_reply": "2021-10-20T04:55:56.545342Z",
     "shell.execute_reply.started": "2021-10-20T04:55:56.515046Z"
    },
    "execution_millis": 9,
    "execution_start": 1635864837475,
    "scrolled": true,
    "source_hash": "b7773f97"
   },
   "outputs": [],
   "source": [
    "iqr_fence(trainappdata['installs'])"
   ]
  },
  {
   "cell_type": "markdown",
   "metadata": {
    "cell_id": "00098-f2d7aed3-b2b8-4657-96b7-93851e40a68d",
    "deepnote_cell_type": "markdown"
   },
   "source": [
    "##### Now that we have the fence, we are able to better visualise the boxplot"
   ]
  },
  {
   "cell_type": "code",
   "execution_count": null,
   "metadata": {
    "cell_id": "00099-acc48fcf-ed1b-46d1-a5e1-5e8007652152",
    "deepnote_cell_type": "code",
    "deepnote_to_be_reexecuted": false,
    "execution": {
     "iopub.execute_input": "2021-10-20T04:55:56.554515Z",
     "iopub.status.busy": "2021-10-20T04:55:56.553621Z",
     "iopub.status.idle": "2021-10-20T04:55:56.779689Z",
     "shell.execute_reply": "2021-10-20T04:55:56.778543Z",
     "shell.execute_reply.started": "2021-10-20T04:55:56.554472Z"
    },
    "execution_millis": 292,
    "execution_start": 1635864837485,
    "scrolled": true,
    "source_hash": "9495146b"
   },
   "outputs": [],
   "source": [
    "f = plt.subplots(1, 1, figsize=(10,5))\n",
    "sb.boxplot(x='installs', data=trainappdata[trainappdata['installs']<1000000.0])"
   ]
  },
  {
   "cell_type": "code",
   "execution_count": null,
   "metadata": {
    "cell_id": "00101-ce1dba4f-7cc6-4932-bf66-4af1f6a26873",
    "deepnote_cell_type": "code",
    "deepnote_to_be_reexecuted": false,
    "execution": {
     "iopub.execute_input": "2021-10-20T04:58:12.352718Z",
     "iopub.status.busy": "2021-10-20T04:58:12.351761Z",
     "iopub.status.idle": "2021-10-20T04:58:12.601977Z",
     "shell.execute_reply": "2021-10-20T04:58:12.600478Z",
     "shell.execute_reply.started": "2021-10-20T04:58:12.352681Z"
    },
    "execution_millis": 198,
    "execution_start": 1635864837835,
    "scrolled": true,
    "source_hash": "193fe175"
   },
   "outputs": [],
   "source": [
    "f = plt.subplots(1, 1, figsize=(10, 5))\n",
    "sb.violinplot(data=trainappdata['installs'])"
   ]
  },
  {
   "cell_type": "markdown",
   "metadata": {
    "cell_id": "00102-c28fb52d-338c-4433-8261-4691526f781d",
    "deepnote_cell_type": "markdown"
   },
   "source": [
    "##### From the above plots, we note that when setting the fence to be at 1.0e6 while we are still unable to accurately determine the median, we can see that the 3rd quartile is at 1.0e4. Hence, we can confirm that approximately 75% of the data falls between 0 and 1.0e4 installs.\n",
    "\n",
    "\n",
    "##### With a std of 1.5e4, much lower than previously(5.4e7), we are able to gain a better overview of the general distribution of the installation counts."
   ]
  },
  {
   "cell_type": "code",
   "execution_count": null,
   "metadata": {
    "cell_id": "00103-c0e83aaa-c6ce-4c80-ab9d-153f1f238bdb",
    "deepnote_cell_type": "code",
    "deepnote_to_be_reexecuted": false,
    "execution": {
     "iopub.execute_input": "2021-10-20T04:58:12.603826Z",
     "iopub.status.busy": "2021-10-20T04:58:12.603549Z",
     "iopub.status.idle": "2021-10-20T04:58:12.638684Z",
     "shell.execute_reply": "2021-10-20T04:58:12.637352Z",
     "shell.execute_reply.started": "2021-10-20T04:58:12.603793Z"
    },
    "execution_millis": 49,
    "execution_start": 1635864838041,
    "scrolled": true,
    "source_hash": "2a9445fc"
   },
   "outputs": [],
   "source": [
    "trainappdata[trainappdata['installs']<100000.0].describe()\n"
   ]
  },
  {
   "cell_type": "code",
   "execution_count": null,
   "metadata": {
    "cell_id": "00106-17e6d831-5ba4-4261-bc62-2f4012d1c6f7",
    "deepnote_cell_type": "code",
    "deepnote_to_be_reexecuted": false,
    "execution_millis": 16,
    "execution_start": 1635864838097,
    "scrolled": true,
    "source_hash": "c4de0dd1",
    "tags": []
   },
   "outputs": [],
   "source": [
    "trainappdata['installs'].describe()\n"
   ]
  },
  {
   "cell_type": "code",
   "execution_count": null,
   "metadata": {
    "cell_id": "00107-13048528-3734-45ee-9f71-5154faf2bf74",
    "deepnote_cell_type": "code",
    "deepnote_to_be_reexecuted": false,
    "execution_millis": 3,
    "execution_start": 1635864838118,
    "scrolled": true,
    "source_hash": "b1958060",
    "tags": []
   },
   "outputs": [],
   "source": [
    "# trainappdata['installs'] = trainappdata['installs'].str.replace('+','').str.replace(',','').astype(float)\n",
    "#trainappdata['installs'].format(trainappdata['installs'], '.0e')"
   ]
  },
  {
   "cell_type": "code",
   "execution_count": null,
   "metadata": {
    "cell_id": "00107-cb53c197-aa4d-4d93-9be5-33873cf2a785",
    "deepnote_cell_type": "code",
    "deepnote_to_be_reexecuted": false,
    "execution_millis": 1393,
    "execution_start": 1635864838126,
    "scrolled": true,
    "source_hash": "19fc2878",
    "tags": []
   },
   "outputs": [],
   "source": [
    "f, axes = plt.subplots(1, 1, figsize=(30, 10))\n",
    "sb.boxplot(x='installs', y='rating', data=trainappdata, hue='type')\n",
    "#popularpaid = trainappdata[trainappdata['installs']>5000000 and trainappdata[trainappdata['type']!='free']]\n",
    "#popularpaid"
   ]
  },
  {
   "cell_type": "markdown",
   "metadata": {
    "cell_id": "00108-536e1898-f5eb-4222-8312-9f45bb8467e9",
    "deepnote_cell_type": "markdown",
    "tags": []
   },
   "source": [
    "##### From the above box plot, we can note that close to none of the apps with above 5.0e6 installations are paid."
   ]
  },
  {
   "cell_type": "code",
   "execution_count": null,
   "metadata": {
    "cell_id": "00110-74bfb056-d41a-4270-8ffc-c68e7a9919a9",
    "deepnote_cell_type": "code",
    "deepnote_to_be_reexecuted": false,
    "execution_millis": 17,
    "execution_start": 1635864839527,
    "scrolled": true,
    "source_hash": "9434e055",
    "tags": []
   },
   "outputs": [],
   "source": [
    "trainappdata['installs']= np.log(trainappdata['installs']) #current values are too large & difficult to deal with\n"
   ]
  },
  {
   "cell_type": "code",
   "execution_count": null,
   "metadata": {
    "scrolled": false
   },
   "outputs": [],
   "source": [
    "trainappdata['installs'].value_counts()"
   ]
  },
  {
   "cell_type": "code",
   "execution_count": null,
   "metadata": {},
   "outputs": [],
   "source": []
  },
  {
   "cell_type": "code",
   "execution_count": null,
   "metadata": {
    "cell_id": "00111-3bbfe476-58f0-4a14-9832-7d5f902e54af",
    "deepnote_cell_type": "code",
    "deepnote_to_be_reexecuted": false,
    "execution_millis": 601,
    "execution_start": 1635864839556,
    "scrolled": true,
    "source_hash": "9f6ce575",
    "tags": []
   },
   "outputs": [],
   "source": [
    "sb.displot(trainappdata['installs'])"
   ]
  },
  {
   "cell_type": "markdown",
   "metadata": {
    "cell_id": "00112-1976a011-7e97-4b5f-b433-3e467db04454",
    "deepnote_cell_type": "markdown",
    "tags": []
   },
   "source": [
    "##### We notice that it is now closer to a normal distribution and is also much easier to read in comparison to before we log the values"
   ]
  },
  {
   "cell_type": "markdown",
   "metadata": {},
   "source": [
    "## Review Analysis"
   ]
  },
  {
   "cell_type": "code",
   "execution_count": null,
   "metadata": {
    "scrolled": true
   },
   "outputs": [],
   "source": [
    "trainappdata['reviews']=np.log(trainappdata['reviews'])"
   ]
  },
  {
   "cell_type": "code",
   "execution_count": null,
   "metadata": {
    "scrolled": true
   },
   "outputs": [],
   "source": [
    "trainappdata['reviews']"
   ]
  },
  {
   "cell_type": "code",
   "execution_count": null,
   "metadata": {
    "scrolled": false
   },
   "outputs": [],
   "source": [
    "trainappdata['reviews'] = trainappdata['reviews'].astype(str).astype(float)\n",
    "reviews = pd.DataFrame(trainappdata['reviews'])\n",
    "reviews.info()"
   ]
  },
  {
   "cell_type": "code",
   "execution_count": null,
   "metadata": {
    "scrolled": true
   },
   "outputs": [],
   "source": [
    "print(trainappdata['reviews'].nunique())"
   ]
  },
  {
   "cell_type": "code",
   "execution_count": null,
   "metadata": {
    "scrolled": false
   },
   "outputs": [],
   "source": [
    "sb.regplot(x='installs',y='reviews', data=trainappdata)"
   ]
  },
  {
   "cell_type": "code",
   "execution_count": null,
   "metadata": {},
   "outputs": [],
   "source": [
    "sb.regplot(x='installs',y='price', data=trainappdata)"
   ]
  },
  {
   "cell_type": "markdown",
   "metadata": {
    "cell_id": "00106-d53db227-11b4-44b9-b4d5-d5907d3e5ac2",
    "deepnote_cell_type": "markdown",
    "tags": []
   },
   "source": [
    "## Ratings Analysis\n",
    "##### Breaking down of the apps data based on `Rating` and `Content Rating`"
   ]
  },
  {
   "cell_type": "code",
   "execution_count": null,
   "metadata": {
    "cell_id": "00104-5ba44b3b-05a4-4c71-8002-75c4e95e0895",
    "deepnote_cell_type": "code",
    "deepnote_to_be_reexecuted": false,
    "execution_millis": 9,
    "execution_start": 1635864840166,
    "scrolled": true,
    "source_hash": "b300fd0c"
   },
   "outputs": [],
   "source": [
    "ageRatingData = pd.DataFrame(trainappdata['content rating'])\n",
    "ratingData = pd.DataFrame(trainappdata['rating'])\n",
    "Rating = trainappdata['content rating']"
   ]
  },
  {
   "cell_type": "code",
   "execution_count": null,
   "metadata": {
    "cell_id": "00107-4a26643f-b71e-4e2f-b6a1-646a887ed58d",
    "deepnote_cell_type": "code",
    "deepnote_to_be_reexecuted": false,
    "execution_millis": 12,
    "execution_start": 1635864840207,
    "scrolled": true,
    "source_hash": "b6019cd0",
    "tags": []
   },
   "outputs": [],
   "source": [
    "ageRatingData.describe()"
   ]
  },
  {
   "cell_type": "code",
   "execution_count": null,
   "metadata": {
    "cell_id": "00108-ef26e5be-65d2-4aa0-9b1a-77dfbefa6164",
    "deepnote_cell_type": "code",
    "deepnote_to_be_reexecuted": false,
    "execution_millis": 36,
    "execution_start": 1635864840227,
    "scrolled": true,
    "source_hash": "c7e77a16",
    "tags": []
   },
   "outputs": [],
   "source": [
    "ratingData.describe()"
   ]
  },
  {
   "cell_type": "code",
   "execution_count": null,
   "metadata": {
    "cell_id": "00109-3ad51df5-1002-47d6-b926-4b53ffc26e58",
    "deepnote_cell_type": "code",
    "deepnote_to_be_reexecuted": false,
    "execution_millis": 431,
    "execution_start": 1635864840294,
    "scrolled": true,
    "source_hash": "502b7929",
    "tags": []
   },
   "outputs": [],
   "source": [
    "f, axes = plt.subplots(1, 1, figsize = (16, 8))\n",
    "\n",
    "sb.boxplot (x = 'content rating', y = 'installs', data = trainappdata)"
   ]
  },
  {
   "cell_type": "code",
   "execution_count": null,
   "metadata": {
    "cell_id": "00110-9628dcf9-d852-4d02-9542-20200e20277c",
    "deepnote_cell_type": "code",
    "deepnote_to_be_reexecuted": false,
    "execution_millis": 585,
    "execution_start": 1635864840725,
    "scrolled": true,
    "source_hash": "87f25218",
    "tags": []
   },
   "outputs": [],
   "source": [
    "sb.catplot(x = 'content rating', y = 'installs', data = trainappdata, height = 8)"
   ]
  },
  {
   "cell_type": "code",
   "execution_count": null,
   "metadata": {
    "scrolled": false
   },
   "outputs": [],
   "source": [
    "sb.catplot(y = 'content rating', data = trainappdata, kind = \"count\", height = 8, order=Rating.value_counts().index)"
   ]
  },
  {
   "cell_type": "code",
   "execution_count": null,
   "metadata": {
    "cell_id": "00112-3ba21d6a-1f28-4fe4-9cff-dfa8cea998bb",
    "deepnote_cell_type": "code",
    "deepnote_to_be_reexecuted": false,
    "execution_millis": 2288,
    "execution_start": 1635864841876,
    "scrolled": true,
    "source_hash": "a2b5812b",
    "tags": []
   },
   "outputs": [],
   "source": [
    "f, axes = plt.subplots(1,1, figsize = (20, 20))\n",
    "sb.heatmap(trainappdata.groupby(['installs', 'content rating']).size().unstack(), vmin = -1, vmax = 1, linewidths = 1, annot = True, fmt = \".2f\", annot_kws = {\"size\": 18}, cmap = \"RdBu\")"
   ]
  },
  {
   "cell_type": "code",
   "execution_count": null,
   "metadata": {
    "cell_id": "00114-5697c7ea-b1fc-4eca-a5b8-8b1fbf0bf23c",
    "deepnote_cell_type": "code",
    "deepnote_to_be_reexecuted": false,
    "execution_millis": 8,
    "execution_start": 1635864844156,
    "scrolled": true,
    "source_hash": "8407b49d",
    "tags": []
   },
   "outputs": [],
   "source": [
    "from collections import Counter\n",
    "Counter(trainappdata['content rating'])"
   ]
  },
  {
   "cell_type": "code",
   "execution_count": null,
   "metadata": {
    "cell_id": "00115-aee3e5c3-222f-41a7-8e0e-04d2457d74b4",
    "deepnote_cell_type": "code",
    "deepnote_to_be_reexecuted": false,
    "execution_millis": 0,
    "execution_start": 1635864844157,
    "scrolled": true,
    "source_hash": "1482d79c",
    "tags": []
   },
   "outputs": [],
   "source": [
    "print(trainappdata['content rating'].nunique())"
   ]
  },
  {
   "cell_type": "code",
   "execution_count": null,
   "metadata": {
    "cell_id": "00118-24cb04b9-9fc2-4135-bd41-f98430a2c317",
    "deepnote_cell_type": "code",
    "deepnote_to_be_reexecuted": false,
    "execution_millis": 54,
    "execution_start": 1635864844158,
    "scrolled": true,
    "source_hash": "2b170ff4",
    "tags": []
   },
   "outputs": [],
   "source": [
    "correlation_matrix = trainappdata.copy().drop(['genres', 'type', 'last updated', 'current ver', 'android ver'], axis=1)\n",
    "correlation_matrix.head()"
   ]
  },
  {
   "cell_type": "code",
   "execution_count": null,
   "metadata": {
    "cell_id": "00119-64a14518-aa7f-4bfd-8312-64bdbe742cb4",
    "deepnote_cell_type": "code",
    "deepnote_to_be_reexecuted": false,
    "execution_millis": 215,
    "execution_start": 1635864844210,
    "scrolled": true,
    "source_hash": "1d81b9f7",
    "tags": []
   },
   "outputs": [],
   "source": [
    "from sklearn.preprocessing import LabelEncoder\n",
    "\n",
    "en = LabelEncoder()\n",
    "correlation_matrix['category'] = en.fit_transform(correlation_matrix['category'])\n",
    "correlation_matrix['content rating'] = en.fit_transform(correlation_matrix['content rating'])"
   ]
  },
  {
   "cell_type": "code",
   "execution_count": null,
   "metadata": {
    "cell_id": "00119-a55266d5-551f-4afc-ac17-38886a810df0",
    "deepnote_cell_type": "code",
    "deepnote_to_be_reexecuted": false,
    "execution_millis": 17,
    "execution_start": 1635864844470,
    "scrolled": false,
    "source_hash": "abee4f22",
    "tags": []
   },
   "outputs": [],
   "source": [
    "correlation_matrix.describe()"
   ]
  },
  {
   "cell_type": "markdown",
   "metadata": {
    "cell_id": "00120-c7caa030-0340-4b51-8d66-c742bfc72c89",
    "deepnote_cell_type": "markdown",
    "tags": []
   },
   "source": [
    "## Correlation Matrix "
   ]
  },
  {
   "cell_type": "code",
   "execution_count": null,
   "metadata": {
    "scrolled": true
   },
   "outputs": [],
   "source": [
    "correlation_matrix.info()"
   ]
  },
  {
   "cell_type": "code",
   "execution_count": null,
   "metadata": {
    "cell_id": "00120-1ba74324-684c-47e7-8435-c14b65c9c364",
    "deepnote_cell_type": "code",
    "deepnote_to_be_reexecuted": false,
    "execution_millis": 799,
    "execution_start": 1635864844495,
    "scrolled": true,
    "source_hash": "4f39a99c",
    "tags": []
   },
   "outputs": [],
   "source": [
    "sb.heatmap(correlation_matrix.corr(), annot=True, cmap='Blues')\n",
    "plt.title('Correlation Matrix')\n",
    "plt.show()"
   ]
  },
  {
   "cell_type": "markdown",
   "metadata": {
    "cell_id": "00125-48fd621f-fea1-4068-8d2d-b763fc215953",
    "deepnote_cell_type": "markdown",
    "tags": []
   },
   "source": [
    "## 3D Correlation Modeling"
   ]
  },
  {
   "cell_type": "code",
   "execution_count": null,
   "metadata": {
    "cell_id": "00126-e71163ce-6c76-4f9d-b9e2-887c7385d1da",
    "deepnote_cell_type": "code",
    "deepnote_to_be_reexecuted": false,
    "execution_millis": 1,
    "execution_start": 1635864845300,
    "scrolled": true,
    "source_hash": "8af4041c",
    "tags": []
   },
   "outputs": [],
   "source": [
    "from mpl_toolkits import mplot3d"
   ]
  },
  {
   "cell_type": "code",
   "execution_count": null,
   "metadata": {
    "cell_id": "00127-df75a23e-739d-4463-9516-35abcba6bb3a",
    "deepnote_cell_type": "code",
    "deepnote_to_be_reexecuted": false,
    "execution_millis": 685,
    "execution_start": 1635864845301,
    "scrolled": false,
    "source_hash": "1db3eaa6",
    "tags": []
   },
   "outputs": [],
   "source": [
    "fig = plt.figure(figsize = (12, 12))\n",
    "ax = plt.axes(projection='3d')\n",
    "xdata = correlation_matrix['price']\n",
    "ydata = correlation_matrix['rating']\n",
    "zdata = correlation_matrix['installs']\n",
    "\n",
    "ax.scatter3D(xdata, ydata, zdata);\n",
    "ax.set_xlabel('price')\n",
    "ax.set_ylabel('rating')\n",
    "ax.set_zlabel('installs(lg)');\n",
    "#ax.plot3D(xdata, ydata, zdata, 'gray')"
   ]
  },
  {
   "cell_type": "code",
   "execution_count": null,
   "metadata": {},
   "outputs": [],
   "source": [
    "trainappdata['rating']\n"
   ]
  },
  {
   "cell_type": "code",
   "execution_count": null,
   "metadata": {},
   "outputs": [],
   "source": [
    "sb.catplot(y = 'rating', data = trainappdata, kind = \"count\")"
   ]
  },
  {
   "cell_type": "markdown",
   "metadata": {
    "cell_id": "00128-645a7bb2-7eb2-4bae-bd24-a2d67db6475a",
    "deepnote_cell_type": "markdown",
    "tags": []
   },
   "source": [
    "##### From this, we notice that while majority of the data congregates at $0 which we have already confirmed earlier under `Price Analysis`, there is no clear corelation between the 3 categories, `Price`, `Installs` and `Rating`. \n",
    "##### However, we are able to note that all apps that costs >$200 have a raing of at least 4.0, while also having minimal installations."
   ]
  },
  {
   "cell_type": "code",
   "execution_count": null,
   "metadata": {
    "cell_id": "00128-608d6b45-92b1-43cc-8ba3-970a24f32d62",
    "deepnote_cell_type": "code",
    "deepnote_to_be_reexecuted": false,
    "execution_millis": 577,
    "execution_start": 1635864845992,
    "scrolled": true,
    "source_hash": "bac5f019",
    "tags": []
   },
   "outputs": [],
   "source": [
    "fig = plt.figure(figsize = (12, 12))\n",
    "ax = plt.axes(projection='3d')\n",
    "xdata = correlation_matrix['price']\n",
    "ydata = correlation_matrix['size']\n",
    "zdata = correlation_matrix['installs']\n",
    "\n",
    "ax.scatter3D(xdata, ydata, zdata);\n",
    "ax.set_xlabel('price')\n",
    "ax.set_ylabel('size')\n",
    "ax.set_zlabel('rating');"
   ]
  },
  {
   "cell_type": "markdown",
   "metadata": {
    "cell_id": "00133-273bcce7-4e70-44b2-a427-dd2ef038aac9",
    "deepnote_cell_type": "markdown",
    "tags": []
   },
   "source": [
    "##### We can clearly see from the above plots that the cheaper and smaller size the app, the more likely it is to receive a higher rating. "
   ]
  },
  {
   "cell_type": "code",
   "execution_count": null,
   "metadata": {
    "cell_id": "00128-12a10809-7652-470f-bdaa-bb272872bfe4",
    "deepnote_cell_type": "code",
    "deepnote_to_be_reexecuted": false,
    "execution_millis": 598,
    "execution_start": 1635864846604,
    "scrolled": true,
    "source_hash": "c7f77352",
    "tags": []
   },
   "outputs": [],
   "source": [
    "fig = plt.figure(figsize = (12, 12))\n",
    "ax = plt.axes(projection='3d')\n",
    "xdata = correlation_matrix['size']\n",
    "ydata = correlation_matrix['installs']\n",
    "zdata = correlation_matrix['price']\n",
    "\n",
    "ax.scatter3D(xdata, ydata, zdata);\n",
    "ax.set_xlabel('size')\n",
    "ax.set_ylabel('installs(lg)')\n",
    "ax.set_zlabel('price');"
   ]
  },
  {
   "cell_type": "markdown",
   "metadata": {
    "cell_id": "00135-1603fc70-2dfb-4fda-84a3-3e47c3f6e28c",
    "deepnote_cell_type": "markdown",
    "tags": []
   },
   "source": [
    "##### There are no clear relationships between the 3 datas, although it is evident that the high priced apps generally have a small size"
   ]
  },
  {
   "cell_type": "code",
   "execution_count": null,
   "metadata": {
    "cell_id": "00137-36743a1c-19a9-4244-a28a-3c6418dee433",
    "deepnote_cell_type": "code",
    "deepnote_to_be_reexecuted": false,
    "execution_millis": 602,
    "execution_start": 1635864847234,
    "scrolled": true,
    "source_hash": "85f8febb",
    "tags": []
   },
   "outputs": [],
   "source": [
    "fig = plt.figure(figsize = (12, 12))\n",
    "ax = plt.axes(projection='3d')\n",
    "xdata = correlation_matrix['price']\n",
    "ydata = correlation_matrix['genres']\n",
    "zdata = correlation_matrix['size']\n",
    "\n",
    "ax.scatter3D(xdata, ydata, zdata);\n",
    "ax.set_xlabel('price')\n",
    "ax.set_ylabel('genres')\n",
    "ax.set_zlabel('size');"
   ]
  },
  {
   "cell_type": "code",
   "execution_count": null,
   "metadata": {
    "cell_id": "00138-834db9d4-4562-49c0-9620-74132e938df3",
    "deepnote_cell_type": "code",
    "deepnote_to_be_reexecuted": false,
    "execution_millis": 565,
    "execution_start": 1635864847864,
    "scrolled": true,
    "source_hash": "f0080196",
    "tags": []
   },
   "outputs": [],
   "source": [
    "fig = plt.figure(figsize = (12, 12))\n",
    "ax = plt.axes(projection='3d')\n",
    "xdata = correlation_matrix['price']\n",
    "ydata = correlation_matrix['genres']\n",
    "zdata = correlation_matrix['installs']\n",
    "\n",
    "ax.scatter3D(xdata, ydata, zdata);\n",
    "ax.set_xlabel('price')\n",
    "ax.set_ylabel('genres')\n",
    "ax.set_zlabel('installs(lg)');"
   ]
  },
  {
   "cell_type": "code",
   "execution_count": null,
   "metadata": {},
   "outputs": [],
   "source": [
    "trainappdata.describe()"
   ]
  },
  {
   "cell_type": "markdown",
   "metadata": {
    "cell_id": "00122-2a3a8634-6687-4af3-8f0a-cd387e5ff605",
    "deepnote_cell_type": "markdown",
    "tags": []
   },
   "source": []
  },
  {
   "cell_type": "markdown",
   "metadata": {
    "cell_id": "00124-63ffb6cb-aec5-4ad5-a229-fb482611b65d",
    "deepnote_cell_type": "markdown",
    "tags": []
   },
   "source": [
    "## Linear Regression"
   ]
  },
  {
   "cell_type": "code",
   "execution_count": null,
   "metadata": {
    "cell_id": "00124-5e53745c-6f68-45a6-8deb-02f69b2777ec",
    "deepnote_cell_type": "code",
    "deepnote_to_be_reexecuted": false,
    "execution_millis": 51,
    "execution_start": 1635864848424,
    "scrolled": true,
    "source_hash": "b75de45b",
    "tags": []
   },
   "outputs": [],
   "source": [
    "from sklearn.metrics import mean_squared_error\n",
    "correlation_matrix = correlation_matrix.dropna()"
   ]
  },
  {
   "cell_type": "code",
   "execution_count": null,
   "metadata": {
    "cell_id": "00124-77ca59e5-726c-4983-9fc1-998a4683ea85",
    "deepnote_cell_type": "code",
    "deepnote_to_be_reexecuted": false,
    "execution_millis": 10265,
    "execution_start": 1635864848486,
    "scrolled": false,
    "source_hash": "66822f06",
    "tags": []
   },
   "outputs": [],
   "source": [
    "# Relationship between Response and the Predictors\n",
    "sb.pairplot(data = correlation_matrix)"
   ]
  },
  {
   "cell_type": "code",
   "execution_count": null,
   "metadata": {
    "scrolled": true
   },
   "outputs": [],
   "source": [
    "y = pd.DataFrame(correlation_matrix[\"installs\"])\n",
    "x = pd.DataFrame(correlation_matrix[[\"size\",\"rating\", \"price\", \"content rating\", \"category\", \"reviews\"]])"
   ]
  },
  {
   "cell_type": "code",
   "execution_count": null,
   "metadata": {
    "cell_id": "00124-7d1f32fb-d67b-4e91-ae79-e7914034335c",
    "deepnote_cell_type": "code",
    "deepnote_to_be_reexecuted": true,
    "execution_millis": 13,
    "execution_start": 1635864690400,
    "scrolled": true,
    "source_hash": "2be7f71b",
    "tags": []
   },
   "outputs": [],
   "source": [
    "# Import train_test_split from sklearn\n",
    "from sklearn.model_selection import train_test_split\n",
    "\n",
    "x_train, x_test, y_train,y_test = train_test_split(x, y, test_size = 0.3)\n",
    "\n",
    "# Check sample size\n",
    "print(\"Train Set :\", y_train.shape, x_train.shape)\n",
    "print(\"Test Set  :\", y_test.shape, x_test.shape)"
   ]
  },
  {
   "cell_type": "code",
   "execution_count": null,
   "metadata": {
    "cell_id": "00124-5d757ff7-1da8-48c3-b3c5-db00d2af21ed",
    "deepnote_cell_type": "code",
    "deepnote_to_be_reexecuted": true,
    "execution_millis": 36,
    "execution_start": 1635864690432,
    "scrolled": true,
    "source_hash": "8a0abea3",
    "tags": []
   },
   "outputs": [],
   "source": [
    "x_train.describe()"
   ]
  },
  {
   "cell_type": "code",
   "execution_count": null,
   "metadata": {
    "cell_id": "00148-b0fa6c4d-104f-4908-8065-d53679f43619",
    "deepnote_cell_type": "code",
    "deepnote_to_be_reexecuted": true,
    "execution_millis": 939,
    "execution_start": 1635864690526,
    "scrolled": true,
    "source_hash": "4a4f185d",
    "tags": []
   },
   "outputs": [],
   "source": [
    "from sklearn.linear_model import LinearRegression\n",
    "\n",
    "# Linear Regression using Train Data\n",
    "linreg = LinearRegression()         # create the linear regression object\n",
    "linreg.fit(X_train, y_train)        # train the linear regression model\n",
    "\n",
    "# Coefficients of the Linear Regression line\n",
    "print('Intercept of Regression \\t: b = ', linreg.intercept_)\n",
    "print('Coefficients of Regression \\t: a = ', linreg.coef_)\n",
    "print()\n",
    "\n",
    "# Print the Coefficients against Predictors\n",
    "print(pd.DataFrame(list(zip(X_train.columns, linreg.coef_[0])), columns = [\"Predictors\", \"Coefficients\"]))\n",
    "print()\n",
    "\n",
    "# Predict Response corresponding to Predictors\n",
    "y_train_pred = linreg.predict(X_train)\n",
    "y_test_pred = linreg.predict(X_test)\n",
    "\n",
    "# Plot the Predictions vs the True values\n",
    "f, axes = plt.subplots(1, 2, figsize=(24, 12))\n",
    "axes[0].scatter(y_train, y_train_pred, color = \"blue\")\n",
    "axes[0].plot(y_train, y_train, 'w-', linewidth = 1)\n",
    "axes[0].set_xlabel(\"True values of the Response Variable (Train)\")\n",
    "axes[0].set_ylabel(\"Predicted values of the Response Variable (Train)\")\n",
    "axes[1].scatter(y_test, y_test_pred, color = \"green\")\n",
    "axes[1].plot(y_test, y_test, 'w-', linewidth = 1)\n",
    "axes[1].set_xlabel(\"True values of the Response Variable (Test)\")\n",
    "axes[1].set_ylabel(\"Predicted values of the Response Variable (Test)\")\n",
    "plt.show()\n",
    "\n",
    "# Check the Goodness of Fit (on Train Data)\n",
    "print(\"Goodness of Fit of Model \\tTrain Dataset\")\n",
    "print(\"Explained Variance (R^2) \\t:\", linreg.score(X_train, y_train))\n",
    "print(\"Mean Squared Error (MSE) \\t:\", mean_squared_error(y_train, y_train_pred))\n",
    "print()\n",
    "\n",
    "# Check the Goodness of Fit (on Test Data)\n",
    "print(\"Goodness of Fit of Model \\tTest Dataset\")\n",
    "print(\"Explained Variance (R^2) \\t:\", linreg.score(X_test, y_test))\n",
    "print(\"Mean Squared Error (MSE) \\t:\", mean_squared_error(y_test, y_test_pred))\n",
    "print()"
   ]
  },
  {
   "cell_type": "markdown",
   "metadata": {
    "cell_id": "00149-c6682210-b42b-44f9-82c7-e55e581bdf42",
    "deepnote_cell_type": "markdown",
    "tags": []
   },
   "source": [
    "## Classification Tree"
   ]
  },
  {
   "cell_type": "code",
   "execution_count": null,
   "metadata": {
    "cell_id": "00149-3aa0bca3-7dc0-4edb-b3d7-406babbcfdd6",
    "deepnote_cell_type": "code",
    "deepnote_to_be_reexecuted": true,
    "execution_millis": 97,
    "execution_start": 1635864691474,
    "scrolled": true,
    "source_hash": "aadaf2ea",
    "tags": []
   },
   "outputs": [],
   "source": [
    "from sklearn.tree import DecisionTreeClassifier\n",
    "from sklearn.model_selection import train_test_split\n",
    "from sklearn.metrics import confusion_matrix\n",
    "\n",
    "dectree = DecisionTreeClassifier(max_depth = 3)"
   ]
  },
  {
   "cell_type": "code",
   "execution_count": null,
   "metadata": {
    "cell_id": "00151-1fd3800f-5cd8-443b-8772-4e1af4896616",
    "deepnote_cell_type": "code",
    "deepnote_to_be_reexecuted": true,
    "execution_millis": 1,
    "execution_start": 1635864691571,
    "scrolled": true,
    "source_hash": "388634da",
    "tags": []
   },
   "outputs": [],
   "source": [
    "correlation_matrix[\"rating\"] = correlation_matrix[\"rating\"].mul(10)"
   ]
  },
  {
   "cell_type": "code",
   "execution_count": null,
   "metadata": {
    "cell_id": "00153-0b5f346a-c6fb-4fcf-9a36-a222f6478692",
    "deepnote_cell_type": "code",
    "deepnote_to_be_reexecuted": true,
    "execution_millis": 56,
    "execution_start": 1635864691572,
    "scrolled": true,
    "source_hash": "141bdeb0",
    "tags": []
   },
   "outputs": [],
   "source": [
    "correlation_matrix.info()"
   ]
  },
  {
   "cell_type": "code",
   "execution_count": null,
   "metadata": {
    "cell_id": "00152-b67b887c-8d98-4c19-97db-9e44fd25f4ef",
    "deepnote_cell_type": "code",
    "deepnote_to_be_reexecuted": true,
    "execution_millis": 35,
    "execution_start": 1635864691641,
    "scrolled": true,
    "source_hash": "9b2566cd",
    "tags": []
   },
   "outputs": [],
   "source": [
    "correlation_matrix['rating'] = correlation_matrix['rating'].astype(np.int64)\n",
    "correlation_matrix['price'] = correlation_matrix['price'].astype(np.int64)\n",
    "correlation_matrix['size'] = correlation_matrix['size'].astype(np.int64)\n",
    "correlation_matrix['installs'] = correlation_matrix['installs'].astype(np.float64)\n",
    "correlation_matrix.head()"
   ]
  },
  {
   "cell_type": "markdown",
   "metadata": {
    "cell_id": "00152-78a084e3-777b-4d42-a7b0-9899b7843af2",
    "deepnote_cell_type": "markdown",
    "tags": []
   },
   "source": [
    "### Uni-Variate\n",
    "##### Size VS Rating"
   ]
  },
  {
   "cell_type": "code",
   "execution_count": null,
   "metadata": {
    "cell_id": "00150-c0d5cb0e-f604-4701-9c1b-9f8cde9b7ae2",
    "deepnote_cell_type": "code",
    "deepnote_to_be_reexecuted": true,
    "execution_millis": 2,
    "execution_start": 1635864691664,
    "scrolled": true,
    "source_hash": "d4cfaac9",
    "tags": []
   },
   "outputs": [],
   "source": [
    "# Extract Response and Predictors\n",
    "y = pd.DataFrame(correlation_matrix['rating'])\n",
    "X = pd.DataFrame(correlation_matrix['size'])\n",
    "\n",
    "# Split the Dataset into Train and Test\n",
    "X_train, X_test, y_train, y_test = train_test_split(X, y, test_size = 3/10)"
   ]
  },
  {
   "cell_type": "code",
   "execution_count": null,
   "metadata": {
    "cell_id": "00151-f3e53cd9-8881-419d-b749-2deb8fb93bca",
    "deepnote_cell_type": "code",
    "deepnote_to_be_reexecuted": true,
    "execution_millis": 158,
    "execution_start": 1635864691687,
    "scrolled": true,
    "source_hash": "e8ac7986",
    "tags": []
   },
   "outputs": [],
   "source": [
    "dectree = DecisionTreeClassifier(max_depth = 2)\n",
    "dectree.fit(X_train, y_train)"
   ]
  },
  {
   "cell_type": "code",
   "execution_count": null,
   "metadata": {
    "cell_id": "00150-49fc7086-2f4d-45aa-8826-4a84b0169394",
    "deepnote_cell_type": "code",
    "deepnote_to_be_reexecuted": true,
    "execution_millis": 2271,
    "execution_start": 1635864691767,
    "scrolled": true,
    "source_hash": "6e1ea8eb",
    "tags": []
   },
   "outputs": [],
   "source": [
    "# Plot the trained Decision Tree\n",
    "from sklearn.tree import plot_tree\n",
    "fig, ax = plt.subplots(figsize=(50, 40))\n",
    "out = plot_tree(dectree, \n",
    "          feature_names = X_train.columns,\n",
    "          class_names = [str(x) for x in dectree.classes_],\n",
    "          filled=True)\n",
    "\n",
    "for o in out:\n",
    "    arrow = o.arrow_patch\n",
    "    if arrow is not None:\n",
    "        arrow.set_edgecolor('black')\n",
    "        arrow.set_linewidth(2)\n",
    "        \n",
    "plt.show()"
   ]
  },
  {
   "cell_type": "markdown",
   "metadata": {
    "cell_id": "00159-7f658148-633a-47d5-81b5-6ec19aeae0c2",
    "deepnote_cell_type": "markdown",
    "tags": []
   },
   "source": [
    "#### Installs VS Rating"
   ]
  },
  {
   "cell_type": "code",
   "execution_count": null,
   "metadata": {
    "cell_id": "00157-263609d7-1349-42ab-9f85-5c6aab1d23b5",
    "deepnote_cell_type": "code",
    "deepnote_to_be_reexecuted": true,
    "execution_millis": 2318,
    "execution_start": 1635864694041,
    "scrolled": true,
    "source_hash": "dad0c098",
    "tags": []
   },
   "outputs": [],
   "source": [
    "# Extract Response and Predictors\n",
    "y = pd.DataFrame(correlation_matrix['rating'])\n",
    "X = pd.DataFrame(correlation_matrix['installs'])\n",
    "\n",
    "# Split the Dataset into Train and Test\n",
    "X_train, X_test, y_train, y_test = train_test_split(X, y, test_size = 3/10)\n",
    "\n",
    "dectree = DecisionTreeClassifier(max_depth = 2)\n",
    "dectree.fit(X_train, y_train)\n",
    "\n",
    "# Plot the trained Decision Tree\n",
    "from sklearn.tree import plot_tree\n",
    "fig, ax = plt.subplots(figsize=(50, 40))\n",
    "out = plot_tree(dectree, \n",
    "          feature_names = X_train.columns,\n",
    "          class_names = [str(x) for x in dectree.classes_],\n",
    "          filled=True)\n",
    "\n",
    "for o in out:\n",
    "    arrow = o.arrow_patch\n",
    "    if arrow is not None:\n",
    "        arrow.set_edgecolor('black')\n",
    "        arrow.set_linewidth(3)\n",
    "        \n",
    "plt.show()"
   ]
  },
  {
   "cell_type": "markdown",
   "metadata": {
    "cell_id": "00162-6c07018d-ed98-4cbb-a9c0-88b5fc4f6c65",
    "deepnote_cell_type": "markdown",
    "tags": []
   },
   "source": [
    "#### Price VS Rating"
   ]
  },
  {
   "cell_type": "code",
   "execution_count": null,
   "metadata": {
    "cell_id": "00159-14ac4888-37de-417c-9b9a-d212206b8586",
    "deepnote_cell_type": "code",
    "deepnote_to_be_reexecuted": true,
    "execution_millis": 2724,
    "execution_start": 1635864696360,
    "scrolled": true,
    "source_hash": "92074faa",
    "tags": []
   },
   "outputs": [],
   "source": [
    "# Extract Response and Predictors\n",
    "y = pd.DataFrame(correlation_matrix['rating'])\n",
    "X = pd.DataFrame(correlation_matrix['price'])\n",
    "\n",
    "# Split the Dataset into Train and Test\n",
    "X_train, X_test, y_train, y_test = train_test_split(X, y, test_size = 3/10)\n",
    "\n",
    "dectree = DecisionTreeClassifier(max_depth = 3)\n",
    "dectree.fit(X_train, y_train)\n",
    "\n",
    "# Plot the trained Decision Tree\n",
    "from sklearn.tree import plot_tree\n",
    "fig, ax = plt.subplots(figsize=(50, 40))\n",
    "out = plot_tree(dectree, \n",
    "          feature_names = X_train.columns,\n",
    "          class_names = [str(x) for x in dectree.classes_],\n",
    "          filled=True)\n",
    "\n",
    "for o in out:\n",
    "    arrow = o.arrow_patch\n",
    "    if arrow is not None:\n",
    "        arrow.set_edgecolor('black')\n",
    "        arrow.set_linewidth(3)\n",
    "        \n",
    "plt.show()"
   ]
  },
  {
   "cell_type": "markdown",
   "metadata": {
    "cell_id": "00164-f7d9fb51-0ac2-4d50-9821-16934feea9a0",
    "deepnote_cell_type": "markdown",
    "tags": []
   },
   "source": [
    "#### Content Rating VS Rating"
   ]
  },
  {
   "cell_type": "code",
   "execution_count": null,
   "metadata": {
    "cell_id": "00165-4a62e93f-9503-4b51-8fa5-47a8b802d61b",
    "deepnote_cell_type": "code",
    "deepnote_to_be_reexecuted": true,
    "execution_millis": 2365,
    "execution_start": 1635864699074,
    "scrolled": true,
    "source_hash": "6b6c98ce",
    "tags": []
   },
   "outputs": [],
   "source": [
    "# Extract Response and Predictors\n",
    "y = pd.DataFrame(correlation_matrix['rating'])\n",
    "X = pd.DataFrame(correlation_matrix['content rating'])\n",
    "\n",
    "# Split the Dataset into Train and Test\n",
    "X_train, X_test, y_train, y_test = train_test_split(X, y, test_size = 3/10)\n",
    "\n",
    "dectree = DecisionTreeClassifier(max_depth = 2)\n",
    "dectree.fit(X_train, y_train)\n",
    "\n",
    "# Plot the trained Decision Tree\n",
    "from sklearn.tree import plot_tree\n",
    "fig, ax = plt.subplots(figsize=(50, 40))\n",
    "out = plot_tree(dectree, \n",
    "          feature_names = X_train.columns,\n",
    "          class_names = [str(x) for x in dectree.classes_],\n",
    "          filled=True)\n",
    "\n",
    "for o in out:\n",
    "    arrow = o.arrow_patch\n",
    "    if arrow is not None:\n",
    "        arrow.set_edgecolor('black')\n",
    "        arrow.set_linewidth(3)\n",
    "        \n",
    "plt.show()"
   ]
  },
  {
   "cell_type": "markdown",
   "metadata": {
    "cell_id": "00164-fe50f6e5-0197-4765-8eee-f9204394473d",
    "deepnote_cell_type": "markdown",
    "tags": []
   },
   "source": [
    "#### Genre VS Rating"
   ]
  },
  {
   "cell_type": "code",
   "execution_count": null,
   "metadata": {
    "cell_id": "00165-8e3e61f4-2b2d-4c97-b7ce-7f80ab15048d",
    "deepnote_cell_type": "code",
    "deepnote_to_be_reexecuted": true,
    "execution_millis": 2363,
    "execution_start": 1635864701431,
    "scrolled": true,
    "source_hash": "7dc9e214",
    "tags": []
   },
   "outputs": [],
   "source": [
    "# Extract Response and Predictors\n",
    "y = pd.DataFrame(correlation_matrix['rating'])\n",
    "X = pd.DataFrame(correlation_matrix['genres'])\n",
    "\n",
    "# Split the Dataset into Train and Test\n",
    "X_train, X_test, y_train, y_test = train_test_split(X, y, test_size = 3/10)\n",
    "\n",
    "dectree = DecisionTreeClassifier(max_depth = 2)\n",
    "dectree.fit(X_train, y_train)\n",
    "\n",
    "# Plot the trained Decision Tree\n",
    "from sklearn.tree import plot_tree\n",
    "fig, ax = plt.subplots(figsize=(50, 40))\n",
    "out = plot_tree(dectree, \n",
    "          feature_names = X_train.columns,\n",
    "          class_names = [str(x) for x in dectree.classes_],\n",
    "          filled=True)\n",
    "\n",
    "for o in out:\n",
    "    arrow = o.arrow_patch\n",
    "    if arrow is not None:\n",
    "        arrow.set_edgecolor('black')\n",
    "        arrow.set_linewidth(3)\n",
    "        \n",
    "plt.show()"
   ]
  },
  {
   "cell_type": "markdown",
   "metadata": {
    "cell_id": "00157-0afffb33-a661-4a2d-a3a7-71957b7f74f7",
    "deepnote_cell_type": "markdown",
    "tags": []
   },
   "source": [
    "## MULTI VARIATE CLASSIFICATION TREE"
   ]
  },
  {
   "cell_type": "code",
   "execution_count": null,
   "metadata": {
    "cell_id": "00158-69bfabaa-4814-4fc9-a643-2a3bf5219aeb",
    "deepnote_cell_type": "code",
    "deepnote_to_be_reexecuted": true,
    "execution_millis": 1233,
    "execution_start": 1635864703801,
    "scrolled": true,
    "source_hash": "27f0e431",
    "tags": []
   },
   "outputs": [],
   "source": [
    "sb.catplot(x = 'installs', data = correlation_matrix, kind = \"count\", height = 8)"
   ]
  },
  {
   "cell_type": "code",
   "execution_count": null,
   "metadata": {
    "cell_id": "00159-54352245-fcd0-4887-89db-26bebf897ba6",
    "deepnote_cell_type": "code",
    "deepnote_to_be_reexecuted": true,
    "execution_millis": 90,
    "execution_start": 1635864704947,
    "scrolled": true,
    "source_hash": "ec7f54de",
    "tags": []
   },
   "outputs": [],
   "source": [
    "correlation_matrix[\"installs\"] = correlation_matrix[\"installs\"].astype(np.int64)"
   ]
  },
  {
   "cell_type": "code",
   "execution_count": null,
   "metadata": {
    "cell_id": "00158-e3a20a1d-396c-4ae7-a71f-53537a1ff4c2",
    "deepnote_cell_type": "code",
    "deepnote_to_be_reexecuted": true,
    "execution_millis": 90,
    "execution_start": 1635864704948,
    "scrolled": true,
    "source_hash": "141bdeb0",
    "tags": []
   },
   "outputs": [],
   "source": [
    "correlation_matrix.info()"
   ]
  },
  {
   "cell_type": "code",
   "execution_count": null,
   "metadata": {
    "cell_id": "00158-5ec109e7-370e-44df-8da3-020a90778014",
    "deepnote_cell_type": "code",
    "deepnote_to_be_reexecuted": true,
    "execution_millis": 1,
    "execution_start": 1635864704963,
    "scrolled": true,
    "source_hash": "cbb1c4a",
    "tags": []
   },
   "outputs": [],
   "source": [
    "# Extract Response and Predictors\n",
    "y = pd.DataFrame(correlation_matrix[\"rating\"])\n",
    "X = pd.DataFrame(correlation_matrix[[\"size\",\"installs\", \"price\", \"content rating\", \"category\"]])\n",
    "\n",
    "# Import train_test_split from sklearn\n",
    "from sklearn.model_selection import train_test_split\n",
    "\n",
    "# Split the Dataset into Train and Test\n",
    "X_train, X_test, y_train, y_test = train_test_split(X, y, test_size = 0.3)\n",
    "\n",
    "# Check the sample sizes\n",
    "print(\"Train Set :\", y_train.shape, X_train.shape)\n",
    "print(\"Test Set  :\", y_test.shape, X_test.shape)"
   ]
  },
  {
   "cell_type": "code",
   "execution_count": null,
   "metadata": {
    "cell_id": "00158-b045a738-0c20-4274-bde5-268133d1f0eb",
    "deepnote_cell_type": "code",
    "deepnote_to_be_reexecuted": true,
    "execution_millis": 29,
    "execution_start": 1635864705016,
    "scrolled": true,
    "source_hash": "b4eb12d9",
    "tags": []
   },
   "outputs": [],
   "source": [
    "# Summary Statistics for Predictors\n",
    "X_train.describe()"
   ]
  },
  {
   "cell_type": "code",
   "execution_count": null,
   "metadata": {
    "cell_id": "00159-ef154ef8-76aa-4344-ae2c-50df33807a61",
    "deepnote_cell_type": "code",
    "deepnote_to_be_reexecuted": true,
    "execution_millis": 287567,
    "execution_start": 1635864705031,
    "scrolled": true,
    "source_hash": "b623e53d",
    "tags": []
   },
   "outputs": [],
   "source": []
  },
  {
   "cell_type": "code",
   "execution_count": null,
   "metadata": {
    "cell_id": "00159-0bbd8b01-ed27-46d8-bfcb-068e4e655c44",
    "deepnote_cell_type": "code",
    "deepnote_to_be_reexecuted": true,
    "execution_millis": 5807,
    "execution_start": 1635864705082,
    "scrolled": true,
    "source_hash": "c4365e3d",
    "tags": []
   },
   "outputs": [],
   "source": [
    "# Import DecisionTreeClassifier model from Scikit-Learn\n",
    "from sklearn.tree import DecisionTreeClassifier\n",
    "\n",
    "# Decision Tree using Train Data\n",
    "dectree = DecisionTreeClassifier(max_depth = 4)  # create the decision tree object\n",
    "dectree.fit(X_train, y_train)                    # train the decision tree model\n",
    "\n",
    "# Plot the trained Decision Tree\n",
    "from sklearn.tree import plot_tree\n",
    "fig, ax = plt.subplots(figsize=(100, 20))\n",
    "out = plot_tree(dectree, \n",
    "          feature_names = X_train.columns,\n",
    "          class_names = [str(x) for x in dectree.classes_],\n",
    "          filled=True)\n",
    "\n",
    "for o in out:\n",
    "    arrow = o.arrow_patch\n",
    "    if arrow is not None:\n",
    "        arrow.set_edgecolor('black')\n",
    "        arrow.set_linewidth(1)\n",
    "        \n",
    "plt.show()"
   ]
  },
  {
   "cell_type": "code",
   "execution_count": null,
   "metadata": {
    "cell_id": "00163-3a839dd7-cf9f-4dc8-ab95-a48a2a51d1a6",
    "deepnote_cell_type": "code",
    "deepnote_to_be_reexecuted": true,
    "execution_millis": 19347,
    "execution_start": 1635864710877,
    "scrolled": true,
    "source_hash": "9236714",
    "tags": []
   },
   "outputs": [],
   "source": [
    "# Predict Response corresponding to Predictors\n",
    "y_train_pred = dectree.predict(X_train)\n",
    "y_test_pred = dectree.predict(X_test)\n",
    "\n",
    "# Check the Goodness of Fit (on Train Data)\n",
    "print(\"Goodness of Fit of Model \\tTrain Dataset\")\n",
    "print(\"Classification Accuracy \\t:\", dectree.score(X_train, y_train))\n",
    "print()\n",
    "\n",
    "# Check the Goodness of Fit (on Test Data)\n",
    "print(\"Goodness of Fit of Model \\tTest Dataset\")\n",
    "print(\"Classification Accuracy \\t:\", dectree.score(X_test, y_test))\n",
    "print()\n",
    "\n",
    "# Plot the Confusion Matrix for Train and Test\n",
    "f, axes = plt.subplots(1, 2, figsize=(40, 10))\n",
    "sb.heatmap(confusion_matrix(y_train, y_train_pred),\n",
    "           annot = True, fmt=\".0f\", annot_kws={\"size\": 18}, ax = axes[0])\n",
    "sb.heatmap(confusion_matrix(y_test, y_test_pred), \n",
    "           annot = True, fmt=\".0f\", annot_kws={\"size\": 18}, ax = axes[1])"
   ]
  },
  {
   "cell_type": "markdown",
   "metadata": {
    "cell_id": "00133-c8d734dc-b448-48fd-a1dd-ec9820aede92",
    "deepnote_cell_type": "markdown",
    "tags": []
   },
   "source": [
    "# Random Forest "
   ]
  },
  {
   "cell_type": "markdown",
   "metadata": {
    "cell_id": "00134-3e5fe42e-7640-4c5e-9824-af6a53af81e8",
    "deepnote_cell_type": "markdown",
    "tags": []
   },
   "source": [
    "We think that using random forest is more appropriate as random forest adds additional randomness to the model, while growing the trees. Instead of searching for the most important feature while splitting a node, it searches for the best feature among a random subset of features. This results in a wide diversity that generally results in a better model.`"
   ]
  },
  {
   "cell_type": "code",
   "execution_count": null,
   "metadata": {
    "cell_id": "00137-239537f4-573b-420c-b811-de9ccdec05ac",
    "deepnote_cell_type": "code",
    "deepnote_to_be_reexecuted": true,
    "execution_millis": 49,
    "execution_start": 1635864730228,
    "scrolled": true,
    "source_hash": "1ac75d0f",
    "tags": []
   },
   "outputs": [],
   "source": [
    "correlation_matrix.info()\n",
    "correlation_matrix.head()"
   ]
  },
  {
   "cell_type": "code",
   "execution_count": null,
   "metadata": {
    "cell_id": "00134-61beb885-c329-4d23-83cf-7e8798ed32eb",
    "deepnote_cell_type": "code",
    "deepnote_to_be_reexecuted": true,
    "execution_millis": 1690,
    "execution_start": 1635864730283,
    "scrolled": true,
    "source_hash": "221b0a35",
    "tags": []
   },
   "outputs": [],
   "source": [
    "from sklearn.ensemble import RandomForestRegressor\n",
    "from xgboost import XGBRegressor\n",
    "rf = RandomForestRegressor()\n",
    "correlation_matrix=correlation_matrix.replace('Free',0)\n",
    "correlation_matrix=correlation_matrix.replace('Paid',1)"
   ]
  },
  {
   "cell_type": "code",
   "execution_count": null,
   "metadata": {
    "cell_id": "00183-b0043c48-72dc-4762-8a27-0dfb9da13a53",
    "deepnote_cell_type": "code",
    "deepnote_to_be_reexecuted": true,
    "execution_millis": 13,
    "execution_start": 1635864731989,
    "scrolled": true,
    "source_hash": "5b437ef8",
    "tags": []
   },
   "outputs": [],
   "source": [
    "y = pd.DataFrame(correlation_matrix[\"installs\"])\n",
    "x = pd.DataFrame(correlation_matrix[[\"size\",\"rating\", \"price\", \"content rating\", \"category\"]])\n",
    "\n",
    "x_train, x_test, y_train,y_test = train_test_split(x, y, test_size = 0.3)\n",
    "\n",
    "# Check sample size\n",
    "print(\"Train Set :\", y_train.shape, x_train.shape)\n",
    "print(\"Test Set  :\", y_test.shape, x_test.shape)"
   ]
  },
  {
   "cell_type": "code",
   "execution_count": null,
   "metadata": {
    "cell_id": "00184-c6676bd4-c206-4ad6-a3dc-81876c1ee4bf",
    "deepnote_cell_type": "code",
    "deepnote_to_be_reexecuted": true,
    "execution_millis": 2,
    "execution_start": 1635864732007,
    "scrolled": true,
    "source_hash": "4dc76bf4",
    "tags": []
   },
   "outputs": [],
   "source": [
    "correlation_matrix['category']"
   ]
  },
  {
   "cell_type": "code",
   "execution_count": null,
   "metadata": {
    "cell_id": "00185-5540b2ed-af60-4ec6-9e50-694397f7605b",
    "deepnote_cell_type": "code",
    "deepnote_to_be_reexecuted": true,
    "execution_millis": 0,
    "execution_start": 1635864732033,
    "scrolled": true,
    "source_hash": "141bdeb0",
    "tags": []
   },
   "outputs": [],
   "source": [
    "correlation_matrix.info()"
   ]
  },
  {
   "cell_type": "code",
   "execution_count": null,
   "metadata": {
    "cell_id": "00136-c0664eb4-9612-4d6f-b5a1-26b5353a1bf4",
    "deepnote_cell_type": "code",
    "deepnote_to_be_reexecuted": true,
    "execution_millis": 8,
    "execution_start": 1635864732082,
    "scrolled": true,
    "source_hash": "7aa7ed16",
    "tags": []
   },
   "outputs": [],
   "source": [
    "scaler = MinMaxScaler()\n",
    "scaler.fit(x_train)"
   ]
  },
  {
   "cell_type": "code",
   "execution_count": null,
   "metadata": {
    "cell_id": "00136-8c575be0-4b7f-4897-a7e0-19328ce0cddb",
    "deepnote_cell_type": "code",
    "deepnote_to_be_reexecuted": true,
    "execution_millis": 7,
    "execution_start": 1635864732083,
    "scrolled": true,
    "source_hash": "a93f9327",
    "tags": []
   },
   "outputs": [],
   "source": [
    "x_train = scaler.transform(x_train)\n",
    "x_test = scaler.transform(x_test)     "
   ]
  },
  {
   "cell_type": "code",
   "execution_count": null,
   "metadata": {
    "cell_id": "00135-af9ede55-9ed8-4d14-aa28-717d16169e89",
    "deepnote_cell_type": "code",
    "deepnote_to_be_reexecuted": true,
    "execution_millis": 1107,
    "execution_start": 1635864732084,
    "scrolled": true,
    "source_hash": "66350db4",
    "tags": []
   },
   "outputs": [],
   "source": [
    "rf.fit(x_train,y_train.values.ravel())"
   ]
  },
  {
   "cell_type": "code",
   "execution_count": null,
   "metadata": {
    "cell_id": "00136-80b2e38b-2af6-4efc-b06a-084b79a92243",
    "deepnote_cell_type": "code",
    "deepnote_to_be_reexecuted": true,
    "execution_millis": 77,
    "execution_start": 1635864733202,
    "scrolled": true,
    "source_hash": "760110cf",
    "tags": []
   },
   "outputs": [],
   "source": [
    "y_pred_rf = rf.predict(x_test)\n",
    "mse_rf = mean_squared_error(y_test, y_pred_rf)\n",
    "print(\"RMSE using RF: \", np.sqrt(mse_rf))"
   ]
  },
  {
   "cell_type": "code",
   "execution_count": null,
   "metadata": {
    "cell_id": "00136-016ba942-43c9-460d-891e-675a22f57353",
    "deepnote_cell_type": "code",
    "deepnote_to_be_reexecuted": true,
    "execution_millis": 12,
    "execution_start": 1635864733275,
    "scrolled": true,
    "source_hash": "442a207e",
    "tags": []
   },
   "outputs": [],
   "source": [
    "\n",
    "feature_name_list=correlation_matrix.drop(['app','installs'], axis = 1).columns\n",
    "rf.feature_names = feature_name_list\n"
   ]
  },
  {
   "cell_type": "code",
   "execution_count": null,
   "metadata": {
    "cell_id": "00190-1d4377c1-6514-4621-8089-aadb288c7103",
    "deepnote_cell_type": "code",
    "deepnote_to_be_reexecuted": true,
    "execution_millis": 455,
    "execution_start": 1635864733288,
    "scrolled": true,
    "source_hash": "77f53fe5",
    "tags": []
   },
   "outputs": [],
   "source": [
    "sort = rf.feature_importances_.argsort()\n",
    "plt.barh(rf.feature_names[sort],rf.feature_importances_[sort])\n",
    "plt.xticks(rotation=90);\n",
    "plt.title('Feature Importance by Random Forest')\n",
    "plt.xlabel('Feature Importance (%)')"
   ]
  },
  {
   "cell_type": "markdown",
   "metadata": {
    "cell_id": "00159-033446b5-2096-4eab-972d-343d0e23f40c",
    "deepnote_cell_type": "markdown",
    "tags": []
   },
   "source": [
    "### XGBoost"
   ]
  },
  {
   "cell_type": "code",
   "execution_count": null,
   "metadata": {
    "cell_id": "00159-9203b47f-b30c-4d01-b9d8-80e7dbce0f96",
    "deepnote_cell_type": "code",
    "deepnote_to_be_reexecuted": true,
    "execution_millis": 16970,
    "execution_start": 1635864733732,
    "scrolled": true,
    "source_hash": "56fa1690",
    "tags": []
   },
   "outputs": [],
   "source": [
    "xgb = XGBRegressor(n_estimators=2000, learning_rate=0.01)\n",
    "xgb.fit(x_train, y_train) \n",
    "y_pred_xgb = xgb.predict(x_test) \n",
    "mse_xgb = mean_squared_error(y_pred_xgb, y_test)"
   ]
  },
  {
   "cell_type": "code",
   "execution_count": null,
   "metadata": {
    "cell_id": "00161-6a8290be-891e-45ce-a361-1135131a2b35",
    "deepnote_cell_type": "code",
    "deepnote_to_be_reexecuted": true,
    "execution_millis": 5,
    "execution_start": 1635864750702,
    "scrolled": true,
    "source_hash": "64ac20d0",
    "tags": []
   },
   "outputs": [],
   "source": [
    "xgb.feature_names = feature_name_list\n",
    "xgb.feature_names"
   ]
  },
  {
   "cell_type": "code",
   "execution_count": null,
   "metadata": {
    "cell_id": "00162-016cf1bd-3930-4381-9475-12717d90ba54",
    "deepnote_cell_type": "code",
    "deepnote_to_be_reexecuted": true,
    "execution_millis": 8,
    "execution_start": 1635864750712,
    "scrolled": true,
    "source_hash": "4b396dfe",
    "tags": []
   },
   "outputs": [],
   "source": [
    "print(r\"RMSE with RF: {:.3f}\".format(np.sqrt(mse_rf)))\n",
    "print(r\"RMSE with XGBoost: {:.3f}\".format(np.sqrt(mse_xgb)))"
   ]
  },
  {
   "cell_type": "markdown",
   "metadata": {
    "cell_id": "00163-e76bd9fa-6075-4617-be63-b1349005acc5",
    "deepnote_cell_type": "markdown",
    "tags": []
   },
   "source": [
    "We can see that Random Forest and XGBoost gave similar results in terms of RMSE."
   ]
  },
  {
   "cell_type": "code",
   "execution_count": null,
   "metadata": {
    "cell_id": "00163-16d75bb8-a8fb-49b4-a10e-ecad2595a502",
    "deepnote_cell_type": "code",
    "deepnote_to_be_reexecuted": true,
    "execution_millis": 337,
    "execution_start": 1635864806622,
    "scrolled": true,
    "source_hash": "dcc33923",
    "tags": []
   },
   "outputs": [],
   "source": [
    "plt.barh(rf.feature_names,rf.feature_importances_, alpha=0.4, label='RF', color='red')\n",
    "plt.barh(xgb.feature_names,xgb.feature_importances_, alpha=0.4, label='XGBoost', color='blue')\n",
    "plt.legend(loc='upper right');\n",
    "plt.title('Feature Importance to predict Rating by ML models')\n",
    "plt.xlabel('Feature Importance (%)')\n",
    "plt.show()"
   ]
  },
  {
   "cell_type": "markdown",
   "metadata": {
    "cell_id": "00164-ab2bb9be-c180-46da-9a7e-c85a02123c0e",
    "deepnote_cell_type": "markdown",
    "tags": []
   },
   "source": [
    "We can see that Random Forest gave more importance to genres and size, while XGBoost spreaded more the feature importance among all the features."
   ]
  },
  {
   "cell_type": "code",
   "execution_count": null,
   "metadata": {
    "cell_id": "00185-68f90af9-ae0b-4c8d-bf63-21150412df38",
    "deepnote_cell_type": "code",
    "deepnote_to_be_reexecuted": true,
    "execution_millis": 11,
    "execution_start": 1635864455530,
    "scrolled": true,
    "source_hash": "413a1dd7",
    "tags": []
   },
   "outputs": [],
   "source": [
    "def random_forest(tree_size,x,y):\n",
    "    from sklearn.ensemble import RandomForestClassifier\n",
    "    from sklearn.metrics import confusion_matrix\n",
    "\n",
    "    # Create the Random Forest object\n",
    "    rforest = RandomForestClassifier(n_estimators = tree_size,  # n_estimators denote number of trees\n",
    "                                 max_depth = 4)       # set the maximum depth of each tree\n",
    "\n",
    "    # Fit Random Forest on Train Data\n",
    "    rforest.fit(x, y.rating())\n",
    "    \n",
    "    y_pred = rforest.predict(x)\n",
    "\n",
    "    # Print the Classification Accuracy\n",
    "    print(\"Train Data\")\n",
    "    print(\"Accuracy  :\\t\", rforest.score(x, y))\n",
    "    print()\n",
    "\n",
    "    # Print the Accuracy Measures from the Confusion Matrix\n",
    "    cmTrain = confusion_matrix(y, y_pred)\n",
    "    tpTrain = cmTrain[1][1] # True Positives : Good (1) predicted Good (1)\n",
    "    fpTrain = cmTrain[0][1] # False Positives : Bad (0) predicted Good (1)\n",
    "    tnTrain = cmTrain[0][0] # True Negatives : Bad (0) predicted Bad (0)\n",
    "    fnTrain = cmTrain[1][0] # False Negatives : Good (1) predicted Bad (0)\n",
    "\n",
    "    print(\"TPR Train :\\t\", (tpTrain/(tpTrain + fnTrain)))\n",
    "    print(\"TNR Train :\\t\", (tnTrain/(tnTrain + fpTrain)))\n",
    "    print()\n",
    "\n",
    "    print(\"FPR Train :\\t\", (fpTrain/(tnTrain + fpTrain)))\n",
    "    print(\"FNR Train :\\t\", (fnTrain/(tpTrain + fnTrain)))\n",
    "\n",
    "    # Plot the two-way Confusion Matrix\n",
    "    sb.heatmap(confusion_matrix(y, y_pred), \n",
    "           annot = True, fmt=\".0f\", annot_kws={\"size\": 18})\n"
   ]
  },
  {
   "cell_type": "code",
   "execution_count": null,
   "metadata": {
    "cell_id": "00201-be1e7db5-c9ff-4963-b57a-995a85018407",
    "deepnote_cell_type": "code",
    "deepnote_to_be_reexecuted": true,
    "execution_millis": 4035,
    "execution_start": 1635864459162,
    "scrolled": true,
    "source_hash": "3722b880",
    "tags": []
   },
   "outputs": [],
   "source": [
    "from sklearn.metrics import confusion_matrix\n",
    "# Plot the Confusion Matrix for Train and Test\n",
    "f, axes = plt.subplots(1, 2, figsize=(12, 4))\n",
    "sb.heatmap(confusion_matrix(y_train, y_train_pred),\n",
    "           annot = True, fmt=\".0f\", annot_kws={\"size\": 18}, ax = axes[0])\n",
    "sb.heatmap(confusion_matrix(y_test, y_test_pred), \n",
    "           annot = True, fmt=\".0f\", annot_kws={\"size\": 18}, ax = axes[1])"
   ]
  },
  {
   "cell_type": "code",
   "execution_count": null,
   "metadata": {
    "cell_id": "00202-4757e938-613e-4836-94c1-5b451f22afa4",
    "deepnote_cell_type": "code",
    "deepnote_to_be_reexecuted": true,
    "execution_millis": 669,
    "execution_start": 1635864577610,
    "scrolled": true,
    "source_hash": "3ddc5b2b",
    "tags": []
   },
   "outputs": [],
   "source": [
    "random_forest(100,X_train,y_train)"
   ]
  },
  {
   "cell_type": "markdown",
   "metadata": {
    "cell_id": "00130-55a6782e-5587-46ac-9bdc-85c0f3aa9ca5",
    "deepnote_cell_type": "markdown",
    "tags": []
   },
   "source": [
    "# Clustering"
   ]
  },
  {
   "cell_type": "code",
   "execution_count": null,
   "metadata": {
    "cell_id": "00129-2c3f48cc-6a13-4832-acb6-a70408fe1cb4",
    "deepnote_cell_type": "code",
    "deepnote_to_be_reexecuted": true,
    "execution_millis": 555,
    "execution_start": 1635862033835,
    "scrolled": true,
    "source_hash": "b22ab5d3",
    "tags": []
   },
   "outputs": [],
   "source": [
    "# Import KMeans from sklearn.cluster\n",
    "from sklearn.cluster import KMeans\n",
    "\n",
    "# Guess the Number of Clusters for Rating\n",
    "rating_clust = 3\n",
    "\n",
    "# Create Clustering Model using KMeans\n",
    "kmeans = KMeans(n_clusters = rating_clust)\n",
    "\n",
    "# Fit the Clustering Model on the Data\n",
    "kmeans.fit(x)"
   ]
  },
  {
   "cell_type": "code",
   "execution_count": null,
   "metadata": {
    "cell_id": "00130-f001675d-a1f2-4689-8651-cb47cb0c7560",
    "deepnote_cell_type": "code",
    "deepnote_to_be_reexecuted": true,
    "execution_millis": 14,
    "execution_start": 1635862034405,
    "scrolled": true,
    "source_hash": "c528f1eb",
    "tags": []
   },
   "outputs": [],
   "source": [
    "# Print the Cluster Centers\n",
    "print(\"rating\")\n",
    "print()\n",
    "\n",
    "for i, center in enumerate(kmeans.cluster_centers_):\n",
    "    print(\"Cluster\", i, end=\":\\t\")\n",
    "    for coord in center:\n",
    "        print(round(coord, 2), end=\"\\t\")\n",
    "    print()"
   ]
  },
  {
   "cell_type": "code",
   "execution_count": null,
   "metadata": {
    "cell_id": "00131-93647481-d007-422e-86e1-eeec41743f6a",
    "deepnote_cell_type": "code",
    "deepnote_to_be_reexecuted": true,
    "execution_millis": 1172,
    "execution_start": 1635862034431,
    "scrolled": true,
    "source_hash": "4a13f71a",
    "tags": []
   },
   "outputs": [],
   "source": [
    "# Predict the Cluster Labels\n",
    "rating = kmeans.predict(x)\n",
    "\n",
    "# Append Labels to the Data\n",
    "X_labeled = x.copy()\n",
    "X_labeled[\"Cluster\"] = pd.Categorical(rating)\n",
    "\n",
    "# Summary of the Cluster Labels\n",
    "sb.countplot(X_labeled[\"Cluster\"])"
   ]
  },
  {
   "cell_type": "markdown",
   "metadata": {
    "cell_id": "00135-2a8dc48e-e668-436e-85a0-43ec8b4011e7",
    "deepnote_cell_type": "markdown",
    "tags": []
   },
   "source": []
  },
  {
   "cell_type": "markdown",
   "metadata": {
    "cell_id": "00147-dcf6e9cb-3a05-4f42-8f0a-73eb62c34a2e",
    "deepnote_cell_type": "text-cell-h1",
    "is_collapsed": false,
    "tags": []
   },
   "source": [
    "# Anomaly&nbsp;Detection&nbsp;for&nbsp;Installs, Price, Category (Genre)"
   ]
  },
  {
   "cell_type": "markdown",
   "metadata": {
    "cell_id": "00147-4a8b7563-8758-43eb-9a56-18c61c5b0351",
    "deepnote_cell_type": "text-cell-h1",
    "is_collapsed": false,
    "tags": []
   },
   "source": [
    "# Bi-Variate Anomaly Detection for Price (Part 1)              Features to be used for Anomaly Detection : Ratings, Price"
   ]
  },
  {
   "cell_type": "code",
   "execution_count": null,
   "metadata": {
    "cell_id": "00138-f170ac1f-84d7-4ba0-a71a-e784909914fa",
    "deepnote_cell_type": "code",
    "deepnote_to_be_reexecuted": true,
    "execution_millis": 563,
    "execution_start": 1635862035613,
    "scrolled": true,
    "source_hash": "604110fc",
    "tags": []
   },
   "outputs": [],
   "source": [
    "# Extract the Features from the Data\n",
    "Pricedata = pd.DataFrame(trainappdata[[\"rating\", \"price\"]])\n",
    "Pricedata.drop(Pricedata.columns[np.isnan(Pricedata).any()], axis=1)\n",
    "\n",
    "f, axes = plt.subplots(1, 1, figsize=(16,10))\n",
    "plt.scatter(x = \"rating\", y = \"price\", data = Pricedata)\n"
   ]
  },
  {
   "cell_type": "code",
   "execution_count": null,
   "metadata": {
    "cell_id": "00143-656dfeb1-9539-4605-bfaf-85eb1d228c70",
    "deepnote_cell_type": "code",
    "deepnote_to_be_reexecuted": true,
    "execution_millis": 169,
    "execution_start": 1635862036059,
    "scrolled": true,
    "source_hash": "6793c9ba",
    "tags": []
   },
   "outputs": [],
   "source": [
    "Pricedata = Pricedata.dropna()\n",
    "print(Pricedata.info())"
   ]
  },
  {
   "cell_type": "code",
   "execution_count": null,
   "metadata": {
    "cell_id": "00139-1a3dc88b-76da-46a9-93c4-97b133347992",
    "deepnote_cell_type": "code",
    "deepnote_to_be_reexecuted": true,
    "execution_millis": 151,
    "execution_start": 1635862036081,
    "scrolled": true,
    "source_hash": "1d4311f9",
    "tags": []
   },
   "outputs": [],
   "source": [
    "# Import LocalOutlierFactor from sklearn.neighbors\n",
    "from sklearn.neighbors import LocalOutlierFactor\n",
    "\n",
    "# Set the Parameters for Neighborhood\n",
    "num_neighbors = 20      # Number of Neighbors\n",
    "cont_fraction = 0.02   # Fraction of Anomalies\n",
    "\n",
    "# Create Anomaly Detection Model using LocalOutlierFactor\n",
    "lof = LocalOutlierFactor(n_neighbors = num_neighbors, contamination = cont_fraction)\n",
    "\n",
    "# Fit the Model on the Data and Predict Anomalies\"\n",
    "lof.fit(Pricedata)"
   ]
  },
  {
   "cell_type": "code",
   "execution_count": null,
   "metadata": {
    "cell_id": "00150-54e6d829-43d9-4b6b-9df9-8e4900ecd0a3",
    "deepnote_cell_type": "code",
    "deepnote_to_be_reexecuted": true,
    "execution_millis": 337,
    "execution_start": 1635862036207,
    "scrolled": true,
    "source_hash": "91d51240",
    "tags": []
   },
   "outputs": [],
   "source": [
    "# Predict the Anomalies\n",
    "labels = lof.fit_predict(Pricedata)\n",
    "\n",
    "# Append Labels to the Data\n",
    "X_labeled = Pricedata.copy()\n",
    "X_labeled[\"Anomaly\"] = pd.Categorical(labels)\n",
    "\n",
    "# Summary of the Anomaly Labels\n",
    "sb.countplot(x=X_labeled[\"Anomaly\"])"
   ]
  },
  {
   "cell_type": "code",
   "execution_count": null,
   "metadata": {
    "cell_id": "00151-4f948908-6d69-48ae-beb6-9681bb5985d7",
    "deepnote_cell_type": "code",
    "deepnote_to_be_reexecuted": true,
    "execution_millis": 574,
    "execution_start": 1635862036634,
    "scrolled": true,
    "source_hash": "9e2f7a76",
    "tags": []
   },
   "outputs": [],
   "source": [
    "# Visualize the Anomalies in the Data\n",
    "f, axes = plt.subplots(1, 1, figsize=(16,8))\n",
    "plt.scatter(x = \"rating\", y = \"price\", c = \"Anomaly\", cmap = 'viridis', data = X_labeled)"
   ]
  },
  {
   "cell_type": "markdown",
   "metadata": {
    "cell_id": "00152-444ccbca-bea6-46b4-a136-0b9affe6daf8",
    "deepnote_cell_type": "markdown",
    "tags": []
   },
   "source": [
    "Purple- Anomaly data    \n",
    "Hence, we can see that the top part of the data are considered anomaly as the rating is not considered great for the expensive apps compared to free apps."
   ]
  },
  {
   "cell_type": "code",
   "execution_count": null,
   "metadata": {
    "cell_id": "00155-ba959609-c1e7-4598-8fb0-13b59e1e442a",
    "deepnote_cell_type": "code",
    "deepnote_to_be_reexecuted": true,
    "execution_millis": 737,
    "execution_start": 1635862037243,
    "scrolled": true,
    "source_hash": "2e4a1e1d",
    "tags": []
   },
   "outputs": [],
   "source": [
    "# Boxplots for all Features against the Anomalies\n",
    "f, axes = plt.subplots(2, 1, figsize=(16,24))\n",
    "sb.boxplot(x = 'rating', y = 'Anomaly', data = X_labeled, ax = axes[0])\n",
    "sb.boxplot(x = 'price', y = 'Anomaly', data = X_labeled, ax = axes[1])"
   ]
  },
  {
   "cell_type": "markdown",
   "metadata": {
    "cell_id": "00156-20c62c38-9d2b-4402-b3dd-c39e52058eea",
    "deepnote_cell_type": "markdown",
    "tags": []
   },
   "source": [
    "Rating Anomaly occurs around 3.5 ratings (median)  \n",
    "Price Anomaly outlier is seen at the higher price range \n",
    "\n",
    "Price Anomaly median is around 5 to 10 dollar price range which is common for paid apps.\n"
   ]
  },
  {
   "cell_type": "markdown",
   "metadata": {
    "cell_id": "00156-68587073-e031-476c-b31f-f1ed4dfe9bde",
    "deepnote_cell_type": "text-cell-h2",
    "is_collapsed": false,
    "tags": []
   },
   "source": [
    "## Bi-Variate Anomaly Detection for installs (Part 2)                                                                     Features to be used for Anomaly Detection : Ratings, installs "
   ]
  },
  {
   "cell_type": "code",
   "execution_count": null,
   "metadata": {
    "cell_id": "00156-dfebb0e8-7c1c-4c16-b2d6-e1f038e945a9",
    "deepnote_cell_type": "code",
    "deepnote_to_be_reexecuted": true,
    "execution_millis": 386,
    "execution_start": 1635862038022,
    "scrolled": true,
    "source_hash": "79b6dd17",
    "tags": []
   },
   "outputs": [],
   "source": [
    "# Extract the Features from the Data\n",
    "installdata = pd.DataFrame(trainappdata[[\"rating\", \"installs\"]])\n",
    "\n",
    "f, axes = plt.subplots(1, 1, figsize=(16,10))\n",
    "plt.scatter(x = \"rating\", y = \"installs\", data = installdata)\n"
   ]
  },
  {
   "cell_type": "code",
   "execution_count": null,
   "metadata": {
    "cell_id": "00157-f5589401-cbdd-4130-b0ff-5cd00f165462",
    "deepnote_cell_type": "code",
    "deepnote_to_be_reexecuted": true,
    "execution_millis": 20,
    "execution_start": 1635862038413,
    "scrolled": true,
    "source_hash": "cc097d62",
    "tags": []
   },
   "outputs": [],
   "source": [
    "installdata = installdata.dropna()\n",
    "print(installdata.info())"
   ]
  },
  {
   "cell_type": "code",
   "execution_count": null,
   "metadata": {
    "cell_id": "00157-7ae08145-fcd6-45d9-b0ba-93262b2f5a7e",
    "deepnote_cell_type": "code",
    "deepnote_to_be_reexecuted": true,
    "execution_millis": 81,
    "execution_start": 1635862038442,
    "scrolled": true,
    "source_hash": "305ca7c7",
    "tags": []
   },
   "outputs": [],
   "source": [
    "# Import LocalOutlierFactor from sklearn.neighbors\n",
    "from sklearn.neighbors import LocalOutlierFactor\n",
    "\n",
    "# Set the Parameters for Neighborhood\n",
    "num_neighbors = 20      # Number of Neighbors\n",
    "cont_fraction = 0.02   # Fraction of Anomalies\n",
    "\n",
    "# Create Anomaly Detection Model using LocalOutlierFactor\n",
    "lof = LocalOutlierFactor(n_neighbors = num_neighbors, contamination = cont_fraction)\n",
    "\n",
    "# Fit the Model on the Data and Predict Anomalies\"\n",
    "lof.fit(installdata)"
   ]
  },
  {
   "cell_type": "code",
   "execution_count": null,
   "metadata": {
    "cell_id": "00156-26ddc317-44b3-48ad-a104-d3d7e41afe65",
    "deepnote_cell_type": "code",
    "deepnote_to_be_reexecuted": true,
    "execution_millis": 315,
    "execution_start": 1635862038529,
    "scrolled": true,
    "source_hash": "60d4d057",
    "tags": []
   },
   "outputs": [],
   "source": [
    "# Predict the Anomalies\n",
    "labels = lof.fit_predict(installdata)\n",
    "\n",
    "# Append Labels to the Data\n",
    "Xinstall_labeled = installdata.copy()\n",
    "Xinstall_labeled[\"Anomaly\"] = pd.Categorical(labels)\n",
    "\n",
    "# Summary of the Anomaly Labels\n",
    "sb.countplot(x=Xinstall_labeled[\"Anomaly\"])"
   ]
  },
  {
   "cell_type": "code",
   "execution_count": null,
   "metadata": {
    "cell_id": "00161-87d33f4c-ed64-45f5-ae6b-f02044a6a12a",
    "deepnote_cell_type": "code",
    "deepnote_to_be_reexecuted": true,
    "execution_millis": 583,
    "execution_start": 1635862038872,
    "scrolled": true,
    "source_hash": "b7ef2d65",
    "tags": []
   },
   "outputs": [],
   "source": [
    "# Visualize the Anomalies in the Data\n",
    "f, axes = plt.subplots(1, 1, figsize=(16,8))\n",
    "plt.scatter(x = \"rating\", y = \"installs\", c = \"Anomaly\", cmap = 'viridis', data = Xinstall_labeled)"
   ]
  },
  {
   "cell_type": "markdown",
   "metadata": {
    "cell_id": "00162-3bfd8dd5-8a42-466d-83f4-b85852343c89",
    "deepnote_cell_type": "markdown",
    "tags": []
   },
   "source": [
    "we can see that the anomaly appear around low installs but with high ratings. There is a possiblity where low amount of people rate the app with high rating.(The developer can buy rating through online) Hence, we can see that installs might not be a good choice to study in determine the rating."
   ]
  },
  {
   "cell_type": "code",
   "execution_count": null,
   "metadata": {
    "cell_id": "00163-ad5bad79-683a-4f08-9bbd-7fca4153d7d4",
    "deepnote_cell_type": "code",
    "deepnote_to_be_reexecuted": true,
    "execution_millis": 728,
    "execution_start": 1635862039481,
    "scrolled": true,
    "source_hash": "6185db52",
    "tags": []
   },
   "outputs": [],
   "source": [
    "# Boxplots for all Features against the Anomalies\n",
    "f, axes = plt.subplots(2, 1, figsize=(16,24))\n",
    "sb.boxplot(x = 'rating', y = 'Anomaly', data = Xinstall_labeled, ax = axes[0])\n",
    "sb.boxplot(x = 'installs', y = 'Anomaly', data = Xinstall_labeled, ax = axes[1])"
   ]
  },
  {
   "cell_type": "markdown",
   "metadata": {
    "cell_id": "00168-6941d467-be4d-49a5-a4de-6ad0c9ce8e62",
    "deepnote_cell_type": "text-cell-h1",
    "is_collapsed": false,
    "tags": []
   },
   "source": [
    "# Bi-Variate Anomaly Detection for Genre (Part 3)                                                                     Features to be used for Anomaly Detection : Ratings, Genre"
   ]
  },
  {
   "cell_type": "code",
   "execution_count": null,
   "metadata": {
    "cell_id": "00162-ada3798e-2009-4f25-8af3-4626674aa6bd",
    "deepnote_cell_type": "code",
    "deepnote_to_be_reexecuted": true,
    "execution_millis": 5278,
    "execution_start": 1635862040227,
    "scrolled": true,
    "source_hash": "6de5dd5d",
    "tags": []
   },
   "outputs": [],
   "source": [
    "# Extract the Features from the Data\n",
    "genresdata = pd.DataFrame(trainappdata[['rating','genres']])\n",
    "\n",
    "f, axes = plt.subplots(1, 1, figsize=(16,30))\n",
    "plt.scatter(x = \"rating\", y = \"genres\", data = genresdata)\n"
   ]
  },
  {
   "cell_type": "code",
   "execution_count": null,
   "metadata": {
    "cell_id": "00170-b22740c6-50cf-4e21-9897-efcde80fba6f",
    "deepnote_cell_type": "code",
    "deepnote_to_be_reexecuted": true,
    "execution_millis": 36,
    "execution_start": 1635862045495,
    "scrolled": true,
    "source_hash": "c5bf2bfb",
    "tags": []
   },
   "outputs": [],
   "source": [
    "genresdata = genresdata.dropna()\n",
    "print(genresdata.info())\n",
    "genresdata['genres']=en.fit_transform(genresdata['genres'])\n",
    "print(genresdata.head())\n"
   ]
  },
  {
   "cell_type": "code",
   "execution_count": null,
   "metadata": {
    "cell_id": "00170-2a50d390-5085-4acd-9bad-9a15ed535f87",
    "deepnote_cell_type": "code",
    "deepnote_to_be_reexecuted": true,
    "execution_millis": 93,
    "execution_start": 1635862045531,
    "scrolled": true,
    "source_hash": "1053aec0",
    "tags": []
   },
   "outputs": [],
   "source": [
    "# Import LocalOutlierFactor from sklearn.neighbors\n",
    "from sklearn.neighbors import LocalOutlierFactor\n",
    "\n",
    "# Set the Parameters for Neighborhood\n",
    "num_neighbors = 20      # Number of Neighbors\n",
    "cont_fraction = 0.02   # Fraction of Anomalies\n",
    "\n",
    "# Create Anomaly Detection Model using LocalOutlierFactor\n",
    "lof = LocalOutlierFactor(n_neighbors = num_neighbors, contamination = cont_fraction)\n",
    "\n",
    "# Fit the Model on the Data and Predict Anomalies\"\n",
    "lof.fit(genresdata)"
   ]
  },
  {
   "cell_type": "code",
   "execution_count": null,
   "metadata": {
    "cell_id": "00170-d667d4db-b39f-43bf-8ba9-57e13c48bc47",
    "deepnote_cell_type": "code",
    "deepnote_to_be_reexecuted": true,
    "execution_millis": 315,
    "execution_start": 1635862045634,
    "scrolled": true,
    "source_hash": "2e7d82e3",
    "tags": []
   },
   "outputs": [],
   "source": [
    "# Predict the Anomalies\n",
    "labels = lof.fit_predict(genresdata)\n",
    "\n",
    "# Append Labels to the Data\n",
    "Xgenres_labeled = genresdata.copy()\n",
    "Xgenres_labeled[\"Anomaly\"] = pd.Categorical(labels)\n",
    "\n",
    "# Summary of the Anomaly Labels\n",
    "sb.countplot(x=Xgenres_labeled[\"Anomaly\"])\n"
   ]
  },
  {
   "cell_type": "code",
   "execution_count": null,
   "metadata": {
    "cell_id": "00173-505016dd-d6f3-40d0-a360-54c50e7f2abd",
    "deepnote_cell_type": "code",
    "deepnote_to_be_reexecuted": true,
    "execution_millis": 768,
    "execution_start": 1635862045994,
    "scrolled": true,
    "source_hash": "38a8b73c",
    "tags": []
   },
   "outputs": [],
   "source": [
    "# Visualize the Anomalies in the Data\n",
    "f, axes = plt.subplots(1, 1, figsize=(16,30))\n",
    "plt.scatter(x = \"rating\", y = \"genres\", c = \"Anomaly\", cmap = 'viridis', data = Xgenres_labeled)"
   ]
  },
  {
   "cell_type": "code",
   "execution_count": null,
   "metadata": {
    "cell_id": "00174-589d4b7c-8485-4321-809d-db22e4737c58",
    "deepnote_cell_type": "code",
    "deepnote_to_be_reexecuted": true,
    "execution_millis": 642,
    "execution_start": 1635862046837,
    "scrolled": true,
    "source_hash": "2ff7978d",
    "tags": []
   },
   "outputs": [],
   "source": [
    "# Boxplots for all Features against the Anomalies\n",
    "f, axes = plt.subplots(2, 1, figsize=(16,24))\n",
    "sb.boxplot(x = 'rating', y = 'Anomaly', data = Xgenres_labeled, ax = axes[0])\n",
    "sb.boxplot(x = 'genres', y = 'Anomaly', data = Xgenres_labeled, ax = axes[1])"
   ]
  },
  {
   "cell_type": "markdown",
   "metadata": {
    "cell_id": "00175-90eaaf91-96e3-4821-a119-0e46276d94de",
    "deepnote_cell_type": "markdown",
    "tags": []
   },
   "source": [
    "We getting anomaly around action & adventure genres in games (number 60-70)."
   ]
  },
  {
   "cell_type": "markdown",
   "metadata": {
    "cell_id": "00176-014e4850-0e6a-4f94-9f17-1c816acb3023",
    "deepnote_cell_type": "text-cell-h1",
    "is_collapsed": false,
    "tags": []
   },
   "source": [
    "# Bi-Variate Anomaly Detection for Genre (Part 4)                                                                     Features to be used for Anomaly Detection : Ratings, Content Rating"
   ]
  },
  {
   "cell_type": "code",
   "execution_count": null,
   "metadata": {
    "cell_id": "00177-8aa51f01-f866-4532-8a69-e69dcd7ffa47",
    "deepnote_cell_type": "code",
    "deepnote_to_be_reexecuted": true,
    "execution_millis": 544,
    "execution_start": 1635862047845,
    "scrolled": true,
    "source_hash": "bc534840",
    "tags": []
   },
   "outputs": [],
   "source": [
    "# Extract the Features from the Data\n",
    "contentratingdata = pd.DataFrame(trainappdata[['rating','content rating']])\n",
    "\n",
    "f, axes = plt.subplots(1, 1, figsize=(16,30))\n",
    "plt.scatter(x = \"rating\", y = \"content rating\", data = contentratingdata)\n"
   ]
  },
  {
   "cell_type": "code",
   "execution_count": null,
   "metadata": {
    "cell_id": "00178-7cc2933d-be40-4b1d-8226-1af1025dc2d5",
    "deepnote_cell_type": "code",
    "deepnote_to_be_reexecuted": true,
    "execution_millis": 2,
    "execution_start": 1635862048432,
    "scrolled": true,
    "source_hash": "6aa2635",
    "tags": []
   },
   "outputs": [],
   "source": [
    "contentratingdata = contentratingdata.dropna()\n",
    "print(contentratingdata.info())\n",
    "contentratingdata['content rating']=en.fit_transform(contentratingdata['content rating'])\n",
    "print(contentratingdata.head())"
   ]
  },
  {
   "cell_type": "code",
   "execution_count": null,
   "metadata": {
    "cell_id": "00179-0ec23a3a-7110-445d-8376-1ed11fe80b6e",
    "deepnote_cell_type": "code",
    "deepnote_to_be_reexecuted": true,
    "execution_millis": 98,
    "execution_start": 1635862048444,
    "scrolled": true,
    "source_hash": "abd6e2f0",
    "tags": []
   },
   "outputs": [],
   "source": [
    "# Import LocalOutlierFactor from sklearn.neighbors\n",
    "from sklearn.neighbors import LocalOutlierFactor\n",
    "\n",
    "# Set the Parameters for Neighborhood\n",
    "num_neighbors = 20      # Number of Neighbors\n",
    "cont_fraction = 0.02   # Fraction of Anomalies\n",
    "\n",
    "# Create Anomaly Detection Model using LocalOutlierFactor\n",
    "lof = LocalOutlierFactor(n_neighbors = num_neighbors, contamination = cont_fraction)\n",
    "\n",
    "# Fit the Model on the Data and Predict Anomalies\"\n",
    "lof.fit(contentratingdata)"
   ]
  },
  {
   "cell_type": "code",
   "execution_count": null,
   "metadata": {
    "cell_id": "00180-7e752bc7-efc0-42ca-9f4a-e960154b949f",
    "deepnote_cell_type": "code",
    "deepnote_to_be_reexecuted": true,
    "execution_millis": 332,
    "execution_start": 1635862048548,
    "scrolled": true,
    "source_hash": "98448d24",
    "tags": []
   },
   "outputs": [],
   "source": [
    "# Predict the Anomalies\n",
    "labels = lof.fit_predict(contentratingdata)\n",
    "\n",
    "# Append Labels to the Data\n",
    "Xcontentrating_labeled = contentratingdata.copy()\n",
    "Xcontentrating_labeled[\"Anomaly\"] = pd.Categorical(labels)\n",
    "\n",
    "# Summary of the Anomaly Labels\n",
    "sb.countplot(x=Xcontentrating_labeled[\"Anomaly\"])\n"
   ]
  },
  {
   "cell_type": "code",
   "execution_count": null,
   "metadata": {
    "cell_id": "00181-5fd37e86-d93c-455a-afd0-d07889ba9e84",
    "deepnote_cell_type": "code",
    "deepnote_to_be_reexecuted": true,
    "execution_millis": 706,
    "execution_start": 1635862048922,
    "scrolled": true,
    "source_hash": "aa61589a",
    "tags": []
   },
   "outputs": [],
   "source": [
    "# Visualize the Anomalies in the Data\n",
    "f, axes = plt.subplots(1, 1, figsize=(16,30))\n",
    "plt.scatter(x = \"rating\", y = \"content rating\", c = \"Anomaly\", cmap = 'viridis', data = Xcontentrating_labeled)"
   ]
  },
  {
   "cell_type": "code",
   "execution_count": null,
   "metadata": {
    "cell_id": "00182-a3178e97-ad12-4108-a5e7-57829b1d6f2d",
    "deepnote_cell_type": "code",
    "deepnote_to_be_reexecuted": true,
    "execution_millis": 670,
    "execution_start": 1635862049706,
    "scrolled": true,
    "source_hash": "856535b7",
    "tags": []
   },
   "outputs": [],
   "source": [
    "# Boxplots for all Features against the Anomalies\n",
    "f, axes = plt.subplots(2, 1, figsize=(16,24))\n",
    "sb.boxplot(x = 'rating', y = 'Anomaly', data = Xcontentrating_labeled, ax = axes[0])\n",
    "sb.boxplot(x = 'content rating', y = 'Anomaly', data = Xcontentrating_labeled, ax = axes[1])"
   ]
  },
  {
   "cell_type": "markdown",
   "metadata": {
    "cell_id": "00183-d4ff38f2-d2d5-49c5-ae7c-6a16b19447f9",
    "deepnote_cell_type": "markdown",
    "tags": []
   },
   "source": [
    "It seems like anomaly appear at \"Everyone 10+ and mature 17+\""
   ]
  },
  {
   "cell_type": "code",
   "execution_count": null,
   "metadata": {
    "cell_id": "00141-bd623fca-7543-486c-9c7a-1d9613cbe7b5",
    "deepnote_cell_type": "code",
    "deepnote_to_be_reexecuted": true,
    "execution_millis": 54,
    "execution_start": 1635862050399,
    "scrolled": true,
    "source_hash": "6dcad7af",
    "tags": []
   },
   "outputs": [],
   "source": [
    "trainappdata.head()"
   ]
  },
  {
   "cell_type": "markdown",
   "metadata": {
    "cell_id": "00240-f9650d66-f4d9-413a-a01b-ee08abe8ea5c",
    "deepnote_cell_type": "markdown",
    "tags": []
   },
   "source": [
    "## PREDICTION FOR 3 APPS SELECTED"
   ]
  },
  {
   "cell_type": "code",
   "execution_count": null,
   "metadata": {
    "cell_id": "00242-c25d8ef4-0241-488d-b9ea-1e2ec4be60e8",
    "deepnote_cell_type": "code",
    "deepnote_to_be_reexecuted": true,
    "execution_millis": 160,
    "execution_start": 1635862082810,
    "scrolled": true,
    "source_hash": "b623e53d",
    "tags": []
   },
   "outputs": [],
   "source": []
  },
  {
   "cell_type": "code",
   "execution_count": null,
   "metadata": {
    "cell_id": "00239-ccd21732-c7f1-4b58-b20f-857a9cc83cde",
    "deepnote_cell_type": "code",
    "deepnote_to_be_reexecuted": true,
    "execution_millis": 6,
    "execution_start": 1635864267412,
    "scrolled": true,
    "source_hash": "b8a69703",
    "tags": []
   },
   "outputs": [],
   "source": [
    "# Extract Apps for Prediction\n",
    "apps_pred = correlation_matrix[correlation_matrix[\"app\"].isin([\"Philips Hue\", \"Temple Run 2\", \"Candy Crush Saga\"])]\n",
    "apps_pred['rating'] = apps_pred['rating'].astype(float)\n",
    "apps_pred['rating'] = apps_pred['rating'].div(10)\n",
    "apps_pred"
   ]
  },
  {
   "cell_type": "code",
   "execution_count": null,
   "metadata": {
    "cell_id": "00240-0eae126e-42c1-4f58-867e-24227b32a31b",
    "deepnote_cell_type": "code",
    "deepnote_to_be_reexecuted": true,
    "execution_millis": 14,
    "execution_start": 1635864271206,
    "scrolled": true,
    "source_hash": "88c8d40c",
    "tags": []
   },
   "outputs": [],
   "source": [
    "# Extract Response and Predictors\n",
    "predictors = [\"size\",\"rating\", \"price\", \"content rating\", \"category\"]"
   ]
  },
  {
   "cell_type": "code",
   "execution_count": null,
   "metadata": {
    "cell_id": "00240-9e54c63b-f8d3-4eaf-b99f-89dc4ab79ca4",
    "deepnote_cell_type": "code",
    "deepnote_to_be_reexecuted": true,
    "execution_millis": 22,
    "execution_start": 1635864273060,
    "scrolled": true,
    "source_hash": "d94adf6d",
    "tags": []
   },
   "outputs": [],
   "source": [
    "# Extract Predictors for Prediction\n",
    "X_pred = pd.DataFrame(apps_pred[predictors])\n",
    "\n",
    "# Predict Response corresponding to Predictors\n",
    "y_pred = rf.predict(X_pred)\n",
    "y_pred"
   ]
  },
  {
   "cell_type": "code",
   "execution_count": null,
   "metadata": {
    "cell_id": "00241-f051f9b8-c5ca-4d57-99bf-5c5e94344349",
    "deepnote_cell_type": "code",
    "deepnote_to_be_reexecuted": true,
    "execution_millis": 122,
    "execution_start": 1635864297129,
    "scrolled": true,
    "source_hash": "71d05a6b",
    "tags": []
   },
   "outputs": [],
   "source": [
    "# Summarize the Actuals and Predictions\n",
    "y_pred = pd.DataFrame(y_pred, columns = [\"PredInstalls\"], index = apps_pred.index)\n",
    "apps_acc = pd.concat([apps_pred, y_pred], axis = 1)\n",
    "apps_acc"
   ]
  },
  {
   "cell_type": "code",
   "execution_count": null,
   "metadata": {
    "cell_id": "00246-962a73b0-3e57-453d-866a-3510280d9fc7",
    "deepnote_cell_type": "code",
    "deepnote_to_be_reexecuted": true,
    "scrolled": true,
    "source_hash": "b623e53d",
    "tags": []
   },
   "outputs": [],
   "source": []
  },
  {
   "cell_type": "code",
   "execution_count": null,
   "metadata": {
    "cell_id": "00247-f7dd47ec-3e2c-4283-9280-4a522a0d6b3a",
    "deepnote_cell_type": "code",
    "deepnote_to_be_reexecuted": true,
    "scrolled": true,
    "source_hash": "b623e53d",
    "tags": []
   },
   "outputs": [],
   "source": []
  },
  {
   "cell_type": "markdown",
   "metadata": {
    "created_in_deepnote_cell": true,
    "deepnote_cell_type": "markdown",
    "tags": []
   },
   "source": [
    "<a style='text-decoration:none;line-height:16px;display:flex;color:#5B5B62;padding:10px;justify-content:end;' href='https://deepnote.com?utm_source=created-in-deepnote-cell&projectId=730ff1e2-d671-4c83-a22a-ac8ba78daad2' target=\"_blank\">\n",
    "<img alt='Created in deepnote.com' style='display:inline;max-height:16px;margin:0px;margin-right:7.5px;' src='data:image/svg+xml;base64,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' > </img>\n",
    "Created in <span style='font-weight:600;margin-left:4px;'>Deepnote</span></a>"
   ]
  },
  {
   "cell_type": "code",
   "execution_count": null,
   "metadata": {
    "scrolled": true
   },
   "outputs": [],
   "source": []
  }
 ],
 "metadata": {
  "deepnote": {},
  "deepnote_execution_queue": [
   {
    "cellId": "00124-77ca59e5-726c-4983-9fc1-998a4683ea85",
    "msgId": "ab61b3cd-1e87-4acc-82f1-72e532323bcb",
    "sessionId": "1e7bd890-6246-4f0a-b04a-c748d161d0fe"
   },
   {
    "cellId": "00141-9b701183-a9bd-4c76-b515-9d88980b0fa8",
    "msgId": "e5d12bc7-1cb0-43fd-9eb6-9463537f6b0e",
    "sessionId": "1e7bd890-6246-4f0a-b04a-c748d161d0fe"
   },
   {
    "cellId": "00141-659563c8-d4ae-4b8a-b58e-c15cc78d89f2",
    "msgId": "41d3b500-9bc3-4191-9d25-6b09c957867c",
    "sessionId": "1e7bd890-6246-4f0a-b04a-c748d161d0fe"
   },
   {
    "cellId": "00142-809e0067-1e60-4a79-859c-e51ef22b4059",
    "msgId": "a347d2c1-f28e-4de0-98e3-d4add21ab615",
    "sessionId": "1e7bd890-6246-4f0a-b04a-c748d161d0fe"
   },
   {
    "cellId": "00143-2aadf927-b48f-415e-b205-5ffad0973b75",
    "msgId": "945ff6ab-1571-412b-b034-1633a81158e7",
    "sessionId": "1e7bd890-6246-4f0a-b04a-c748d161d0fe"
   },
   {
    "cellId": "00124-6b285902-78ef-4a69-902b-ded69e59aa0d",
    "msgId": "ad5b9702-254f-40b1-a991-9aa7bbaf67a9",
    "sessionId": "1e7bd890-6246-4f0a-b04a-c748d161d0fe"
   },
   {
    "cellId": "00124-7d1f32fb-d67b-4e91-ae79-e7914034335c",
    "msgId": "54329a73-f5c6-4d09-9566-be4b5de7992c",
    "sessionId": "1e7bd890-6246-4f0a-b04a-c748d161d0fe"
   },
   {
    "cellId": "00124-5d757ff7-1da8-48c3-b3c5-db00d2af21ed",
    "msgId": "aa07577e-6e46-4ff4-a584-2cc16c8fc40f",
    "sessionId": "1e7bd890-6246-4f0a-b04a-c748d161d0fe"
   },
   {
    "cellId": "00148-b0fa6c4d-104f-4908-8065-d53679f43619",
    "msgId": "3dd2298d-1773-4c59-a3a0-7d73a4a78caa",
    "sessionId": "1e7bd890-6246-4f0a-b04a-c748d161d0fe"
   },
   {
    "cellId": "00149-3aa0bca3-7dc0-4edb-b3d7-406babbcfdd6",
    "msgId": "1311a891-dab5-4cdb-82b5-de56ab940b34",
    "sessionId": "1e7bd890-6246-4f0a-b04a-c748d161d0fe"
   },
   {
    "cellId": "00151-1fd3800f-5cd8-443b-8772-4e1af4896616",
    "msgId": "1117a2f4-aebb-471b-a10c-b071d510863e",
    "sessionId": "1e7bd890-6246-4f0a-b04a-c748d161d0fe"
   },
   {
    "cellId": "00153-0b5f346a-c6fb-4fcf-9a36-a222f6478692",
    "msgId": "54722265-9b4c-4eb9-ac47-d4a392692440",
    "sessionId": "1e7bd890-6246-4f0a-b04a-c748d161d0fe"
   },
   {
    "cellId": "00154-4bea7971-ddc8-46e0-b959-2b2fb3469213",
    "msgId": "a1b3f5d7-a428-4029-b878-5c2072f2f31b",
    "sessionId": "1e7bd890-6246-4f0a-b04a-c748d161d0fe"
   },
   {
    "cellId": "00152-b67b887c-8d98-4c19-97db-9e44fd25f4ef",
    "msgId": "8d9999cd-c4f0-4f95-b7e6-0c8789030572",
    "sessionId": "1e7bd890-6246-4f0a-b04a-c748d161d0fe"
   },
   {
    "cellId": "00150-c0d5cb0e-f604-4701-9c1b-9f8cde9b7ae2",
    "msgId": "666e1f15-720e-43cc-b382-aa68bef42d98",
    "sessionId": "1e7bd890-6246-4f0a-b04a-c748d161d0fe"
   },
   {
    "cellId": "00151-f3e53cd9-8881-419d-b749-2deb8fb93bca",
    "msgId": "f71d37db-39c3-4987-ac31-2cf2bbabf0c1",
    "sessionId": "1e7bd890-6246-4f0a-b04a-c748d161d0fe"
   },
   {
    "cellId": "00150-49fc7086-2f4d-45aa-8826-4a84b0169394",
    "msgId": "59d7f3c2-3be2-4c1f-9c0d-639df8db245a",
    "sessionId": "1e7bd890-6246-4f0a-b04a-c748d161d0fe"
   },
   {
    "cellId": "00157-263609d7-1349-42ab-9f85-5c6aab1d23b5",
    "msgId": "21f34095-1736-4ae3-90eb-7ba07c1c28c3",
    "sessionId": "1e7bd890-6246-4f0a-b04a-c748d161d0fe"
   },
   {
    "cellId": "00159-14ac4888-37de-417c-9b9a-d212206b8586",
    "msgId": "078ee1e2-aab3-44f5-abc0-9ddddec26b16",
    "sessionId": "1e7bd890-6246-4f0a-b04a-c748d161d0fe"
   },
   {
    "cellId": "00165-4a62e93f-9503-4b51-8fa5-47a8b802d61b",
    "msgId": "bbc1b0cb-1691-4e5a-9e9e-e568ca5709f1",
    "sessionId": "1e7bd890-6246-4f0a-b04a-c748d161d0fe"
   },
   {
    "cellId": "00165-8e3e61f4-2b2d-4c97-b7ce-7f80ab15048d",
    "msgId": "b9bc3bb2-e31f-4f56-b25b-f90d43894f65",
    "sessionId": "1e7bd890-6246-4f0a-b04a-c748d161d0fe"
   },
   {
    "cellId": "00157-547c390a-2a59-4031-9e04-d5ff9ce1a739",
    "msgId": "954c520b-0587-417f-8b2b-bc08e0ff50f0",
    "sessionId": "1e7bd890-6246-4f0a-b04a-c748d161d0fe"
   },
   {
    "cellId": "00158-69bfabaa-4814-4fc9-a643-2a3bf5219aeb",
    "msgId": "eea44786-a812-4ac9-a014-40b59dc6ac1b",
    "sessionId": "1e7bd890-6246-4f0a-b04a-c748d161d0fe"
   },
   {
    "cellId": "00159-54352245-fcd0-4887-89db-26bebf897ba6",
    "msgId": "b677c13b-ccd2-4beb-a547-1ce3d0d92dd8",
    "sessionId": "1e7bd890-6246-4f0a-b04a-c748d161d0fe"
   },
   {
    "cellId": "00158-e3a20a1d-396c-4ae7-a71f-53537a1ff4c2",
    "msgId": "329bf235-f5b5-4dc7-8278-e5105e38e66f",
    "sessionId": "1e7bd890-6246-4f0a-b04a-c748d161d0fe"
   },
   {
    "cellId": "00158-5ec109e7-370e-44df-8da3-020a90778014",
    "msgId": "60d42020-e158-41af-89ce-4441fe424e1b",
    "sessionId": "1e7bd890-6246-4f0a-b04a-c748d161d0fe"
   },
   {
    "cellId": "00158-b045a738-0c20-4274-bde5-268133d1f0eb",
    "msgId": "1457d465-cb0d-465a-8012-d946f775f454",
    "sessionId": "1e7bd890-6246-4f0a-b04a-c748d161d0fe"
   },
   {
    "cellId": "00159-ef154ef8-76aa-4344-ae2c-50df33807a61",
    "msgId": "fbca667d-69d0-49d5-a92d-4eebe9788cdf",
    "sessionId": "1e7bd890-6246-4f0a-b04a-c748d161d0fe"
   },
   {
    "cellId": "00159-0bbd8b01-ed27-46d8-bfcb-068e4e655c44",
    "msgId": "b9fb5eef-68a7-436e-acb8-e57d9c41ef64",
    "sessionId": "1e7bd890-6246-4f0a-b04a-c748d161d0fe"
   },
   {
    "cellId": "00163-3a839dd7-cf9f-4dc8-ab95-a48a2a51d1a6",
    "msgId": "86f84a15-e376-480d-b869-ceec353f8ae9",
    "sessionId": "1e7bd890-6246-4f0a-b04a-c748d161d0fe"
   },
   {
    "cellId": "00137-239537f4-573b-420c-b811-de9ccdec05ac",
    "msgId": "7b6c30ed-3886-4e1a-a689-d8e386397af8",
    "sessionId": "1e7bd890-6246-4f0a-b04a-c748d161d0fe"
   },
   {
    "cellId": "00134-61beb885-c329-4d23-83cf-7e8798ed32eb",
    "msgId": "fd5f64f7-0d90-42d4-b560-250fd6ce8f98",
    "sessionId": "1e7bd890-6246-4f0a-b04a-c748d161d0fe"
   },
   {
    "cellId": "00183-b0043c48-72dc-4762-8a27-0dfb9da13a53",
    "msgId": "162c9bf7-ef9d-485b-97f4-f9e4a08e4a54",
    "sessionId": "1e7bd890-6246-4f0a-b04a-c748d161d0fe"
   },
   {
    "cellId": "00184-c6676bd4-c206-4ad6-a3dc-81876c1ee4bf",
    "msgId": "f26becce-282e-4b11-bbd1-d9a24455be8e",
    "sessionId": "1e7bd890-6246-4f0a-b04a-c748d161d0fe"
   },
   {
    "cellId": "00185-5540b2ed-af60-4ec6-9e50-694397f7605b",
    "msgId": "b5ba140b-187b-478f-b0af-b27bbfec68a3",
    "sessionId": "1e7bd890-6246-4f0a-b04a-c748d161d0fe"
   },
   {
    "cellId": "00136-c0664eb4-9612-4d6f-b5a1-26b5353a1bf4",
    "msgId": "953d944f-a6d5-4313-bfe6-fd2e8d459b09",
    "sessionId": "1e7bd890-6246-4f0a-b04a-c748d161d0fe"
   },
   {
    "cellId": "00136-8c575be0-4b7f-4897-a7e0-19328ce0cddb",
    "msgId": "d4612acf-fd06-4299-b5c7-9676cf1e5be3",
    "sessionId": "1e7bd890-6246-4f0a-b04a-c748d161d0fe"
   },
   {
    "cellId": "00135-af9ede55-9ed8-4d14-aa28-717d16169e89",
    "msgId": "1335ce3b-ab31-458e-8767-60cb21fc3741",
    "sessionId": "1e7bd890-6246-4f0a-b04a-c748d161d0fe"
   },
   {
    "cellId": "00136-80b2e38b-2af6-4efc-b06a-084b79a92243",
    "msgId": "a9642739-88e0-4142-9d61-5dcf91fa2d53",
    "sessionId": "1e7bd890-6246-4f0a-b04a-c748d161d0fe"
   },
   {
    "cellId": "00136-016ba942-43c9-460d-891e-675a22f57353",
    "msgId": "259c40b6-3a37-4c52-b95b-0a618d5a6956",
    "sessionId": "1e7bd890-6246-4f0a-b04a-c748d161d0fe"
   },
   {
    "cellId": "00190-1d4377c1-6514-4621-8089-aadb288c7103",
    "msgId": "54de89c0-6c91-4acc-b45e-192401975e66",
    "sessionId": "1e7bd890-6246-4f0a-b04a-c748d161d0fe"
   },
   {
    "cellId": "00159-9203b47f-b30c-4d01-b9d8-80e7dbce0f96",
    "msgId": "3a5b5f22-307e-42fc-abda-5c694cf5e441",
    "sessionId": "1e7bd890-6246-4f0a-b04a-c748d161d0fe"
   },
   {
    "cellId": "00161-6a8290be-891e-45ce-a361-1135131a2b35",
    "msgId": "57c1602d-4ade-4d22-9661-94e28e64a17f",
    "sessionId": "1e7bd890-6246-4f0a-b04a-c748d161d0fe"
   },
   {
    "cellId": "00162-016cf1bd-3930-4381-9475-12717d90ba54",
    "msgId": "9cbea5a2-1143-4908-9366-fb7de7bb0a55",
    "sessionId": "1e7bd890-6246-4f0a-b04a-c748d161d0fe"
   },
   {
    "cellId": "00163-16d75bb8-a8fb-49b4-a10e-ecad2595a502",
    "msgId": "6bb49d64-bf0d-4581-ad40-5760455f24c4",
    "sessionId": "1e7bd890-6246-4f0a-b04a-c748d161d0fe"
   },
   {
    "cellId": "00185-68f90af9-ae0b-4c8d-bf63-21150412df38",
    "msgId": "fd92c92c-de79-4c04-a145-f828dd55ccbc",
    "sessionId": "1e7bd890-6246-4f0a-b04a-c748d161d0fe"
   },
   {
    "cellId": "00201-be1e7db5-c9ff-4963-b57a-995a85018407",
    "msgId": "573d73ff-a41a-4219-a630-0add0b5ced8b",
    "sessionId": "1e7bd890-6246-4f0a-b04a-c748d161d0fe"
   },
   {
    "cellId": "00202-4757e938-613e-4836-94c1-5b451f22afa4",
    "msgId": "5c3df53d-c222-4f5a-a8a6-f454bf077e27",
    "sessionId": "1e7bd890-6246-4f0a-b04a-c748d161d0fe"
   },
   {
    "cellId": "00129-2c3f48cc-6a13-4832-acb6-a70408fe1cb4",
    "msgId": "408d22c0-9d2f-4fb1-8e7d-e44eec09bfae",
    "sessionId": "1e7bd890-6246-4f0a-b04a-c748d161d0fe"
   },
   {
    "cellId": "00130-f001675d-a1f2-4689-8651-cb47cb0c7560",
    "msgId": "669dded7-9491-47e9-8157-81555c2b79b5",
    "sessionId": "1e7bd890-6246-4f0a-b04a-c748d161d0fe"
   },
   {
    "cellId": "00131-93647481-d007-422e-86e1-eeec41743f6a",
    "msgId": "c89de985-9b3e-4892-aeb6-31843d1359aa",
    "sessionId": "1e7bd890-6246-4f0a-b04a-c748d161d0fe"
   },
   {
    "cellId": "00138-f170ac1f-84d7-4ba0-a71a-e784909914fa",
    "msgId": "6be9fbf2-a48a-4d15-802f-f9746440ad03",
    "sessionId": "1e7bd890-6246-4f0a-b04a-c748d161d0fe"
   },
   {
    "cellId": "00143-656dfeb1-9539-4605-bfaf-85eb1d228c70",
    "msgId": "2bc0df83-ffbb-4383-b2d2-1808223d5175",
    "sessionId": "1e7bd890-6246-4f0a-b04a-c748d161d0fe"
   },
   {
    "cellId": "00139-1a3dc88b-76da-46a9-93c4-97b133347992",
    "msgId": "d42d16d9-3487-4087-aa8a-310b67d3e932",
    "sessionId": "1e7bd890-6246-4f0a-b04a-c748d161d0fe"
   },
   {
    "cellId": "00150-54e6d829-43d9-4b6b-9df9-8e4900ecd0a3",
    "msgId": "ea9f6e99-ddee-47de-9bca-aca06c79de6c",
    "sessionId": "1e7bd890-6246-4f0a-b04a-c748d161d0fe"
   },
   {
    "cellId": "00151-4f948908-6d69-48ae-beb6-9681bb5985d7",
    "msgId": "a3120de1-62eb-4201-a56c-de106be1e554",
    "sessionId": "1e7bd890-6246-4f0a-b04a-c748d161d0fe"
   },
   {
    "cellId": "00155-ba959609-c1e7-4598-8fb0-13b59e1e442a",
    "msgId": "fa42d876-aab3-4fd4-b224-65fa8e0fb2ca",
    "sessionId": "1e7bd890-6246-4f0a-b04a-c748d161d0fe"
   },
   {
    "cellId": "00156-dfebb0e8-7c1c-4c16-b2d6-e1f038e945a9",
    "msgId": "3c4a37a6-ea55-43e1-b9a7-50e89c43525d",
    "sessionId": "1e7bd890-6246-4f0a-b04a-c748d161d0fe"
   },
   {
    "cellId": "00157-f5589401-cbdd-4130-b0ff-5cd00f165462",
    "msgId": "76737d46-d326-4276-8898-bbb9d70293f9",
    "sessionId": "1e7bd890-6246-4f0a-b04a-c748d161d0fe"
   },
   {
    "cellId": "00157-7ae08145-fcd6-45d9-b0ba-93262b2f5a7e",
    "msgId": "250e727d-3efa-419f-9fec-6e29d981dc9b",
    "sessionId": "1e7bd890-6246-4f0a-b04a-c748d161d0fe"
   },
   {
    "cellId": "00156-26ddc317-44b3-48ad-a104-d3d7e41afe65",
    "msgId": "46248d23-3859-483b-9684-b8c71d346a47",
    "sessionId": "1e7bd890-6246-4f0a-b04a-c748d161d0fe"
   },
   {
    "cellId": "00161-87d33f4c-ed64-45f5-ae6b-f02044a6a12a",
    "msgId": "016f68e6-9cf2-4855-aaa6-f73e85742942",
    "sessionId": "1e7bd890-6246-4f0a-b04a-c748d161d0fe"
   },
   {
    "cellId": "00163-ad5bad79-683a-4f08-9bbd-7fca4153d7d4",
    "msgId": "9a5e007b-fca8-46d7-bc1f-9399ceb3d1f2",
    "sessionId": "1e7bd890-6246-4f0a-b04a-c748d161d0fe"
   },
   {
    "cellId": "00162-ada3798e-2009-4f25-8af3-4626674aa6bd",
    "msgId": "66a422eb-18a1-4ea4-9cd9-fa508d738e35",
    "sessionId": "1e7bd890-6246-4f0a-b04a-c748d161d0fe"
   },
   {
    "cellId": "00170-b22740c6-50cf-4e21-9897-efcde80fba6f",
    "msgId": "2c05b753-7179-492f-9a2d-5e0aeda3b872",
    "sessionId": "1e7bd890-6246-4f0a-b04a-c748d161d0fe"
   },
   {
    "cellId": "00170-2a50d390-5085-4acd-9bad-9a15ed535f87",
    "msgId": "e17aaf2d-4ecf-4c5a-ae56-e5f0b1ae4158",
    "sessionId": "1e7bd890-6246-4f0a-b04a-c748d161d0fe"
   },
   {
    "cellId": "00170-d667d4db-b39f-43bf-8ba9-57e13c48bc47",
    "msgId": "0ecaf965-d32c-499d-96c1-e80000728ab6",
    "sessionId": "1e7bd890-6246-4f0a-b04a-c748d161d0fe"
   },
   {
    "cellId": "00173-505016dd-d6f3-40d0-a360-54c50e7f2abd",
    "msgId": "b3f6b5dc-6875-48f2-9a75-779370b02e40",
    "sessionId": "1e7bd890-6246-4f0a-b04a-c748d161d0fe"
   },
   {
    "cellId": "00174-589d4b7c-8485-4321-809d-db22e4737c58",
    "msgId": "a0e3fabe-6ee7-4aad-af44-f2057404f825",
    "sessionId": "1e7bd890-6246-4f0a-b04a-c748d161d0fe"
   },
   {
    "cellId": "00177-8aa51f01-f866-4532-8a69-e69dcd7ffa47",
    "msgId": "7a4c68d2-ba03-4404-ad5a-1b90308caddc",
    "sessionId": "1e7bd890-6246-4f0a-b04a-c748d161d0fe"
   },
   {
    "cellId": "00178-7cc2933d-be40-4b1d-8226-1af1025dc2d5",
    "msgId": "44029549-c32c-467b-8152-ca42cffa6f03",
    "sessionId": "1e7bd890-6246-4f0a-b04a-c748d161d0fe"
   },
   {
    "cellId": "00179-0ec23a3a-7110-445d-8376-1ed11fe80b6e",
    "msgId": "0b0bdf29-a233-4092-8df8-143b7024ee7c",
    "sessionId": "1e7bd890-6246-4f0a-b04a-c748d161d0fe"
   },
   {
    "cellId": "00180-7e752bc7-efc0-42ca-9f4a-e960154b949f",
    "msgId": "c607e34d-7881-4f94-ae19-5d7874c8a0a8",
    "sessionId": "1e7bd890-6246-4f0a-b04a-c748d161d0fe"
   },
   {
    "cellId": "00181-5fd37e86-d93c-455a-afd0-d07889ba9e84",
    "msgId": "39d3c624-0f19-4eb5-bd5c-db8d57f018f3",
    "sessionId": "1e7bd890-6246-4f0a-b04a-c748d161d0fe"
   },
   {
    "cellId": "00182-a3178e97-ad12-4108-a5e7-57829b1d6f2d",
    "msgId": "2acacd78-636c-4636-bcd9-c273f6ad2345",
    "sessionId": "1e7bd890-6246-4f0a-b04a-c748d161d0fe"
   },
   {
    "cellId": "00141-bd623fca-7543-486c-9c7a-1d9613cbe7b5",
    "msgId": "91f8e7e9-9ba4-4040-8735-9ffcd7df157f",
    "sessionId": "1e7bd890-6246-4f0a-b04a-c748d161d0fe"
   },
   {
    "cellId": "00242-c25d8ef4-0241-488d-b9ea-1e2ec4be60e8",
    "msgId": "d6a74d1a-cbd3-41c6-b2dd-67f623854985",
    "sessionId": "1e7bd890-6246-4f0a-b04a-c748d161d0fe"
   },
   {
    "cellId": "00239-ccd21732-c7f1-4b58-b20f-857a9cc83cde",
    "msgId": "ad43d094-d8ac-4808-85f4-b212cbf2e3d2",
    "sessionId": "1e7bd890-6246-4f0a-b04a-c748d161d0fe"
   },
   {
    "cellId": "00240-0eae126e-42c1-4f58-867e-24227b32a31b",
    "msgId": "9e5fa7a4-6e56-4559-bd3d-3f1f08861b1b",
    "sessionId": "1e7bd890-6246-4f0a-b04a-c748d161d0fe"
   },
   {
    "cellId": "00240-9e54c63b-f8d3-4eaf-b99f-89dc4ab79ca4",
    "msgId": "8ed6a181-9cbf-41bc-b654-d7643ab32cbb",
    "sessionId": "1e7bd890-6246-4f0a-b04a-c748d161d0fe"
   },
   {
    "cellId": "00241-f051f9b8-c5ca-4d57-99bf-5c5e94344349",
    "msgId": "1a7ad357-012d-496b-8050-9b3da4ba210a",
    "sessionId": "1e7bd890-6246-4f0a-b04a-c748d161d0fe"
   },
   {
    "cellId": "00246-962a73b0-3e57-453d-866a-3510280d9fc7",
    "msgId": "74618bb9-4e9f-4e35-bdcf-79ed5daec0cc",
    "sessionId": "1e7bd890-6246-4f0a-b04a-c748d161d0fe"
   },
   {
    "cellId": "00247-f7dd47ec-3e2c-4283-9280-4a522a0d6b3a",
    "msgId": "1a27535a-c6de-4d18-a10a-4e39181bb0ee",
    "sessionId": "1e7bd890-6246-4f0a-b04a-c748d161d0fe"
   }
  ],
  "deepnote_notebook_id": "0d715971-2480-4c00-96f6-95b09e59177f",
  "kernelspec": {
   "display_name": "Python 3",
   "language": "python",
   "name": "python3"
  },
  "language_info": {
   "codemirror_mode": {
    "name": "ipython",
    "version": 3
   },
   "file_extension": ".py",
   "mimetype": "text/x-python",
   "name": "python",
   "nbconvert_exporter": "python",
   "pygments_lexer": "ipython3",
   "version": "3.8.8"
  }
 },
 "nbformat": 4,
 "nbformat_minor": 4
}
