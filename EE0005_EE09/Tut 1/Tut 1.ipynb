{
 "cells": [
  {
   "cell_type": "markdown",
   "id": "1bdfce17",
   "metadata": {},
   "source": [
    "#### Import Libraries"
   ]
  },
  {
   "cell_type": "code",
   "execution_count": 7,
   "id": "9fa30c56",
   "metadata": {},
   "outputs": [],
   "source": [
    "import numpy as np\n",
    "import pandas as pd\n",
    "import seaborn as sb\n",
    "import matplotlib.pyplot as plt"
   ]
  },
  {
   "cell_type": "code",
   "execution_count": 11,
   "id": "96c81c9b",
   "metadata": {},
   "outputs": [
    {
     "name": "stdout",
     "output_type": "stream",
     "text": [
      "captainhook@neverland.com\n",
      "cleopatra@pharaoh.org\n",
      "d.vader@empire.net\n",
      "alice@wonderland.co.uk\n",
      "alice@wonderland.co.uk\n",
      "alice@wonderland.co.uk\n",
      "\n",
      "\n"
     ]
    }
   ],
   "source": [
    "try:\n",
    "    f = open(\"blocKlist.txt\", \"r\")\n",
    "    print(f.read())\n",
    "    \n",
    "except:\n",
    "    print('FILENOTFOUNDERROR')"
   ]
  },
  {
   "cell_type": "code",
   "execution_count": null,
   "id": "805e2abd",
   "metadata": {},
   "outputs": [],
   "source": []
  }
 ],
 "metadata": {
  "kernelspec": {
   "display_name": "Python 3",
   "language": "python",
   "name": "python3"
  },
  "language_info": {
   "codemirror_mode": {
    "name": "ipython",
    "version": 3
   },
   "file_extension": ".py",
   "mimetype": "text/x-python",
   "name": "python",
   "nbconvert_exporter": "python",
   "pygments_lexer": "ipython3",
   "version": "3.8.8"
  }
 },
 "nbformat": 4,
 "nbformat_minor": 5
}
